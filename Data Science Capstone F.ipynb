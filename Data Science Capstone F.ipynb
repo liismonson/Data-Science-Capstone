{
 "cells": [
  {
   "cell_type": "markdown",
   "metadata": {},
   "source": [
    "This notebook represents my work on Coursera Data Science Professional Certificate Capstone project. \n",
    "The aim of the project is to choose a publicly available data set with traffic accident data, and create a ML model based on it for predicting the severity of any potential accident."
   ]
  },
  {
   "cell_type": "code",
   "execution_count": 1,
   "metadata": {},
   "outputs": [],
   "source": [
    "# import libraries\n",
    "import numpy as np\n",
    "import matplotlib.pyplot as plt\n",
    "import pandas as pd\n",
    "%matplotlib inline"
   ]
  },
  {
   "cell_type": "code",
   "execution_count": 2,
   "metadata": {},
   "outputs": [
    {
     "name": "stdout",
     "output_type": "stream",
     "text": [
      "Hello Capstone Project Course!\n"
     ]
    }
   ],
   "source": [
    "print('Hello Capstone Project Course!')"
   ]
  },
  {
   "cell_type": "markdown",
   "metadata": {},
   "source": [
    "# Predicting Accident Severity"
   ]
  },
  {
   "cell_type": "markdown",
   "metadata": {},
   "source": [
    "## Overview of the original data"
   ]
  },
  {
   "cell_type": "markdown",
   "metadata": {},
   "source": [
    "For building the model, the traffic accident data from UK government from 2018 for Leeds is used. This is publicly available data set."
   ]
  },
  {
   "cell_type": "code",
   "execution_count": 3,
   "metadata": {},
   "outputs": [],
   "source": [
    "df_2018 = pd.read_csv('https://query.data.world/s/ltzs6dkwyzm7qem2cdbc4vrocal5nq')"
   ]
  },
  {
   "cell_type": "code",
   "execution_count": 4,
   "metadata": {},
   "outputs": [
    {
     "data": {
      "text/plain": [
       "(1995, 21)"
      ]
     },
     "execution_count": 4,
     "metadata": {},
     "output_type": "execute_result"
    }
   ],
   "source": [
    "df_2018.shape"
   ]
  },
  {
   "cell_type": "code",
   "execution_count": 5,
   "metadata": {},
   "outputs": [
    {
     "data": {
      "text/html": [
       "<div>\n",
       "<style scoped>\n",
       "    .dataframe tbody tr th:only-of-type {\n",
       "        vertical-align: middle;\n",
       "    }\n",
       "\n",
       "    .dataframe tbody tr th {\n",
       "        vertical-align: top;\n",
       "    }\n",
       "\n",
       "    .dataframe thead th {\n",
       "        text-align: right;\n",
       "    }\n",
       "</style>\n",
       "<table border=\"1\" class=\"dataframe\">\n",
       "  <thead>\n",
       "    <tr style=\"text-align: right;\">\n",
       "      <th></th>\n",
       "      <th>Accident Fields_Reference Number</th>\n",
       "      <th>Grid Ref: Easting</th>\n",
       "      <th>Grid Ref: Northing</th>\n",
       "      <th>Number of Vehicles</th>\n",
       "      <th>Accident Date</th>\n",
       "      <th>Time (24hr)</th>\n",
       "      <th>1st Road Class</th>\n",
       "      <th>1st Road Class &amp; No</th>\n",
       "      <th>Road Surface</th>\n",
       "      <th>Lighting Conditions</th>\n",
       "      <th>...</th>\n",
       "      <th>Local Authority</th>\n",
       "      <th>Vehicle Fields_Reference Number</th>\n",
       "      <th>Vehicle Number</th>\n",
       "      <th>Type of Vehicle</th>\n",
       "      <th>Casualty Fields_Reference Number</th>\n",
       "      <th>Casualty Veh No</th>\n",
       "      <th>Casualty Class</th>\n",
       "      <th>Casualty Severity</th>\n",
       "      <th>Sex of Casualty</th>\n",
       "      <th>Age of Casualty</th>\n",
       "    </tr>\n",
       "  </thead>\n",
       "  <tbody>\n",
       "    <tr>\n",
       "      <th>0</th>\n",
       "      <td>51B0230</td>\n",
       "      <td>433936</td>\n",
       "      <td>428874</td>\n",
       "      <td>1</td>\n",
       "      <td>11/01/2018</td>\n",
       "      <td>700</td>\n",
       "      <td>6</td>\n",
       "      <td>U</td>\n",
       "      <td>1</td>\n",
       "      <td>4</td>\n",
       "      <td>...</td>\n",
       "      <td>E08000035</td>\n",
       "      <td>51B0230</td>\n",
       "      <td>1</td>\n",
       "      <td>9</td>\n",
       "      <td>51B0230</td>\n",
       "      <td>1</td>\n",
       "      <td>3</td>\n",
       "      <td>3</td>\n",
       "      <td>2</td>\n",
       "      <td>87</td>\n",
       "    </tr>\n",
       "    <tr>\n",
       "      <th>1</th>\n",
       "      <td>51B0349</td>\n",
       "      <td>430076</td>\n",
       "      <td>433872</td>\n",
       "      <td>1</td>\n",
       "      <td>11/01/2018</td>\n",
       "      <td>855</td>\n",
       "      <td>6</td>\n",
       "      <td>U</td>\n",
       "      <td>2</td>\n",
       "      <td>1</td>\n",
       "      <td>...</td>\n",
       "      <td>E08000035</td>\n",
       "      <td>51B0349</td>\n",
       "      <td>1</td>\n",
       "      <td>11</td>\n",
       "      <td>51B0349</td>\n",
       "      <td>1</td>\n",
       "      <td>2</td>\n",
       "      <td>3</td>\n",
       "      <td>2</td>\n",
       "      <td>60</td>\n",
       "    </tr>\n",
       "    <tr>\n",
       "      <th>2</th>\n",
       "      <td>51B0349</td>\n",
       "      <td>430076</td>\n",
       "      <td>433872</td>\n",
       "      <td>1</td>\n",
       "      <td>11/01/2018</td>\n",
       "      <td>855</td>\n",
       "      <td>6</td>\n",
       "      <td>U</td>\n",
       "      <td>2</td>\n",
       "      <td>1</td>\n",
       "      <td>...</td>\n",
       "      <td>E08000035</td>\n",
       "      <td>51B0349</td>\n",
       "      <td>1</td>\n",
       "      <td>11</td>\n",
       "      <td>51B0349</td>\n",
       "      <td>1</td>\n",
       "      <td>2</td>\n",
       "      <td>3</td>\n",
       "      <td>2</td>\n",
       "      <td>51</td>\n",
       "    </tr>\n",
       "    <tr>\n",
       "      <th>3</th>\n",
       "      <td>51B0349</td>\n",
       "      <td>430076</td>\n",
       "      <td>433872</td>\n",
       "      <td>1</td>\n",
       "      <td>11/01/2018</td>\n",
       "      <td>855</td>\n",
       "      <td>6</td>\n",
       "      <td>U</td>\n",
       "      <td>2</td>\n",
       "      <td>1</td>\n",
       "      <td>...</td>\n",
       "      <td>E08000035</td>\n",
       "      <td>51B0349</td>\n",
       "      <td>1</td>\n",
       "      <td>11</td>\n",
       "      <td>51B0349</td>\n",
       "      <td>1</td>\n",
       "      <td>2</td>\n",
       "      <td>3</td>\n",
       "      <td>2</td>\n",
       "      <td>50</td>\n",
       "    </tr>\n",
       "    <tr>\n",
       "      <th>4</th>\n",
       "      <td>51B0349</td>\n",
       "      <td>430076</td>\n",
       "      <td>433872</td>\n",
       "      <td>1</td>\n",
       "      <td>11/01/2018</td>\n",
       "      <td>855</td>\n",
       "      <td>6</td>\n",
       "      <td>U</td>\n",
       "      <td>2</td>\n",
       "      <td>1</td>\n",
       "      <td>...</td>\n",
       "      <td>E08000035</td>\n",
       "      <td>51B0349</td>\n",
       "      <td>1</td>\n",
       "      <td>11</td>\n",
       "      <td>51B0349</td>\n",
       "      <td>1</td>\n",
       "      <td>2</td>\n",
       "      <td>3</td>\n",
       "      <td>2</td>\n",
       "      <td>51</td>\n",
       "    </tr>\n",
       "  </tbody>\n",
       "</table>\n",
       "<p>5 rows × 21 columns</p>\n",
       "</div>"
      ],
      "text/plain": [
       "  Accident Fields_Reference Number  Grid Ref: Easting  Grid Ref: Northing  \\\n",
       "0                          51B0230             433936              428874   \n",
       "1                          51B0349             430076              433872   \n",
       "2                          51B0349             430076              433872   \n",
       "3                          51B0349             430076              433872   \n",
       "4                          51B0349             430076              433872   \n",
       "\n",
       "   Number of Vehicles Accident Date  Time (24hr)  1st Road Class  \\\n",
       "0                   1    11/01/2018          700               6   \n",
       "1                   1    11/01/2018          855               6   \n",
       "2                   1    11/01/2018          855               6   \n",
       "3                   1    11/01/2018          855               6   \n",
       "4                   1    11/01/2018          855               6   \n",
       "\n",
       "  1st Road Class & No  Road Surface  Lighting Conditions  ...  \\\n",
       "0                   U             1                    4  ...   \n",
       "1                   U             2                    1  ...   \n",
       "2                   U             2                    1  ...   \n",
       "3                   U             2                    1  ...   \n",
       "4                   U             2                    1  ...   \n",
       "\n",
       "   Local Authority Vehicle Fields_Reference Number Vehicle Number  \\\n",
       "0        E08000035                         51B0230              1   \n",
       "1        E08000035                         51B0349              1   \n",
       "2        E08000035                         51B0349              1   \n",
       "3        E08000035                         51B0349              1   \n",
       "4        E08000035                         51B0349              1   \n",
       "\n",
       "   Type of Vehicle  Casualty Fields_Reference Number Casualty Veh No  \\\n",
       "0                9                           51B0230               1   \n",
       "1               11                           51B0349               1   \n",
       "2               11                           51B0349               1   \n",
       "3               11                           51B0349               1   \n",
       "4               11                           51B0349               1   \n",
       "\n",
       "   Casualty Class  Casualty Severity  Sex of Casualty  Age of Casualty  \n",
       "0               3                  3                2               87  \n",
       "1               2                  3                2               60  \n",
       "2               2                  3                2               51  \n",
       "3               2                  3                2               50  \n",
       "4               2                  3                2               51  \n",
       "\n",
       "[5 rows x 21 columns]"
      ]
     },
     "execution_count": 5,
     "metadata": {},
     "output_type": "execute_result"
    }
   ],
   "source": [
    "df_2018.head()"
   ]
  },
  {
   "cell_type": "code",
   "execution_count": 6,
   "metadata": {},
   "outputs": [
    {
     "data": {
      "text/plain": [
       "Index(['Accident Fields_Reference Number', 'Grid Ref: Easting',\n",
       "       'Grid Ref: Northing', 'Number of Vehicles', 'Accident Date',\n",
       "       'Time (24hr)', '1st Road Class', '1st Road Class & No', 'Road Surface',\n",
       "       'Lighting Conditions', 'Weather Conditions', 'Local Authority',\n",
       "       'Vehicle Fields_Reference Number', 'Vehicle Number', 'Type of Vehicle',\n",
       "       'Casualty Fields_Reference Number', 'Casualty Veh No', 'Casualty Class',\n",
       "       'Casualty Severity', 'Sex of Casualty', 'Age of Casualty'],\n",
       "      dtype='object')"
      ]
     },
     "execution_count": 6,
     "metadata": {},
     "output_type": "execute_result"
    }
   ],
   "source": [
    "df_2018.columns"
   ]
  },
  {
   "cell_type": "code",
   "execution_count": 7,
   "metadata": {},
   "outputs": [
    {
     "data": {
      "text/plain": [
       "Accident Fields_Reference Number    object\n",
       "Grid Ref: Easting                    int64\n",
       "Grid Ref: Northing                   int64\n",
       "Number of Vehicles                   int64\n",
       "Accident Date                       object\n",
       "Time (24hr)                          int64\n",
       "1st Road Class                       int64\n",
       "1st Road Class & No                 object\n",
       "Road Surface                         int64\n",
       "Lighting Conditions                  int64\n",
       "Weather Conditions                   int64\n",
       "Local Authority                     object\n",
       "Vehicle Fields_Reference Number     object\n",
       "Vehicle Number                       int64\n",
       "Type of Vehicle                      int64\n",
       "Casualty Fields_Reference Number    object\n",
       "Casualty Veh No                      int64\n",
       "Casualty Class                       int64\n",
       "Casualty Severity                    int64\n",
       "Sex of Casualty                      int64\n",
       "Age of Casualty                      int64\n",
       "dtype: object"
      ]
     },
     "execution_count": 7,
     "metadata": {},
     "output_type": "execute_result"
    }
   ],
   "source": [
    "df_2018.dtypes"
   ]
  },
  {
   "cell_type": "code",
   "execution_count": 8,
   "metadata": {},
   "outputs": [
    {
     "data": {
      "text/html": [
       "<div>\n",
       "<style scoped>\n",
       "    .dataframe tbody tr th:only-of-type {\n",
       "        vertical-align: middle;\n",
       "    }\n",
       "\n",
       "    .dataframe tbody tr th {\n",
       "        vertical-align: top;\n",
       "    }\n",
       "\n",
       "    .dataframe thead th {\n",
       "        text-align: right;\n",
       "    }\n",
       "</style>\n",
       "<table border=\"1\" class=\"dataframe\">\n",
       "  <thead>\n",
       "    <tr style=\"text-align: right;\">\n",
       "      <th></th>\n",
       "      <th>Accident Fields_Reference Number</th>\n",
       "      <th>Number of Vehicles</th>\n",
       "      <th>Accident Date</th>\n",
       "      <th>Time (24hr)</th>\n",
       "      <th>Age of Casualty</th>\n",
       "    </tr>\n",
       "  </thead>\n",
       "  <tbody>\n",
       "    <tr>\n",
       "      <th>count</th>\n",
       "      <td>1995</td>\n",
       "      <td>1995.000000</td>\n",
       "      <td>1995</td>\n",
       "      <td>1995.000000</td>\n",
       "      <td>1995.000000</td>\n",
       "    </tr>\n",
       "    <tr>\n",
       "      <th>unique</th>\n",
       "      <td>1548</td>\n",
       "      <td>NaN</td>\n",
       "      <td>354</td>\n",
       "      <td>NaN</td>\n",
       "      <td>NaN</td>\n",
       "    </tr>\n",
       "    <tr>\n",
       "      <th>top</th>\n",
       "      <td>58K1318</td>\n",
       "      <td>NaN</td>\n",
       "      <td>30/06/2018</td>\n",
       "      <td>NaN</td>\n",
       "      <td>NaN</td>\n",
       "    </tr>\n",
       "    <tr>\n",
       "      <th>freq</th>\n",
       "      <td>9</td>\n",
       "      <td>NaN</td>\n",
       "      <td>19</td>\n",
       "      <td>NaN</td>\n",
       "      <td>NaN</td>\n",
       "    </tr>\n",
       "    <tr>\n",
       "      <th>mean</th>\n",
       "      <td>NaN</td>\n",
       "      <td>1.919298</td>\n",
       "      <td>NaN</td>\n",
       "      <td>1409.368421</td>\n",
       "      <td>36.993985</td>\n",
       "    </tr>\n",
       "    <tr>\n",
       "      <th>std</th>\n",
       "      <td>NaN</td>\n",
       "      <td>0.723584</td>\n",
       "      <td>NaN</td>\n",
       "      <td>505.175755</td>\n",
       "      <td>18.856635</td>\n",
       "    </tr>\n",
       "    <tr>\n",
       "      <th>min</th>\n",
       "      <td>NaN</td>\n",
       "      <td>1.000000</td>\n",
       "      <td>NaN</td>\n",
       "      <td>0.000000</td>\n",
       "      <td>1.000000</td>\n",
       "    </tr>\n",
       "    <tr>\n",
       "      <th>25%</th>\n",
       "      <td>NaN</td>\n",
       "      <td>1.000000</td>\n",
       "      <td>NaN</td>\n",
       "      <td>1047.500000</td>\n",
       "      <td>23.000000</td>\n",
       "    </tr>\n",
       "    <tr>\n",
       "      <th>50%</th>\n",
       "      <td>NaN</td>\n",
       "      <td>2.000000</td>\n",
       "      <td>NaN</td>\n",
       "      <td>1503.000000</td>\n",
       "      <td>35.000000</td>\n",
       "    </tr>\n",
       "    <tr>\n",
       "      <th>75%</th>\n",
       "      <td>NaN</td>\n",
       "      <td>2.000000</td>\n",
       "      <td>NaN</td>\n",
       "      <td>1754.000000</td>\n",
       "      <td>50.000000</td>\n",
       "    </tr>\n",
       "    <tr>\n",
       "      <th>max</th>\n",
       "      <td>NaN</td>\n",
       "      <td>7.000000</td>\n",
       "      <td>NaN</td>\n",
       "      <td>2357.000000</td>\n",
       "      <td>95.000000</td>\n",
       "    </tr>\n",
       "  </tbody>\n",
       "</table>\n",
       "</div>"
      ],
      "text/plain": [
       "       Accident Fields_Reference Number  Number of Vehicles Accident Date  \\\n",
       "count                              1995         1995.000000          1995   \n",
       "unique                             1548                 NaN           354   \n",
       "top                             58K1318                 NaN    30/06/2018   \n",
       "freq                                  9                 NaN            19   \n",
       "mean                                NaN            1.919298           NaN   \n",
       "std                                 NaN            0.723584           NaN   \n",
       "min                                 NaN            1.000000           NaN   \n",
       "25%                                 NaN            1.000000           NaN   \n",
       "50%                                 NaN            2.000000           NaN   \n",
       "75%                                 NaN            2.000000           NaN   \n",
       "max                                 NaN            7.000000           NaN   \n",
       "\n",
       "        Time (24hr)  Age of Casualty  \n",
       "count   1995.000000      1995.000000  \n",
       "unique          NaN              NaN  \n",
       "top             NaN              NaN  \n",
       "freq            NaN              NaN  \n",
       "mean    1409.368421        36.993985  \n",
       "std      505.175755        18.856635  \n",
       "min        0.000000         1.000000  \n",
       "25%     1047.500000        23.000000  \n",
       "50%     1503.000000        35.000000  \n",
       "75%     1754.000000        50.000000  \n",
       "max     2357.000000        95.000000  "
      ]
     },
     "execution_count": 8,
     "metadata": {},
     "output_type": "execute_result"
    }
   ],
   "source": [
    "# run a 'describe' funtion on non-categorical features\n",
    "df_2018[['Accident Fields_Reference Number','Number of Vehicles','Accident Date','Time (24hr)','Age of Casualty']].describe(include='all')"
   ]
  },
  {
   "cell_type": "code",
   "execution_count": 9,
   "metadata": {},
   "outputs": [
    {
     "data": {
      "text/html": [
       "<div>\n",
       "<style scoped>\n",
       "    .dataframe tbody tr th:only-of-type {\n",
       "        vertical-align: middle;\n",
       "    }\n",
       "\n",
       "    .dataframe tbody tr th {\n",
       "        vertical-align: top;\n",
       "    }\n",
       "\n",
       "    .dataframe thead th {\n",
       "        text-align: right;\n",
       "    }\n",
       "</style>\n",
       "<table border=\"1\" class=\"dataframe\">\n",
       "  <thead>\n",
       "    <tr style=\"text-align: right;\">\n",
       "      <th></th>\n",
       "      <th>Feature Group</th>\n",
       "      <th>Code</th>\n",
       "      <th>Description</th>\n",
       "    </tr>\n",
       "  </thead>\n",
       "  <tbody>\n",
       "    <tr>\n",
       "      <th>0</th>\n",
       "      <td>1st Road Class</td>\n",
       "      <td>1</td>\n",
       "      <td>Motorway</td>\n",
       "    </tr>\n",
       "    <tr>\n",
       "      <th>1</th>\n",
       "      <td>1st Road Class</td>\n",
       "      <td>2</td>\n",
       "      <td>A(M)</td>\n",
       "    </tr>\n",
       "    <tr>\n",
       "      <th>2</th>\n",
       "      <td>1st Road Class</td>\n",
       "      <td>3</td>\n",
       "      <td>A</td>\n",
       "    </tr>\n",
       "    <tr>\n",
       "      <th>3</th>\n",
       "      <td>1st Road Class</td>\n",
       "      <td>4</td>\n",
       "      <td>B</td>\n",
       "    </tr>\n",
       "    <tr>\n",
       "      <th>4</th>\n",
       "      <td>1st Road Class</td>\n",
       "      <td>5</td>\n",
       "      <td>C</td>\n",
       "    </tr>\n",
       "    <tr>\n",
       "      <th>5</th>\n",
       "      <td>1st Road Class</td>\n",
       "      <td>6</td>\n",
       "      <td>Unclassified</td>\n",
       "    </tr>\n",
       "    <tr>\n",
       "      <th>6</th>\n",
       "      <td>Road Surface</td>\n",
       "      <td>1</td>\n",
       "      <td>Dry</td>\n",
       "    </tr>\n",
       "    <tr>\n",
       "      <th>7</th>\n",
       "      <td>Road Surface</td>\n",
       "      <td>2</td>\n",
       "      <td>Wet / Damp</td>\n",
       "    </tr>\n",
       "    <tr>\n",
       "      <th>8</th>\n",
       "      <td>Road Surface</td>\n",
       "      <td>3</td>\n",
       "      <td>Snow</td>\n",
       "    </tr>\n",
       "    <tr>\n",
       "      <th>9</th>\n",
       "      <td>Road Surface</td>\n",
       "      <td>4</td>\n",
       "      <td>Frost / Ice</td>\n",
       "    </tr>\n",
       "    <tr>\n",
       "      <th>10</th>\n",
       "      <td>Road Surface</td>\n",
       "      <td>5</td>\n",
       "      <td>Flood (surface water over 3cm deep)</td>\n",
       "    </tr>\n",
       "    <tr>\n",
       "      <th>11</th>\n",
       "      <td>Lighting Conditions</td>\n",
       "      <td>1</td>\n",
       "      <td>Daylight: street lights present</td>\n",
       "    </tr>\n",
       "    <tr>\n",
       "      <th>12</th>\n",
       "      <td>Lighting Conditions</td>\n",
       "      <td>2</td>\n",
       "      <td>Daylight: no street lighting</td>\n",
       "    </tr>\n",
       "    <tr>\n",
       "      <th>13</th>\n",
       "      <td>Lighting Conditions</td>\n",
       "      <td>3</td>\n",
       "      <td>Daylight: street lighting unknown</td>\n",
       "    </tr>\n",
       "    <tr>\n",
       "      <th>14</th>\n",
       "      <td>Lighting Conditions</td>\n",
       "      <td>4</td>\n",
       "      <td>Darkness: street lights present and lit</td>\n",
       "    </tr>\n",
       "    <tr>\n",
       "      <th>15</th>\n",
       "      <td>Lighting Conditions</td>\n",
       "      <td>5</td>\n",
       "      <td>Darkness: street lights present but unlit</td>\n",
       "    </tr>\n",
       "    <tr>\n",
       "      <th>16</th>\n",
       "      <td>Lighting Conditions</td>\n",
       "      <td>6</td>\n",
       "      <td>Darkness: no street lighting</td>\n",
       "    </tr>\n",
       "    <tr>\n",
       "      <th>17</th>\n",
       "      <td>Lighting Conditions</td>\n",
       "      <td>7</td>\n",
       "      <td>Darkness: street lighting unknown</td>\n",
       "    </tr>\n",
       "    <tr>\n",
       "      <th>18</th>\n",
       "      <td>Weather Conditions</td>\n",
       "      <td>1</td>\n",
       "      <td>Fine without high winds</td>\n",
       "    </tr>\n",
       "    <tr>\n",
       "      <th>19</th>\n",
       "      <td>Weather Conditions</td>\n",
       "      <td>2</td>\n",
       "      <td>Raining without high winds</td>\n",
       "    </tr>\n",
       "    <tr>\n",
       "      <th>20</th>\n",
       "      <td>Weather Conditions</td>\n",
       "      <td>3</td>\n",
       "      <td>Snowing without high winds</td>\n",
       "    </tr>\n",
       "    <tr>\n",
       "      <th>21</th>\n",
       "      <td>Weather Conditions</td>\n",
       "      <td>4</td>\n",
       "      <td>Fine with high winds</td>\n",
       "    </tr>\n",
       "    <tr>\n",
       "      <th>22</th>\n",
       "      <td>Weather Conditions</td>\n",
       "      <td>5</td>\n",
       "      <td>Raining with high winds</td>\n",
       "    </tr>\n",
       "    <tr>\n",
       "      <th>23</th>\n",
       "      <td>Weather Conditions</td>\n",
       "      <td>6</td>\n",
       "      <td>Snowing with high winds</td>\n",
       "    </tr>\n",
       "    <tr>\n",
       "      <th>24</th>\n",
       "      <td>Weather Conditions</td>\n",
       "      <td>7</td>\n",
       "      <td>Fog or mist – if hazard</td>\n",
       "    </tr>\n",
       "    <tr>\n",
       "      <th>25</th>\n",
       "      <td>Weather Conditions</td>\n",
       "      <td>8</td>\n",
       "      <td>Other</td>\n",
       "    </tr>\n",
       "    <tr>\n",
       "      <th>26</th>\n",
       "      <td>Weather Conditions</td>\n",
       "      <td>9</td>\n",
       "      <td>Unknown</td>\n",
       "    </tr>\n",
       "    <tr>\n",
       "      <th>27</th>\n",
       "      <td>Casualty Class</td>\n",
       "      <td>1</td>\n",
       "      <td>Driver or rider</td>\n",
       "    </tr>\n",
       "    <tr>\n",
       "      <th>28</th>\n",
       "      <td>Casualty Class</td>\n",
       "      <td>2</td>\n",
       "      <td>Vehicle or pillion passenger</td>\n",
       "    </tr>\n",
       "    <tr>\n",
       "      <th>29</th>\n",
       "      <td>Casualty Class</td>\n",
       "      <td>3</td>\n",
       "      <td>Pedestrian</td>\n",
       "    </tr>\n",
       "    <tr>\n",
       "      <th>30</th>\n",
       "      <td>Casualty Severity</td>\n",
       "      <td>1</td>\n",
       "      <td>Fatal</td>\n",
       "    </tr>\n",
       "    <tr>\n",
       "      <th>31</th>\n",
       "      <td>Casualty Severity</td>\n",
       "      <td>2</td>\n",
       "      <td>Serious</td>\n",
       "    </tr>\n",
       "    <tr>\n",
       "      <th>32</th>\n",
       "      <td>Casualty Severity</td>\n",
       "      <td>3</td>\n",
       "      <td>Slight</td>\n",
       "    </tr>\n",
       "    <tr>\n",
       "      <th>33</th>\n",
       "      <td>Sex of Casualty</td>\n",
       "      <td>1</td>\n",
       "      <td>Male</td>\n",
       "    </tr>\n",
       "    <tr>\n",
       "      <th>34</th>\n",
       "      <td>Sex of Casualty</td>\n",
       "      <td>2</td>\n",
       "      <td>Female</td>\n",
       "    </tr>\n",
       "    <tr>\n",
       "      <th>35</th>\n",
       "      <td>Type of Vehicle</td>\n",
       "      <td>1</td>\n",
       "      <td>Pedal cycle</td>\n",
       "    </tr>\n",
       "    <tr>\n",
       "      <th>36</th>\n",
       "      <td>Type of Vehicle</td>\n",
       "      <td>2</td>\n",
       "      <td>M/cycle 50cc and under</td>\n",
       "    </tr>\n",
       "    <tr>\n",
       "      <th>37</th>\n",
       "      <td>Type of Vehicle</td>\n",
       "      <td>3</td>\n",
       "      <td>Motorcycle over 50cc and up to 125cc</td>\n",
       "    </tr>\n",
       "    <tr>\n",
       "      <th>38</th>\n",
       "      <td>Type of Vehicle</td>\n",
       "      <td>4</td>\n",
       "      <td>Motorcycle over 125cc and up to 500cc</td>\n",
       "    </tr>\n",
       "    <tr>\n",
       "      <th>39</th>\n",
       "      <td>Type of Vehicle</td>\n",
       "      <td>5</td>\n",
       "      <td>Motorcycle over 500cc</td>\n",
       "    </tr>\n",
       "    <tr>\n",
       "      <th>40</th>\n",
       "      <td>Type of Vehicle</td>\n",
       "      <td>6</td>\n",
       "      <td>[Not used]</td>\n",
       "    </tr>\n",
       "    <tr>\n",
       "      <th>41</th>\n",
       "      <td>Type of Vehicle</td>\n",
       "      <td>7</td>\n",
       "      <td>[Not used]</td>\n",
       "    </tr>\n",
       "    <tr>\n",
       "      <th>42</th>\n",
       "      <td>Type of Vehicle</td>\n",
       "      <td>8</td>\n",
       "      <td>Taxi/Private hire car</td>\n",
       "    </tr>\n",
       "    <tr>\n",
       "      <th>43</th>\n",
       "      <td>Type of Vehicle</td>\n",
       "      <td>9</td>\n",
       "      <td>Car</td>\n",
       "    </tr>\n",
       "    <tr>\n",
       "      <th>44</th>\n",
       "      <td>Type of Vehicle</td>\n",
       "      <td>10</td>\n",
       "      <td>Minibus (8 – 16 passenger seats)</td>\n",
       "    </tr>\n",
       "    <tr>\n",
       "      <th>45</th>\n",
       "      <td>Type of Vehicle</td>\n",
       "      <td>11</td>\n",
       "      <td>Bus or coach (17 or more passenger seats)</td>\n",
       "    </tr>\n",
       "    <tr>\n",
       "      <th>46</th>\n",
       "      <td>Type of Vehicle</td>\n",
       "      <td>12</td>\n",
       "      <td>[Not used]</td>\n",
       "    </tr>\n",
       "    <tr>\n",
       "      <th>47</th>\n",
       "      <td>Type of Vehicle</td>\n",
       "      <td>13</td>\n",
       "      <td>[Not used]</td>\n",
       "    </tr>\n",
       "    <tr>\n",
       "      <th>48</th>\n",
       "      <td>Type of Vehicle</td>\n",
       "      <td>14</td>\n",
       "      <td>Other motor vehicle</td>\n",
       "    </tr>\n",
       "    <tr>\n",
       "      <th>49</th>\n",
       "      <td>Type of Vehicle</td>\n",
       "      <td>15</td>\n",
       "      <td>Other non-motor vehicle</td>\n",
       "    </tr>\n",
       "    <tr>\n",
       "      <th>50</th>\n",
       "      <td>Type of Vehicle</td>\n",
       "      <td>16</td>\n",
       "      <td>Ridden horse</td>\n",
       "    </tr>\n",
       "    <tr>\n",
       "      <th>51</th>\n",
       "      <td>Type of Vehicle</td>\n",
       "      <td>17</td>\n",
       "      <td>Agricultural vehicle (includes diggers etc.)</td>\n",
       "    </tr>\n",
       "    <tr>\n",
       "      <th>52</th>\n",
       "      <td>Type of Vehicle</td>\n",
       "      <td>18</td>\n",
       "      <td>Tram / Light rail</td>\n",
       "    </tr>\n",
       "    <tr>\n",
       "      <th>53</th>\n",
       "      <td>Type of Vehicle</td>\n",
       "      <td>19</td>\n",
       "      <td>Goods vehicle 3.5 tonnes mgw and under</td>\n",
       "    </tr>\n",
       "    <tr>\n",
       "      <th>54</th>\n",
       "      <td>Type of Vehicle</td>\n",
       "      <td>20</td>\n",
       "      <td>Goods vehicle over 3.5 tonnes and under 7.5 to...</td>\n",
       "    </tr>\n",
       "    <tr>\n",
       "      <th>55</th>\n",
       "      <td>Type of Vehicle</td>\n",
       "      <td>21</td>\n",
       "      <td>Goods vehicle 7.5 tonnes mgw and over</td>\n",
       "    </tr>\n",
       "    <tr>\n",
       "      <th>56</th>\n",
       "      <td>Type of Vehicle</td>\n",
       "      <td>22</td>\n",
       "      <td>Mobility Scooter</td>\n",
       "    </tr>\n",
       "    <tr>\n",
       "      <th>57</th>\n",
       "      <td>Type of Vehicle</td>\n",
       "      <td>90</td>\n",
       "      <td>Other Vehicle</td>\n",
       "    </tr>\n",
       "    <tr>\n",
       "      <th>58</th>\n",
       "      <td>Type of Vehicle</td>\n",
       "      <td>97</td>\n",
       "      <td>Motorcycle - Unknown CC</td>\n",
       "    </tr>\n",
       "  </tbody>\n",
       "</table>\n",
       "</div>"
      ],
      "text/plain": [
       "          Feature Group  Code  \\\n",
       "0        1st Road Class     1   \n",
       "1        1st Road Class     2   \n",
       "2        1st Road Class     3   \n",
       "3        1st Road Class     4   \n",
       "4        1st Road Class     5   \n",
       "5        1st Road Class     6   \n",
       "6          Road Surface     1   \n",
       "7          Road Surface     2   \n",
       "8          Road Surface     3   \n",
       "9          Road Surface     4   \n",
       "10         Road Surface     5   \n",
       "11  Lighting Conditions     1   \n",
       "12  Lighting Conditions     2   \n",
       "13  Lighting Conditions     3   \n",
       "14  Lighting Conditions     4   \n",
       "15  Lighting Conditions     5   \n",
       "16  Lighting Conditions     6   \n",
       "17  Lighting Conditions     7   \n",
       "18   Weather Conditions     1   \n",
       "19   Weather Conditions     2   \n",
       "20   Weather Conditions     3   \n",
       "21   Weather Conditions     4   \n",
       "22   Weather Conditions     5   \n",
       "23   Weather Conditions     6   \n",
       "24   Weather Conditions     7   \n",
       "25   Weather Conditions     8   \n",
       "26   Weather Conditions     9   \n",
       "27       Casualty Class     1   \n",
       "28       Casualty Class     2   \n",
       "29       Casualty Class     3   \n",
       "30    Casualty Severity     1   \n",
       "31    Casualty Severity     2   \n",
       "32    Casualty Severity     3   \n",
       "33      Sex of Casualty     1   \n",
       "34      Sex of Casualty     2   \n",
       "35      Type of Vehicle     1   \n",
       "36      Type of Vehicle     2   \n",
       "37      Type of Vehicle     3   \n",
       "38      Type of Vehicle     4   \n",
       "39      Type of Vehicle     5   \n",
       "40      Type of Vehicle     6   \n",
       "41      Type of Vehicle     7   \n",
       "42      Type of Vehicle     8   \n",
       "43      Type of Vehicle     9   \n",
       "44      Type of Vehicle    10   \n",
       "45      Type of Vehicle    11   \n",
       "46      Type of Vehicle    12   \n",
       "47      Type of Vehicle    13   \n",
       "48      Type of Vehicle    14   \n",
       "49      Type of Vehicle    15   \n",
       "50      Type of Vehicle    16   \n",
       "51      Type of Vehicle    17   \n",
       "52      Type of Vehicle    18   \n",
       "53      Type of Vehicle    19   \n",
       "54      Type of Vehicle    20   \n",
       "55      Type of Vehicle    21   \n",
       "56      Type of Vehicle    22   \n",
       "57      Type of Vehicle    90   \n",
       "58      Type of Vehicle    97   \n",
       "\n",
       "                                          Description  \n",
       "0                                            Motorway  \n",
       "1                                                A(M)  \n",
       "2                                                   A  \n",
       "3                                                   B  \n",
       "4                                                   C  \n",
       "5                                        Unclassified  \n",
       "6                                                 Dry  \n",
       "7                                          Wet / Damp  \n",
       "8                                                Snow  \n",
       "9                                         Frost / Ice  \n",
       "10                Flood (surface water over 3cm deep)  \n",
       "11                    Daylight: street lights present  \n",
       "12                       Daylight: no street lighting  \n",
       "13                  Daylight: street lighting unknown  \n",
       "14            Darkness: street lights present and lit  \n",
       "15          Darkness: street lights present but unlit  \n",
       "16                       Darkness: no street lighting  \n",
       "17                  Darkness: street lighting unknown  \n",
       "18                            Fine without high winds  \n",
       "19                         Raining without high winds  \n",
       "20                         Snowing without high winds  \n",
       "21                               Fine with high winds  \n",
       "22                            Raining with high winds  \n",
       "23                            Snowing with high winds  \n",
       "24                            Fog or mist – if hazard  \n",
       "25                                              Other  \n",
       "26                                            Unknown  \n",
       "27                                    Driver or rider  \n",
       "28                       Vehicle or pillion passenger  \n",
       "29                                         Pedestrian  \n",
       "30                                              Fatal  \n",
       "31                                            Serious  \n",
       "32                                             Slight  \n",
       "33                                               Male  \n",
       "34                                             Female  \n",
       "35                                        Pedal cycle  \n",
       "36                             M/cycle 50cc and under  \n",
       "37               Motorcycle over 50cc and up to 125cc  \n",
       "38              Motorcycle over 125cc and up to 500cc  \n",
       "39                              Motorcycle over 500cc  \n",
       "40                                         [Not used]  \n",
       "41                                         [Not used]  \n",
       "42                              Taxi/Private hire car  \n",
       "43                                                Car  \n",
       "44                   Minibus (8 – 16 passenger seats)  \n",
       "45          Bus or coach (17 or more passenger seats)  \n",
       "46                                         [Not used]  \n",
       "47                                         [Not used]  \n",
       "48                                Other motor vehicle  \n",
       "49                            Other non-motor vehicle  \n",
       "50                                       Ridden horse  \n",
       "51       Agricultural vehicle (includes diggers etc.)  \n",
       "52                                  Tram / Light rail  \n",
       "53             Goods vehicle 3.5 tonnes mgw and under  \n",
       "54  Goods vehicle over 3.5 tonnes and under 7.5 to...  \n",
       "55              Goods vehicle 7.5 tonnes mgw and over  \n",
       "56                                   Mobility Scooter  \n",
       "57                                      Other Vehicle  \n",
       "58                            Motorcycle - Unknown CC  "
      ]
     },
     "execution_count": 9,
     "metadata": {},
     "output_type": "execute_result"
    }
   ],
   "source": [
    "# review the descriptions file that accompanies the data csv file\n",
    "df_descriptions = pd.read_csv('https://query.data.world/s/gfafx3a433phshsqg47jukqisk5k6b')\n",
    "df_descriptions"
   ]
  },
  {
   "cell_type": "markdown",
   "metadata": {},
   "source": [
    "There are many column in the original data set that are not relevant or helpful to achieve the objective, like for example any internal reference numbers, hidden vehicle numbers, local authority dealing with accident etc"
   ]
  },
  {
   "cell_type": "code",
   "execution_count": 10,
   "metadata": {},
   "outputs": [
    {
     "data": {
      "text/html": [
       "<div>\n",
       "<style scoped>\n",
       "    .dataframe tbody tr th:only-of-type {\n",
       "        vertical-align: middle;\n",
       "    }\n",
       "\n",
       "    .dataframe tbody tr th {\n",
       "        vertical-align: top;\n",
       "    }\n",
       "\n",
       "    .dataframe thead th {\n",
       "        text-align: right;\n",
       "    }\n",
       "</style>\n",
       "<table border=\"1\" class=\"dataframe\">\n",
       "  <thead>\n",
       "    <tr style=\"text-align: right;\">\n",
       "      <th></th>\n",
       "      <th>Accident Ref No</th>\n",
       "      <th>Number of Vehicles</th>\n",
       "      <th>Accident Date</th>\n",
       "      <th>Time (24hr)</th>\n",
       "      <th>1st Road Class</th>\n",
       "      <th>Road Surface</th>\n",
       "      <th>Lighting Conditions</th>\n",
       "      <th>Weather Conditions</th>\n",
       "      <th>Type of Vehicle</th>\n",
       "      <th>Casualty Severity</th>\n",
       "      <th>Sex of Casualty</th>\n",
       "      <th>Age of Casualty</th>\n",
       "    </tr>\n",
       "  </thead>\n",
       "  <tbody>\n",
       "    <tr>\n",
       "      <th>0</th>\n",
       "      <td>51B0230</td>\n",
       "      <td>1</td>\n",
       "      <td>11/01/2018</td>\n",
       "      <td>700</td>\n",
       "      <td>6</td>\n",
       "      <td>1</td>\n",
       "      <td>4</td>\n",
       "      <td>1</td>\n",
       "      <td>9</td>\n",
       "      <td>3</td>\n",
       "      <td>2</td>\n",
       "      <td>87</td>\n",
       "    </tr>\n",
       "    <tr>\n",
       "      <th>1</th>\n",
       "      <td>51B0349</td>\n",
       "      <td>1</td>\n",
       "      <td>11/01/2018</td>\n",
       "      <td>855</td>\n",
       "      <td>6</td>\n",
       "      <td>2</td>\n",
       "      <td>1</td>\n",
       "      <td>1</td>\n",
       "      <td>11</td>\n",
       "      <td>3</td>\n",
       "      <td>2</td>\n",
       "      <td>60</td>\n",
       "    </tr>\n",
       "    <tr>\n",
       "      <th>2</th>\n",
       "      <td>51B0349</td>\n",
       "      <td>1</td>\n",
       "      <td>11/01/2018</td>\n",
       "      <td>855</td>\n",
       "      <td>6</td>\n",
       "      <td>2</td>\n",
       "      <td>1</td>\n",
       "      <td>1</td>\n",
       "      <td>11</td>\n",
       "      <td>3</td>\n",
       "      <td>2</td>\n",
       "      <td>51</td>\n",
       "    </tr>\n",
       "    <tr>\n",
       "      <th>3</th>\n",
       "      <td>51B0349</td>\n",
       "      <td>1</td>\n",
       "      <td>11/01/2018</td>\n",
       "      <td>855</td>\n",
       "      <td>6</td>\n",
       "      <td>2</td>\n",
       "      <td>1</td>\n",
       "      <td>1</td>\n",
       "      <td>11</td>\n",
       "      <td>3</td>\n",
       "      <td>2</td>\n",
       "      <td>50</td>\n",
       "    </tr>\n",
       "    <tr>\n",
       "      <th>4</th>\n",
       "      <td>51B0349</td>\n",
       "      <td>1</td>\n",
       "      <td>11/01/2018</td>\n",
       "      <td>855</td>\n",
       "      <td>6</td>\n",
       "      <td>2</td>\n",
       "      <td>1</td>\n",
       "      <td>1</td>\n",
       "      <td>11</td>\n",
       "      <td>3</td>\n",
       "      <td>2</td>\n",
       "      <td>51</td>\n",
       "    </tr>\n",
       "  </tbody>\n",
       "</table>\n",
       "</div>"
      ],
      "text/plain": [
       "  Accident Ref No  Number of Vehicles Accident Date  Time (24hr)  \\\n",
       "0         51B0230                   1    11/01/2018          700   \n",
       "1         51B0349                   1    11/01/2018          855   \n",
       "2         51B0349                   1    11/01/2018          855   \n",
       "3         51B0349                   1    11/01/2018          855   \n",
       "4         51B0349                   1    11/01/2018          855   \n",
       "\n",
       "   1st Road Class  Road Surface  Lighting Conditions  Weather Conditions  \\\n",
       "0               6             1                    4                   1   \n",
       "1               6             2                    1                   1   \n",
       "2               6             2                    1                   1   \n",
       "3               6             2                    1                   1   \n",
       "4               6             2                    1                   1   \n",
       "\n",
       "   Type of Vehicle  Casualty Severity  Sex of Casualty  Age of Casualty  \n",
       "0                9                  3                2               87  \n",
       "1               11                  3                2               60  \n",
       "2               11                  3                2               51  \n",
       "3               11                  3                2               50  \n",
       "4               11                  3                2               51  "
      ]
     },
     "execution_count": 10,
     "metadata": {},
     "output_type": "execute_result"
    }
   ],
   "source": [
    "# Drop columns that are not relevant for the data to simplify the data set\n",
    "df_2018.drop(columns=['Grid Ref: Easting',\n",
    "              'Grid Ref: Northing',\n",
    "              '1st Road Class & No',\n",
    "              'Local Authority',\n",
    "              'Vehicle Fields_Reference Number', \n",
    "              'Vehicle Number',\n",
    "              'Casualty Fields_Reference Number', \n",
    "              'Casualty Veh No',\n",
    "              'Casualty Class'],inplace=True)\n",
    "df_2018.rename(columns={'Accident Fields_Reference Number':'Accident Ref No'}, inplace=True)\n",
    "df_2018.head()"
   ]
  },
  {
   "cell_type": "markdown",
   "metadata": {},
   "source": [
    "## FEATURE BY FEATURE INSIGHTS"
   ]
  },
  {
   "cell_type": "code",
   "execution_count": 11,
   "metadata": {},
   "outputs": [],
   "source": [
    "import matplotlib as mpl\n",
    "import matplotlib.pyplot as plt\n",
    "import seaborn as sns\n",
    "%matplotlib inline "
   ]
  },
  {
   "cell_type": "markdown",
   "metadata": {},
   "source": [
    "### Casualty Severity"
   ]
  },
  {
   "cell_type": "markdown",
   "metadata": {},
   "source": [
    "Probably one of the most important features of the data set because Casualty Severity showing the extent of injuries is definitely a factor of assessing the severity of the accident"
   ]
  },
  {
   "cell_type": "code",
   "execution_count": 12,
   "metadata": {},
   "outputs": [
    {
     "data": {
      "text/plain": [
       "3    1658\n",
       "2     311\n",
       "1      26\n",
       "Name: Casualty Severity, dtype: int64"
      ]
     },
     "execution_count": 12,
     "metadata": {},
     "output_type": "execute_result"
    }
   ],
   "source": [
    "df_2018['Casualty Severity'].value_counts()"
   ]
  },
  {
   "cell_type": "code",
   "execution_count": 13,
   "metadata": {},
   "outputs": [],
   "source": [
    "## Add a column with severity description to dataset\n",
    "df_2018['Casualty Severity Description'] = np.where(df_2018['Casualty Severity'] == 1, 'Fatal Injuries', \n",
    "                                    np.where(df_2018['Casualty Severity'] == 2, 'Serious Injuries', \n",
    "                                    np.where(df_2018['Casualty Severity'] == 3, 'Light Injuries', 'NA'\n",
    "                                    )))"
   ]
  },
  {
   "cell_type": "code",
   "execution_count": 14,
   "metadata": {},
   "outputs": [
    {
     "data": {
      "image/png": "[encoded data removed]",
      "text/plain": [
       "<Figure size 432x288 with 1 Axes>"
      ]
     },
     "metadata": {
      "needs_background": "light"
     },
     "output_type": "display_data"
    }
   ],
   "source": [
    "sns.countplot(x='Casualty Severity Description', data=df_2018, color='lightseagreen')\n",
    "plt.title('Histogram of Severity of Accidents in 2018') \n",
    "plt.ylabel('Number of Casualities')\n",
    "plt.xlabel('Severity of Casualty')\n",
    "plt.show()"
   ]
  },
  {
   "cell_type": "code",
   "execution_count": 15,
   "metadata": {},
   "outputs": [
    {
     "data": {
      "text/plain": [
       "3    0.831078\n",
       "2    0.155890\n",
       "1    0.013033\n",
       "Name: Casualty Severity, dtype: float64"
      ]
     },
     "execution_count": 15,
     "metadata": {},
     "output_type": "execute_result"
    }
   ],
   "source": [
    "# how many of all the Casualty Severities are serious or fatal?\n",
    "df_2018['Casualty Severity'].value_counts(normalize=True)"
   ]
  },
  {
   "cell_type": "markdown",
   "metadata": {},
   "source": [
    "Because the number of Fatal Injuries is very small, I merged the Fatal and Serious Injuries together and called the category Serious or Fatal Injury.  \n",
    "I also turned the Casual Severity score around, where Light Injuries would be valued as 1 and Serious and Fatal Injuries as 2 (before the Light Injury was value 3 which I found counter intuitive)"
   ]
  },
  {
   "cell_type": "code",
   "execution_count": 16,
   "metadata": {},
   "outputs": [
    {
     "data": {
      "text/html": [
       "<div>\n",
       "<style scoped>\n",
       "    .dataframe tbody tr th:only-of-type {\n",
       "        vertical-align: middle;\n",
       "    }\n",
       "\n",
       "    .dataframe tbody tr th {\n",
       "        vertical-align: top;\n",
       "    }\n",
       "\n",
       "    .dataframe thead th {\n",
       "        text-align: right;\n",
       "    }\n",
       "</style>\n",
       "<table border=\"1\" class=\"dataframe\">\n",
       "  <thead>\n",
       "    <tr style=\"text-align: right;\">\n",
       "      <th></th>\n",
       "      <th>Casualty Severity</th>\n",
       "      <th>Casualty Severity Description</th>\n",
       "    </tr>\n",
       "  </thead>\n",
       "  <tbody>\n",
       "    <tr>\n",
       "      <th>1985</th>\n",
       "      <td>1</td>\n",
       "      <td>Light Injuries</td>\n",
       "    </tr>\n",
       "    <tr>\n",
       "      <th>1986</th>\n",
       "      <td>1</td>\n",
       "      <td>Light Injuries</td>\n",
       "    </tr>\n",
       "    <tr>\n",
       "      <th>1987</th>\n",
       "      <td>2</td>\n",
       "      <td>Serious or Fatal Injuries</td>\n",
       "    </tr>\n",
       "    <tr>\n",
       "      <th>1988</th>\n",
       "      <td>1</td>\n",
       "      <td>Light Injuries</td>\n",
       "    </tr>\n",
       "    <tr>\n",
       "      <th>1989</th>\n",
       "      <td>1</td>\n",
       "      <td>Light Injuries</td>\n",
       "    </tr>\n",
       "    <tr>\n",
       "      <th>1990</th>\n",
       "      <td>2</td>\n",
       "      <td>Serious or Fatal Injuries</td>\n",
       "    </tr>\n",
       "    <tr>\n",
       "      <th>1991</th>\n",
       "      <td>1</td>\n",
       "      <td>Light Injuries</td>\n",
       "    </tr>\n",
       "    <tr>\n",
       "      <th>1992</th>\n",
       "      <td>1</td>\n",
       "      <td>Light Injuries</td>\n",
       "    </tr>\n",
       "    <tr>\n",
       "      <th>1993</th>\n",
       "      <td>1</td>\n",
       "      <td>Light Injuries</td>\n",
       "    </tr>\n",
       "    <tr>\n",
       "      <th>1994</th>\n",
       "      <td>1</td>\n",
       "      <td>Light Injuries</td>\n",
       "    </tr>\n",
       "  </tbody>\n",
       "</table>\n",
       "</div>"
      ],
      "text/plain": [
       "      Casualty Severity Casualty Severity Description\n",
       "1985                  1                Light Injuries\n",
       "1986                  1                Light Injuries\n",
       "1987                  2     Serious or Fatal Injuries\n",
       "1988                  1                Light Injuries\n",
       "1989                  1                Light Injuries\n",
       "1990                  2     Serious or Fatal Injuries\n",
       "1991                  1                Light Injuries\n",
       "1992                  1                Light Injuries\n",
       "1993                  1                Light Injuries\n",
       "1994                  1                Light Injuries"
      ]
     },
     "execution_count": 16,
     "metadata": {},
     "output_type": "execute_result"
    }
   ],
   "source": [
    "df_2018['Casualty Severity Description']=df_2018['Casualty Severity Description'].replace('Serious Injuries','Serious or Fatal Injuries')\n",
    "df_2018['Casualty Severity Description']=df_2018['Casualty Severity Description'].replace('Fatal Injuries','Serious or Fatal Injuries')\n",
    "df_2018['Casualty Severity']=df_2018['Casualty Severity'].replace(1,2)\n",
    "df_2018['Casualty Severity']=df_2018['Casualty Severity'].replace(3,1)\n",
    "df_2018[['Casualty Severity','Casualty Severity Description']].tail(10)"
   ]
  },
  {
   "cell_type": "code",
   "execution_count": 17,
   "metadata": {},
   "outputs": [
    {
     "data": {
      "image/png": "[encoded data removed]",
      "text/plain": [
       "<Figure size 432x288 with 1 Axes>"
      ]
     },
     "metadata": {
      "needs_background": "light"
     },
     "output_type": "display_data"
    }
   ],
   "source": [
    "sns.countplot(x='Casualty Severity Description', data=df_2018, color='lightseagreen')\n",
    "plt.title('Histogram of Severity of Accidents in 2018') \n",
    "plt.ylabel('Number of Casualities')\n",
    "plt.xlabel('Severity of Casualty')\n",
    "plt.show()"
   ]
  },
  {
   "cell_type": "markdown",
   "metadata": {},
   "source": [
    "### Number of Vehicles per Accident"
   ]
  },
  {
   "cell_type": "markdown",
   "metadata": {},
   "source": [
    "Also an important number and definitely contributing into the overall seriousness of accident. The mroe vehicles involved, the greater damage to the property and disruption of traffic."
   ]
  },
  {
   "cell_type": "code",
   "execution_count": 18,
   "metadata": {},
   "outputs": [
    {
     "data": {
      "text/plain": [
       "1    0.251629\n",
       "2    0.618546\n",
       "3    0.097744\n",
       "4    0.025564\n",
       "5    0.005013\n",
       "6    0.000501\n",
       "7    0.001003\n",
       "Name: Number of Vehicles, dtype: float64"
      ]
     },
     "execution_count": 18,
     "metadata": {},
     "output_type": "execute_result"
    }
   ],
   "source": [
    "df_2018['Number of Vehicles'].value_counts(normalize=True,sort=False)"
   ]
  },
  {
   "cell_type": "code",
   "execution_count": 19,
   "metadata": {},
   "outputs": [
    {
     "data": {
      "text/plain": [
       "Text(0, 0.5, 'Count of Casualties')"
      ]
     },
     "execution_count": 19,
     "metadata": {},
     "output_type": "execute_result"
    },
    {
     "data": {
      "image/png": "[encoded data removed]",
      "text/plain": [
       "<Figure size 648x288 with 1 Axes>"
      ]
     },
     "metadata": {
      "needs_background": "light"
     },
     "output_type": "display_data"
    }
   ],
   "source": [
    "# Is there are correlation between casualty severity and number of vehicles involved?\n",
    "plt.figure(figsize=(9,4))\n",
    "sns.countplot(x='Number of Vehicles', hue='Casualty Severity Description', data=df_2018, palette='mako')\n",
    "plt.legend(loc='upper right')\n",
    "plt.title('Serious/Fatal vs Light Injuries and Number of Vehicles Involved in Accident')\n",
    "plt.ylabel('Count of Casualties')"
   ]
  },
  {
   "cell_type": "code",
   "execution_count": 20,
   "metadata": {},
   "outputs": [
    {
     "data": {
      "text/plain": [
       "Number of Vehicles  Casualty Severity Description\n",
       "1                   Light Injuries                   0.739044\n",
       "                    Serious or Fatal Injuries        0.260956\n",
       "2                   Light Injuries                   0.867909\n",
       "                    Serious or Fatal Injuries        0.132091\n",
       "3                   Light Injuries                   0.851282\n",
       "                    Serious or Fatal Injuries        0.148718\n",
       "4                   Light Injuries                   0.823529\n",
       "                    Serious or Fatal Injuries        0.176471\n",
       "5                   Light Injuries                   0.600000\n",
       "                    Serious or Fatal Injuries        0.400000\n",
       "6                   Light Injuries                   1.000000\n",
       "7                   Light Injuries                   0.500000\n",
       "                    Serious or Fatal Injuries        0.500000\n",
       "Name: Casualty Severity Description, dtype: float64"
      ]
     },
     "execution_count": 20,
     "metadata": {},
     "output_type": "execute_result"
    }
   ],
   "source": [
    "No_Vehicles_Severity=df_2018.groupby(['Number of Vehicles'])['Casualty Severity Description'].value_counts(normalize=True)\n",
    "No_Vehicles_Severity"
   ]
  },
  {
   "cell_type": "markdown",
   "metadata": {},
   "source": [
    "### Number of Casualties per Accident"
   ]
  },
  {
   "cell_type": "markdown",
   "metadata": {},
   "source": [
    "Number of people injured in each accident is also definitely a factor that should be included in assessing the overall severity of the accident. There is no number of people listed in dataset, but it can be easily found counting the accident reference numbers appointed to each casualty: the casualties with the same accident ref number we involved in the same accident."
   ]
  },
  {
   "cell_type": "code",
   "execution_count": 21,
   "metadata": {},
   "outputs": [
    {
     "data": {
      "text/html": [
       "<div>\n",
       "<style scoped>\n",
       "    .dataframe tbody tr th:only-of-type {\n",
       "        vertical-align: middle;\n",
       "    }\n",
       "\n",
       "    .dataframe tbody tr th {\n",
       "        vertical-align: top;\n",
       "    }\n",
       "\n",
       "    .dataframe thead th {\n",
       "        text-align: right;\n",
       "    }\n",
       "</style>\n",
       "<table border=\"1\" class=\"dataframe\">\n",
       "  <thead>\n",
       "    <tr style=\"text-align: right;\">\n",
       "      <th></th>\n",
       "      <th>Accident Ref No</th>\n",
       "      <th>Number of Casualties</th>\n",
       "    </tr>\n",
       "  </thead>\n",
       "  <tbody>\n",
       "    <tr>\n",
       "      <th>0</th>\n",
       "      <td>51B0230</td>\n",
       "      <td>1</td>\n",
       "    </tr>\n",
       "    <tr>\n",
       "      <th>1</th>\n",
       "      <td>51B0349</td>\n",
       "      <td>5</td>\n",
       "    </tr>\n",
       "    <tr>\n",
       "      <th>2</th>\n",
       "      <td>51B0349</td>\n",
       "      <td>5</td>\n",
       "    </tr>\n",
       "    <tr>\n",
       "      <th>3</th>\n",
       "      <td>51B0349</td>\n",
       "      <td>5</td>\n",
       "    </tr>\n",
       "    <tr>\n",
       "      <th>4</th>\n",
       "      <td>51B0349</td>\n",
       "      <td>5</td>\n",
       "    </tr>\n",
       "    <tr>\n",
       "      <th>5</th>\n",
       "      <td>51B0349</td>\n",
       "      <td>5</td>\n",
       "    </tr>\n",
       "    <tr>\n",
       "      <th>6</th>\n",
       "      <td>51B0632</td>\n",
       "      <td>1</td>\n",
       "    </tr>\n",
       "    <tr>\n",
       "      <th>7</th>\n",
       "      <td>51B0975</td>\n",
       "      <td>1</td>\n",
       "    </tr>\n",
       "    <tr>\n",
       "      <th>8</th>\n",
       "      <td>51B1212</td>\n",
       "      <td>1</td>\n",
       "    </tr>\n",
       "    <tr>\n",
       "      <th>9</th>\n",
       "      <td>51B1241</td>\n",
       "      <td>1</td>\n",
       "    </tr>\n",
       "  </tbody>\n",
       "</table>\n",
       "</div>"
      ],
      "text/plain": [
       "  Accident Ref No  Number of Casualties\n",
       "0         51B0230                     1\n",
       "1         51B0349                     5\n",
       "2         51B0349                     5\n",
       "3         51B0349                     5\n",
       "4         51B0349                     5\n",
       "5         51B0349                     5\n",
       "6         51B0632                     1\n",
       "7         51B0975                     1\n",
       "8         51B1212                     1\n",
       "9         51B1241                     1"
      ]
     },
     "execution_count": 21,
     "metadata": {},
     "output_type": "execute_result"
    }
   ],
   "source": [
    "# add a new column to dataframe noting the number of casualties involved in each accident \n",
    "# in order to do that I count the same accident ref numbers in col 1 and enter the count as the Number of Casualties\n",
    "df_2018['Number of Casualties'] = df_2018.groupby(['Accident Ref No'])['Number of Vehicles'].transform('count')\n",
    "df_2018[['Accident Ref No','Number of Casualties']].head(10)"
   ]
  },
  {
   "cell_type": "code",
   "execution_count": 22,
   "metadata": {},
   "outputs": [
    {
     "data": {
      "text/plain": [
       "1    0.621554\n",
       "2    0.217544\n",
       "3    0.094737\n",
       "4    0.036090\n",
       "5    0.012531\n",
       "6    0.006015\n",
       "7    0.007018\n",
       "9    0.004511\n",
       "Name: Number of Casualties, dtype: float64"
      ]
     },
     "execution_count": 22,
     "metadata": {},
     "output_type": "execute_result"
    }
   ],
   "source": [
    "df_2018['Number of Casualties'].value_counts(normalize=True, sort=False)"
   ]
  },
  {
   "cell_type": "code",
   "execution_count": 23,
   "metadata": {},
   "outputs": [
    {
     "data": {
      "text/plain": [
       "Text(0, 0.5, 'Count of Casualties')"
      ]
     },
     "execution_count": 23,
     "metadata": {},
     "output_type": "execute_result"
    },
    {
     "data": {
      "image/png": "[encoded data removed]",
      "text/plain": [
       "<Figure size 648x288 with 1 Axes>"
      ]
     },
     "metadata": {
      "needs_background": "light"
     },
     "output_type": "display_data"
    }
   ],
   "source": [
    "# Is there a correlation between Casualty Severity and how many people were injured in accident?\n",
    "plt.figure(figsize=(9,4))\n",
    "sns.countplot(x='Number of Casualties', hue='Casualty Severity Description', data=df_2018, palette='mako')\n",
    "plt.legend(loc='upper right')\n",
    "plt.title('Serious/Fatal vs Light Injuries and Number of Casualties in Accident')\n",
    "plt.ylabel('Count of Casualties')"
   ]
  },
  {
   "cell_type": "code",
   "execution_count": 24,
   "metadata": {},
   "outputs": [
    {
     "data": {
      "text/plain": [
       "Number of Casualties  Casualty Severity Description\n",
       "1                     Light Injuries                   0.802419\n",
       "                      Serious or Fatal Injuries        0.197581\n",
       "2                     Light Injuries                   0.854839\n",
       "                      Serious or Fatal Injuries        0.145161\n",
       "3                     Light Injuries                   0.941799\n",
       "                      Serious or Fatal Injuries        0.058201\n",
       "4                     Light Injuries                   0.902778\n",
       "                      Serious or Fatal Injuries        0.097222\n",
       "5                     Light Injuries                   0.840000\n",
       "                      Serious or Fatal Injuries        0.160000\n",
       "6                     Light Injuries                   1.000000\n",
       "7                     Light Injuries                   0.500000\n",
       "                      Serious or Fatal Injuries        0.500000\n",
       "9                     Light Injuries                   1.000000\n",
       "Name: Casualty Severity Description, dtype: float64"
      ]
     },
     "execution_count": 24,
     "metadata": {},
     "output_type": "execute_result"
    }
   ],
   "source": [
    "No_Casualties_Severity=df_2018.groupby(['Number of Casualties'])['Casualty Severity Description'].value_counts(normalize=True)\n",
    "No_Casualties_Severity"
   ]
  },
  {
   "cell_type": "markdown",
   "metadata": {},
   "source": [
    "### Time of Day "
   ]
  },
  {
   "cell_type": "markdown",
   "metadata": {},
   "source": [
    "Might be important factor as there are different amount of traffic on roads during different time of day. And people have different cognitive abilities: people tend to be more alert in the morning, and have more fatigue during the end of day and night.\n",
    "Data set records the time in 24h format that can be converted into Time of Day category."
   ]
  },
  {
   "cell_type": "code",
   "execution_count": 25,
   "metadata": {},
   "outputs": [],
   "source": [
    "# break down the 24h times into times of day\n",
    "df_2018['Time of day'] = np.where((df_2018['Time (24hr)'] <500),'Night',             \n",
    "                                np.where((df_2018['Time (24hr)'] >2230), 'Night',\n",
    "                                np.where(((df_2018['Time (24hr)'] >=500) & (df_2018['Time (24hr)'] <700)), 'Early Morning', \n",
    "                                np.where(((df_2018['Time (24hr)'] >=700) & (df_2018['Time (24hr)'] <930)), 'Morning Rush Hour',\n",
    "                                np.where(((df_2018['Time (24hr)'] >=930) & (df_2018['Time (24hr)'] <1200)), 'Late Morning',\n",
    "                                np.where(((df_2018['Time (24hr)'] >=1200) & (df_2018['Time (24hr)'] <1600)), 'Afternoon',\n",
    "                                np.where(((df_2018['Time (24hr)'] >=1600) & (df_2018['Time (24hr)'] <1900)), 'Afternoon Rush Hour',\n",
    "                                np.where(((df_2018['Time (24hr)'] >=1900) & (df_2018['Time (24hr)'] <=2230)), 'Evening', 'NA'\n",
    "                             ))))))))"
   ]
  },
  {
   "cell_type": "code",
   "execution_count": 26,
   "metadata": {},
   "outputs": [
    {
     "data": {
      "text/plain": [
       "Afternoon              559\n",
       "Afternoon Rush Hour    499\n",
       "Evening                276\n",
       "Morning Rush Hour      260\n",
       "Late Morning           208\n",
       "Night                  158\n",
       "Early Morning           35\n",
       "Name: Time of day, dtype: int64"
      ]
     },
     "execution_count": 26,
     "metadata": {},
     "output_type": "execute_result"
    }
   ],
   "source": [
    "df_2018['Time of day'].value_counts(ascending=False)"
   ]
  },
  {
   "cell_type": "code",
   "execution_count": 27,
   "metadata": {},
   "outputs": [
    {
     "data": {
      "text/html": [
       "<div>\n",
       "<style scoped>\n",
       "    .dataframe tbody tr th:only-of-type {\n",
       "        vertical-align: middle;\n",
       "    }\n",
       "\n",
       "    .dataframe tbody tr th {\n",
       "        vertical-align: top;\n",
       "    }\n",
       "\n",
       "    .dataframe thead th {\n",
       "        text-align: right;\n",
       "    }\n",
       "</style>\n",
       "<table border=\"1\" class=\"dataframe\">\n",
       "  <thead>\n",
       "    <tr style=\"text-align: right;\">\n",
       "      <th></th>\n",
       "      <th>Time of day</th>\n",
       "      <th>Casualty Severity Description</th>\n",
       "      <th>Casualty_Count</th>\n",
       "    </tr>\n",
       "  </thead>\n",
       "  <tbody>\n",
       "    <tr>\n",
       "      <th>0</th>\n",
       "      <td>Afternoon</td>\n",
       "      <td>Light Injuries</td>\n",
       "      <td>476</td>\n",
       "    </tr>\n",
       "    <tr>\n",
       "      <th>1</th>\n",
       "      <td>Afternoon</td>\n",
       "      <td>Serious or Fatal Injuries</td>\n",
       "      <td>83</td>\n",
       "    </tr>\n",
       "    <tr>\n",
       "      <th>2</th>\n",
       "      <td>Afternoon Rush Hour</td>\n",
       "      <td>Light Injuries</td>\n",
       "      <td>419</td>\n",
       "    </tr>\n",
       "    <tr>\n",
       "      <th>3</th>\n",
       "      <td>Afternoon Rush Hour</td>\n",
       "      <td>Serious or Fatal Injuries</td>\n",
       "      <td>80</td>\n",
       "    </tr>\n",
       "    <tr>\n",
       "      <th>4</th>\n",
       "      <td>Early Morning</td>\n",
       "      <td>Light Injuries</td>\n",
       "      <td>30</td>\n",
       "    </tr>\n",
       "    <tr>\n",
       "      <th>5</th>\n",
       "      <td>Early Morning</td>\n",
       "      <td>Serious or Fatal Injuries</td>\n",
       "      <td>5</td>\n",
       "    </tr>\n",
       "    <tr>\n",
       "      <th>6</th>\n",
       "      <td>Evening</td>\n",
       "      <td>Light Injuries</td>\n",
       "      <td>221</td>\n",
       "    </tr>\n",
       "    <tr>\n",
       "      <th>7</th>\n",
       "      <td>Evening</td>\n",
       "      <td>Serious or Fatal Injuries</td>\n",
       "      <td>55</td>\n",
       "    </tr>\n",
       "    <tr>\n",
       "      <th>8</th>\n",
       "      <td>Late Morning</td>\n",
       "      <td>Light Injuries</td>\n",
       "      <td>181</td>\n",
       "    </tr>\n",
       "    <tr>\n",
       "      <th>9</th>\n",
       "      <td>Late Morning</td>\n",
       "      <td>Serious or Fatal Injuries</td>\n",
       "      <td>27</td>\n",
       "    </tr>\n",
       "    <tr>\n",
       "      <th>10</th>\n",
       "      <td>Morning Rush Hour</td>\n",
       "      <td>Light Injuries</td>\n",
       "      <td>221</td>\n",
       "    </tr>\n",
       "    <tr>\n",
       "      <th>11</th>\n",
       "      <td>Morning Rush Hour</td>\n",
       "      <td>Serious or Fatal Injuries</td>\n",
       "      <td>39</td>\n",
       "    </tr>\n",
       "    <tr>\n",
       "      <th>12</th>\n",
       "      <td>Night</td>\n",
       "      <td>Light Injuries</td>\n",
       "      <td>110</td>\n",
       "    </tr>\n",
       "    <tr>\n",
       "      <th>13</th>\n",
       "      <td>Night</td>\n",
       "      <td>Serious or Fatal Injuries</td>\n",
       "      <td>48</td>\n",
       "    </tr>\n",
       "  </tbody>\n",
       "</table>\n",
       "</div>"
      ],
      "text/plain": [
       "            Time of day Casualty Severity Description  Casualty_Count\n",
       "0             Afternoon                Light Injuries             476\n",
       "1             Afternoon     Serious or Fatal Injuries              83\n",
       "2   Afternoon Rush Hour                Light Injuries             419\n",
       "3   Afternoon Rush Hour     Serious or Fatal Injuries              80\n",
       "4         Early Morning                Light Injuries              30\n",
       "5         Early Morning     Serious or Fatal Injuries               5\n",
       "6               Evening                Light Injuries             221\n",
       "7               Evening     Serious or Fatal Injuries              55\n",
       "8          Late Morning                Light Injuries             181\n",
       "9          Late Morning     Serious or Fatal Injuries              27\n",
       "10    Morning Rush Hour                Light Injuries             221\n",
       "11    Morning Rush Hour     Serious or Fatal Injuries              39\n",
       "12                Night                Light Injuries             110\n",
       "13                Night     Serious or Fatal Injuries              48"
      ]
     },
     "execution_count": 27,
     "metadata": {},
     "output_type": "execute_result"
    }
   ],
   "source": [
    "# See if there are correlations between number of people injured and /or severity of the injuries\n",
    "Time_of_day_casualties=df_2018.groupby(['Time of day'])['Casualty Severity Description'].value_counts()\n",
    "Time_of_day_danger=pd.DataFrame(Time_of_day_casualties.reset_index(name = \"Casualty_Count\"))\n",
    "Time_of_day_danger"
   ]
  },
  {
   "cell_type": "code",
   "execution_count": 28,
   "metadata": {},
   "outputs": [
    {
     "data": {
      "image/png": "[encoded data removed]",
      "text/plain": [
       "<Figure size 1080x288 with 1 Axes>"
      ]
     },
     "metadata": {
      "needs_background": "light"
     },
     "output_type": "display_data"
    }
   ],
   "source": [
    "plt.figure(figsize=(15,4))\n",
    "sns.barplot(x='Casualty Severity Description', \n",
    "            y='Casualty_Count', \n",
    "            hue = 'Time of day', \n",
    "            data=Time_of_day_danger, \n",
    "            orient='v',\n",
    "           palette='mako')\n",
    "plt.title('Severity of accident injuries dependent on time of day') \n",
    "plt.ylabel('No of Casualties')\n",
    "plt.xlabel('Casualty Severity')\n",
    "plt.show()"
   ]
  },
  {
   "cell_type": "code",
   "execution_count": 29,
   "metadata": {},
   "outputs": [
    {
     "data": {
      "text/plain": [
       "Afternoon              0.280201\n",
       "Afternoon Rush Hour    0.250125\n",
       "Evening                0.138346\n",
       "Morning Rush Hour      0.130326\n",
       "Late Morning           0.104261\n",
       "Night                  0.079198\n",
       "Early Morning          0.017544\n",
       "Name: Time of day, dtype: float64"
      ]
     },
     "execution_count": 29,
     "metadata": {},
     "output_type": "execute_result"
    }
   ],
   "source": [
    "Possibility_Time_of_day=df_2018['Time of day'].value_counts(normalize=True)\n",
    "Possibility_Time_of_day"
   ]
  },
  {
   "cell_type": "code",
   "execution_count": 30,
   "metadata": {},
   "outputs": [
    {
     "data": {
      "text/plain": [
       "Casualty Severity Description  Time of day        \n",
       "Light Injuries                 Afternoon              0.287093\n",
       "                               Afternoon Rush Hour    0.252714\n",
       "                               Evening                0.133293\n",
       "                               Morning Rush Hour      0.133293\n",
       "                               Late Morning           0.109168\n",
       "                               Night                  0.066345\n",
       "                               Early Morning          0.018094\n",
       "Serious or Fatal Injuries      Afternoon              0.246291\n",
       "                               Afternoon Rush Hour    0.237389\n",
       "                               Evening                0.163205\n",
       "                               Night                  0.142433\n",
       "                               Morning Rush Hour      0.115727\n",
       "                               Late Morning           0.080119\n",
       "                               Early Morning          0.014837\n",
       "Name: Time of day, dtype: float64"
      ]
     },
     "execution_count": 30,
     "metadata": {},
     "output_type": "execute_result"
    }
   ],
   "source": [
    "Severity_Time_of_day=df_2018.groupby(['Casualty Severity Description'])['Time of day'].value_counts(normalize=True)\n",
    "Severity_Time_of_day"
   ]
  },
  {
   "cell_type": "markdown",
   "metadata": {},
   "source": [
    "### Seasonality"
   ]
  },
  {
   "cell_type": "markdown",
   "metadata": {},
   "source": [
    "Seasonality might affect the accident severity because of different daytime hours, weather and road conditions, as well as number of drivers and their skills on the road. Add in a column to reflect seasonality based on the Accident Date feature."
   ]
  },
  {
   "cell_type": "code",
   "execution_count": 31,
   "metadata": {},
   "outputs": [
    {
     "data": {
      "text/plain": [
       "0   2018-11-01\n",
       "1   2018-11-01\n",
       "2   2018-11-01\n",
       "3   2018-11-01\n",
       "4   2018-11-01\n",
       "Name: Accident Date, dtype: datetime64[ns]"
      ]
     },
     "execution_count": 31,
     "metadata": {},
     "output_type": "execute_result"
    }
   ],
   "source": [
    "# make sure the date is understood as date by pandas\n",
    "df_2018['Accident Date'] = pd.to_datetime(df_2018['Accident Date'])\n",
    "df_2018['Accident Date'].head()"
   ]
  },
  {
   "cell_type": "code",
   "execution_count": 32,
   "metadata": {
    "scrolled": true
   },
   "outputs": [
    {
     "data": {
      "text/html": [
       "<div>\n",
       "<style scoped>\n",
       "    .dataframe tbody tr th:only-of-type {\n",
       "        vertical-align: middle;\n",
       "    }\n",
       "\n",
       "    .dataframe tbody tr th {\n",
       "        vertical-align: top;\n",
       "    }\n",
       "\n",
       "    .dataframe thead th {\n",
       "        text-align: right;\n",
       "    }\n",
       "</style>\n",
       "<table border=\"1\" class=\"dataframe\">\n",
       "  <thead>\n",
       "    <tr style=\"text-align: right;\">\n",
       "      <th></th>\n",
       "      <th>Accident Date</th>\n",
       "      <th>Season</th>\n",
       "    </tr>\n",
       "  </thead>\n",
       "  <tbody>\n",
       "    <tr>\n",
       "      <th>1990</th>\n",
       "      <td>2018-12-31</td>\n",
       "      <td>Winter</td>\n",
       "    </tr>\n",
       "    <tr>\n",
       "      <th>1991</th>\n",
       "      <td>2018-12-31</td>\n",
       "      <td>Winter</td>\n",
       "    </tr>\n",
       "    <tr>\n",
       "      <th>1992</th>\n",
       "      <td>2018-12-31</td>\n",
       "      <td>Winter</td>\n",
       "    </tr>\n",
       "    <tr>\n",
       "      <th>1993</th>\n",
       "      <td>2018-12-31</td>\n",
       "      <td>Winter</td>\n",
       "    </tr>\n",
       "    <tr>\n",
       "      <th>1994</th>\n",
       "      <td>2018-12-31</td>\n",
       "      <td>Winter</td>\n",
       "    </tr>\n",
       "  </tbody>\n",
       "</table>\n",
       "</div>"
      ],
      "text/plain": [
       "     Accident Date  Season\n",
       "1990    2018-12-31  Winter\n",
       "1991    2018-12-31  Winter\n",
       "1992    2018-12-31  Winter\n",
       "1993    2018-12-31  Winter\n",
       "1994    2018-12-31  Winter"
      ]
     },
     "execution_count": 32,
     "metadata": {},
     "output_type": "execute_result"
    }
   ],
   "source": [
    "# add in the Season column\n",
    "df_2018['Season'] = np.where(((df_2018['Accident Date'] >= '2018-01-01') & (df_2018['Accident Date'] <= '2018-02-28')), 'Winter', \n",
    "                                np.where(((df_2018['Accident Date'] >= '2018-12-01') & (df_2018['Accident Date'] <= '2018-12-31')), 'Winter',\n",
    "                                np.where(((df_2018['Accident Date'] >= '2018-03-01') & (df_2018['Accident Date'] <= '2018-05-31')), 'Spring',\n",
    "                                np.where(((df_2018['Accident Date'] >= '2018-06-01') & (df_2018['Accident Date'] <= '2018-08-31')), 'Summer',\n",
    "                                np.where(((df_2018['Accident Date'] >= '2018-09-01') & (df_2018['Accident Date'] <= '2018-11-30')), 'Autumn', 'NA'\n",
    "                                )))))\n",
    "df_2018[['Accident Date','Season']].tail()"
   ]
  },
  {
   "cell_type": "code",
   "execution_count": 33,
   "metadata": {},
   "outputs": [
    {
     "data": {
      "text/html": [
       "<div>\n",
       "<style scoped>\n",
       "    .dataframe tbody tr th:only-of-type {\n",
       "        vertical-align: middle;\n",
       "    }\n",
       "\n",
       "    .dataframe tbody tr th {\n",
       "        vertical-align: top;\n",
       "    }\n",
       "\n",
       "    .dataframe thead th {\n",
       "        text-align: right;\n",
       "    }\n",
       "</style>\n",
       "<table border=\"1\" class=\"dataframe\">\n",
       "  <thead>\n",
       "    <tr style=\"text-align: right;\">\n",
       "      <th></th>\n",
       "      <th>Season</th>\n",
       "      <th>Casualty Severity Description</th>\n",
       "      <th>Casualty_Count</th>\n",
       "    </tr>\n",
       "  </thead>\n",
       "  <tbody>\n",
       "    <tr>\n",
       "      <th>0</th>\n",
       "      <td>Autumn</td>\n",
       "      <td>Light Injuries</td>\n",
       "      <td>434</td>\n",
       "    </tr>\n",
       "    <tr>\n",
       "      <th>1</th>\n",
       "      <td>Autumn</td>\n",
       "      <td>Serious or Fatal Injuries</td>\n",
       "      <td>88</td>\n",
       "    </tr>\n",
       "    <tr>\n",
       "      <th>2</th>\n",
       "      <td>Spring</td>\n",
       "      <td>Light Injuries</td>\n",
       "      <td>424</td>\n",
       "    </tr>\n",
       "    <tr>\n",
       "      <th>3</th>\n",
       "      <td>Spring</td>\n",
       "      <td>Serious or Fatal Injuries</td>\n",
       "      <td>96</td>\n",
       "    </tr>\n",
       "    <tr>\n",
       "      <th>4</th>\n",
       "      <td>Summer</td>\n",
       "      <td>Light Injuries</td>\n",
       "      <td>422</td>\n",
       "    </tr>\n",
       "    <tr>\n",
       "      <th>5</th>\n",
       "      <td>Summer</td>\n",
       "      <td>Serious or Fatal Injuries</td>\n",
       "      <td>84</td>\n",
       "    </tr>\n",
       "    <tr>\n",
       "      <th>6</th>\n",
       "      <td>Winter</td>\n",
       "      <td>Light Injuries</td>\n",
       "      <td>378</td>\n",
       "    </tr>\n",
       "    <tr>\n",
       "      <th>7</th>\n",
       "      <td>Winter</td>\n",
       "      <td>Serious or Fatal Injuries</td>\n",
       "      <td>69</td>\n",
       "    </tr>\n",
       "  </tbody>\n",
       "</table>\n",
       "</div>"
      ],
      "text/plain": [
       "   Season Casualty Severity Description  Casualty_Count\n",
       "0  Autumn                Light Injuries             434\n",
       "1  Autumn     Serious or Fatal Injuries              88\n",
       "2  Spring                Light Injuries             424\n",
       "3  Spring     Serious or Fatal Injuries              96\n",
       "4  Summer                Light Injuries             422\n",
       "5  Summer     Serious or Fatal Injuries              84\n",
       "6  Winter                Light Injuries             378\n",
       "7  Winter     Serious or Fatal Injuries              69"
      ]
     },
     "execution_count": 33,
     "metadata": {},
     "output_type": "execute_result"
    }
   ],
   "source": [
    "# See if there's a relationship between the seasonality, number of casualties and the severity of injuries\n",
    "Seasonal_casualties=df_2018.groupby(['Season'])['Casualty Severity Description'].value_counts()\n",
    "Seasonal_danger=pd.DataFrame(Seasonal_casualties.reset_index(name = \"Casualty_Count\"))\n",
    "Seasonal_danger"
   ]
  },
  {
   "cell_type": "code",
   "execution_count": 34,
   "metadata": {},
   "outputs": [
    {
     "data": {
      "image/png": "[encoded data removed]",
      "text/plain": [
       "<Figure size 1080x288 with 1 Axes>"
      ]
     },
     "metadata": {
      "needs_background": "light"
     },
     "output_type": "display_data"
    }
   ],
   "source": [
    "plt.figure(figsize=(15,4))\n",
    "ax=sns.barplot(x='Casualty Severity Description', \n",
    "            y='Casualty_Count', \n",
    "            hue = 'Season', \n",
    "            data=Seasonal_danger, \n",
    "            orient='v',\n",
    "           palette='mako')\n",
    "for p in ax.patches:\n",
    "             ax.annotate(\"%.f\" % p.get_height(), (p.get_x() + p.get_width() / 2., p.get_height()),\n",
    "                 ha='center', va='center', fontsize=15, color='white', xytext=(0, -15),\n",
    "                 textcoords='offset points')\n",
    "plt.title('Severity of accident injuries dependent on seasons') \n",
    "plt.ylabel('No of Casualties')\n",
    "plt.xlabel('Severity of Injuries')\n",
    "plt.show()"
   ]
  },
  {
   "cell_type": "code",
   "execution_count": 35,
   "metadata": {},
   "outputs": [
    {
     "data": {
      "text/plain": [
       "Season  Casualty Severity Description\n",
       "Autumn  Light Injuries                   0.831418\n",
       "        Serious or Fatal Injuries        0.168582\n",
       "Spring  Light Injuries                   0.815385\n",
       "        Serious or Fatal Injuries        0.184615\n",
       "Summer  Light Injuries                   0.833992\n",
       "        Serious or Fatal Injuries        0.166008\n",
       "Winter  Light Injuries                   0.845638\n",
       "        Serious or Fatal Injuries        0.154362\n",
       "Name: Casualty Severity Description, dtype: float64"
      ]
     },
     "execution_count": 35,
     "metadata": {},
     "output_type": "execute_result"
    }
   ],
   "source": [
    "Seasonal_casualties=df_2018.groupby(['Season'])['Casualty Severity Description'].value_counts(normalize=True)\n",
    "Seasonal_casualties"
   ]
  },
  {
   "cell_type": "code",
   "execution_count": 36,
   "metadata": {},
   "outputs": [
    {
     "data": {
      "text/plain": [
       "4    447\n",
       "2    506\n",
       "3    522\n",
       "1    520\n",
       "Name: Season Code, dtype: int64"
      ]
     },
     "execution_count": 36,
     "metadata": {},
     "output_type": "execute_result"
    }
   ],
   "source": [
    "# have to add in another column for seasonal numeric value for the KNN model that cannot use timestamp data\n",
    "df_2018['Season Code'] = np.where((df_2018['Season'] == 'Spring'), 1, \n",
    "                                np.where((df_2018['Season'] == 'Summer'), 2,\n",
    "                                np.where((df_2018['Season'] == 'Autumn'), 3,\n",
    "                                np.where((df_2018['Season'] == 'Winter'), 4, 'NA'\n",
    "                                ))))\n",
    "df_2018['Season Code'].value_counts(sort=False)"
   ]
  },
  {
   "cell_type": "markdown",
   "metadata": {},
   "source": [
    "### Road Class"
   ]
  },
  {
   "cell_type": "markdown",
   "metadata": {},
   "source": [
    "Investigate if road class might affect the number of injured people or severity of injuries."
   ]
  },
  {
   "cell_type": "code",
   "execution_count": 37,
   "metadata": {},
   "outputs": [],
   "source": [
    "##enter the descriptions of Road Class into df so we can clearly plot it with labels\n",
    "df_2018['1st Road Class Description'] = np.where(df_2018['1st Road Class'] == 1, 'Motorway', \n",
    "                                    np.where(df_2018['1st Road Class'] == 2, 'A', \n",
    "                                    np.where(df_2018['1st Road Class'] == 3, 'A(M)', \n",
    "                                    np.where(df_2018['1st Road Class'] == 4, 'B',\n",
    "                                    np.where(df_2018['1st Road Class'] == 5, 'C',\n",
    "                                    np.where(df_2018['1st Road Class'] == 6, 'Unclassified', 'NA'\n",
    "                                    ))))))"
   ]
  },
  {
   "cell_type": "code",
   "execution_count": 38,
   "metadata": {},
   "outputs": [
    {
     "data": {
      "text/plain": [
       "Unclassified    0.533333\n",
       "A(M)            0.318797\n",
       "Motorway        0.079198\n",
       "B               0.034586\n",
       "A               0.031579\n",
       "C               0.002506\n",
       "Name: 1st Road Class Description, dtype: float64"
      ]
     },
     "execution_count": 38,
     "metadata": {},
     "output_type": "execute_result"
    }
   ],
   "source": [
    "df_2018['1st Road Class Description'].value_counts(normalize=True).sort_values(ascending=False)"
   ]
  },
  {
   "cell_type": "code",
   "execution_count": 39,
   "metadata": {},
   "outputs": [
    {
     "data": {
      "image/png": "[encoded data removed]",
      "text/plain": [
       "<Figure size 432x288 with 1 Axes>"
      ]
     },
     "metadata": {
      "needs_background": "light"
     },
     "output_type": "display_data"
    }
   ],
   "source": [
    "sns.countplot(x='1st Road Class Description', data=df_2018, color='lightseagreen')\n",
    "plt.title('Histogram of Casualities per Road Type in 2018') \n",
    "plt.ylabel('Number of Casualities')\n",
    "plt.xlabel('Road Class')\n",
    "plt.show()"
   ]
  },
  {
   "cell_type": "markdown",
   "metadata": {},
   "source": [
    "As most of the data in this column is Unclassified, it's no use for me, so I drop the Road Class and Road Class Descriptions form DataFrame."
   ]
  },
  {
   "cell_type": "code",
   "execution_count": 40,
   "metadata": {},
   "outputs": [
    {
     "data": {
      "text/html": [
       "<div>\n",
       "<style scoped>\n",
       "    .dataframe tbody tr th:only-of-type {\n",
       "        vertical-align: middle;\n",
       "    }\n",
       "\n",
       "    .dataframe tbody tr th {\n",
       "        vertical-align: top;\n",
       "    }\n",
       "\n",
       "    .dataframe thead th {\n",
       "        text-align: right;\n",
       "    }\n",
       "</style>\n",
       "<table border=\"1\" class=\"dataframe\">\n",
       "  <thead>\n",
       "    <tr style=\"text-align: right;\">\n",
       "      <th></th>\n",
       "      <th>Accident Ref No</th>\n",
       "      <th>Number of Vehicles</th>\n",
       "      <th>Accident Date</th>\n",
       "      <th>Time (24hr)</th>\n",
       "      <th>Road Surface</th>\n",
       "      <th>Lighting Conditions</th>\n",
       "      <th>Weather Conditions</th>\n",
       "      <th>Type of Vehicle</th>\n",
       "      <th>Casualty Severity</th>\n",
       "      <th>Sex of Casualty</th>\n",
       "      <th>Age of Casualty</th>\n",
       "      <th>Casualty Severity Description</th>\n",
       "      <th>Number of Casualties</th>\n",
       "      <th>Time of day</th>\n",
       "      <th>Season</th>\n",
       "      <th>Season Code</th>\n",
       "    </tr>\n",
       "  </thead>\n",
       "  <tbody>\n",
       "    <tr>\n",
       "      <th>0</th>\n",
       "      <td>51B0230</td>\n",
       "      <td>1</td>\n",
       "      <td>2018-11-01</td>\n",
       "      <td>700</td>\n",
       "      <td>1</td>\n",
       "      <td>4</td>\n",
       "      <td>1</td>\n",
       "      <td>9</td>\n",
       "      <td>1</td>\n",
       "      <td>2</td>\n",
       "      <td>87</td>\n",
       "      <td>Light Injuries</td>\n",
       "      <td>1</td>\n",
       "      <td>Morning Rush Hour</td>\n",
       "      <td>Autumn</td>\n",
       "      <td>3</td>\n",
       "    </tr>\n",
       "    <tr>\n",
       "      <th>1</th>\n",
       "      <td>51B0349</td>\n",
       "      <td>1</td>\n",
       "      <td>2018-11-01</td>\n",
       "      <td>855</td>\n",
       "      <td>2</td>\n",
       "      <td>1</td>\n",
       "      <td>1</td>\n",
       "      <td>11</td>\n",
       "      <td>1</td>\n",
       "      <td>2</td>\n",
       "      <td>60</td>\n",
       "      <td>Light Injuries</td>\n",
       "      <td>5</td>\n",
       "      <td>Morning Rush Hour</td>\n",
       "      <td>Autumn</td>\n",
       "      <td>3</td>\n",
       "    </tr>\n",
       "    <tr>\n",
       "      <th>2</th>\n",
       "      <td>51B0349</td>\n",
       "      <td>1</td>\n",
       "      <td>2018-11-01</td>\n",
       "      <td>855</td>\n",
       "      <td>2</td>\n",
       "      <td>1</td>\n",
       "      <td>1</td>\n",
       "      <td>11</td>\n",
       "      <td>1</td>\n",
       "      <td>2</td>\n",
       "      <td>51</td>\n",
       "      <td>Light Injuries</td>\n",
       "      <td>5</td>\n",
       "      <td>Morning Rush Hour</td>\n",
       "      <td>Autumn</td>\n",
       "      <td>3</td>\n",
       "    </tr>\n",
       "    <tr>\n",
       "      <th>3</th>\n",
       "      <td>51B0349</td>\n",
       "      <td>1</td>\n",
       "      <td>2018-11-01</td>\n",
       "      <td>855</td>\n",
       "      <td>2</td>\n",
       "      <td>1</td>\n",
       "      <td>1</td>\n",
       "      <td>11</td>\n",
       "      <td>1</td>\n",
       "      <td>2</td>\n",
       "      <td>50</td>\n",
       "      <td>Light Injuries</td>\n",
       "      <td>5</td>\n",
       "      <td>Morning Rush Hour</td>\n",
       "      <td>Autumn</td>\n",
       "      <td>3</td>\n",
       "    </tr>\n",
       "    <tr>\n",
       "      <th>4</th>\n",
       "      <td>51B0349</td>\n",
       "      <td>1</td>\n",
       "      <td>2018-11-01</td>\n",
       "      <td>855</td>\n",
       "      <td>2</td>\n",
       "      <td>1</td>\n",
       "      <td>1</td>\n",
       "      <td>11</td>\n",
       "      <td>1</td>\n",
       "      <td>2</td>\n",
       "      <td>51</td>\n",
       "      <td>Light Injuries</td>\n",
       "      <td>5</td>\n",
       "      <td>Morning Rush Hour</td>\n",
       "      <td>Autumn</td>\n",
       "      <td>3</td>\n",
       "    </tr>\n",
       "  </tbody>\n",
       "</table>\n",
       "</div>"
      ],
      "text/plain": [
       "  Accident Ref No  Number of Vehicles Accident Date  Time (24hr)  \\\n",
       "0         51B0230                   1    2018-11-01          700   \n",
       "1         51B0349                   1    2018-11-01          855   \n",
       "2         51B0349                   1    2018-11-01          855   \n",
       "3         51B0349                   1    2018-11-01          855   \n",
       "4         51B0349                   1    2018-11-01          855   \n",
       "\n",
       "   Road Surface  Lighting Conditions  Weather Conditions  Type of Vehicle  \\\n",
       "0             1                    4                   1                9   \n",
       "1             2                    1                   1               11   \n",
       "2             2                    1                   1               11   \n",
       "3             2                    1                   1               11   \n",
       "4             2                    1                   1               11   \n",
       "\n",
       "   Casualty Severity  Sex of Casualty  Age of Casualty  \\\n",
       "0                  1                2               87   \n",
       "1                  1                2               60   \n",
       "2                  1                2               51   \n",
       "3                  1                2               50   \n",
       "4                  1                2               51   \n",
       "\n",
       "  Casualty Severity Description  Number of Casualties        Time of day  \\\n",
       "0                Light Injuries                     1  Morning Rush Hour   \n",
       "1                Light Injuries                     5  Morning Rush Hour   \n",
       "2                Light Injuries                     5  Morning Rush Hour   \n",
       "3                Light Injuries                     5  Morning Rush Hour   \n",
       "4                Light Injuries                     5  Morning Rush Hour   \n",
       "\n",
       "   Season Season Code  \n",
       "0  Autumn           3  \n",
       "1  Autumn           3  \n",
       "2  Autumn           3  \n",
       "3  Autumn           3  \n",
       "4  Autumn           3  "
      ]
     },
     "execution_count": 40,
     "metadata": {},
     "output_type": "execute_result"
    }
   ],
   "source": [
    "df_2018.drop(columns=['1st Road Class Description','1st Road Class'], inplace=True)\n",
    "df_2018.head()"
   ]
  },
  {
   "cell_type": "markdown",
   "metadata": {},
   "source": [
    "### Road Surface"
   ]
  },
  {
   "cell_type": "markdown",
   "metadata": {},
   "source": [
    "Road surface condition that was recorded at the time of the accident. Most probably contributes to the number as well as severity of accidents."
   ]
  },
  {
   "cell_type": "code",
   "execution_count": 41,
   "metadata": {},
   "outputs": [
    {
     "data": {
      "text/plain": [
       "Dry           0.764912\n",
       "Wet / Damp    0.213033\n",
       "Snow          0.011028\n",
       "Frost/Ice     0.010025\n",
       "Flood         0.001003\n",
       "Name: Road Surface Description, dtype: float64"
      ]
     },
     "execution_count": 41,
     "metadata": {},
     "output_type": "execute_result"
    }
   ],
   "source": [
    "##enter the descriptions of Road Surface into df so we can clearly plot it with labels\n",
    "df_2018['Road Surface Description'] = np.where(df_2018['Road Surface'] == 1, 'Dry', \n",
    "                                    np.where(df_2018['Road Surface'] == 2, 'Wet / Damp', \n",
    "                                    np.where(df_2018['Road Surface'] == 3, 'Snow', \n",
    "                                    np.where(df_2018['Road Surface'] == 4, 'Frost/Ice',\n",
    "                                    np.where(df_2018['Road Surface'] == 5, 'Flood', 'NA'\n",
    "                                    )))))\n",
    "\n",
    "## do a quick count\n",
    "df_2018['Road Surface Description'].value_counts(normalize=True)"
   ]
  },
  {
   "cell_type": "code",
   "execution_count": 42,
   "metadata": {},
   "outputs": [
    {
     "data": {
      "image/png": "[encoded data removed]",
      "text/plain": [
       "<Figure size 432x288 with 1 Axes>"
      ]
     },
     "metadata": {
      "needs_background": "light"
     },
     "output_type": "display_data"
    }
   ],
   "source": [
    "sns.countplot(x='Road Surface Description', data=df_2018, color='lightseagreen')\n",
    "plt.title('Histogram of Casualities per Road Surface Conditions in 2018') \n",
    "plt.ylabel('Number of Casualities')\n",
    "plt.xlabel('Road Surface Condition')\n",
    "plt.show()"
   ]
  },
  {
   "cell_type": "code",
   "execution_count": 43,
   "metadata": {},
   "outputs": [
    {
     "data": {
      "text/html": [
       "<div>\n",
       "<style scoped>\n",
       "    .dataframe tbody tr th:only-of-type {\n",
       "        vertical-align: middle;\n",
       "    }\n",
       "\n",
       "    .dataframe tbody tr th {\n",
       "        vertical-align: top;\n",
       "    }\n",
       "\n",
       "    .dataframe thead th {\n",
       "        text-align: right;\n",
       "    }\n",
       "</style>\n",
       "<table border=\"1\" class=\"dataframe\">\n",
       "  <thead>\n",
       "    <tr style=\"text-align: right;\">\n",
       "      <th></th>\n",
       "      <th>Road Surface Description</th>\n",
       "      <th>Casualty Severity Description</th>\n",
       "      <th>Casualty_Count</th>\n",
       "    </tr>\n",
       "  </thead>\n",
       "  <tbody>\n",
       "    <tr>\n",
       "      <th>0</th>\n",
       "      <td>Dry</td>\n",
       "      <td>Light Injuries</td>\n",
       "      <td>1271</td>\n",
       "    </tr>\n",
       "    <tr>\n",
       "      <th>7</th>\n",
       "      <td>Wet / Damp</td>\n",
       "      <td>Light Injuries</td>\n",
       "      <td>350</td>\n",
       "    </tr>\n",
       "    <tr>\n",
       "      <th>1</th>\n",
       "      <td>Dry</td>\n",
       "      <td>Serious or Fatal Injuries</td>\n",
       "      <td>255</td>\n",
       "    </tr>\n",
       "    <tr>\n",
       "      <th>8</th>\n",
       "      <td>Wet / Damp</td>\n",
       "      <td>Serious or Fatal Injuries</td>\n",
       "      <td>75</td>\n",
       "    </tr>\n",
       "    <tr>\n",
       "      <th>5</th>\n",
       "      <td>Snow</td>\n",
       "      <td>Light Injuries</td>\n",
       "      <td>19</td>\n",
       "    </tr>\n",
       "    <tr>\n",
       "      <th>3</th>\n",
       "      <td>Frost/Ice</td>\n",
       "      <td>Light Injuries</td>\n",
       "      <td>16</td>\n",
       "    </tr>\n",
       "    <tr>\n",
       "      <th>4</th>\n",
       "      <td>Frost/Ice</td>\n",
       "      <td>Serious or Fatal Injuries</td>\n",
       "      <td>4</td>\n",
       "    </tr>\n",
       "    <tr>\n",
       "      <th>6</th>\n",
       "      <td>Snow</td>\n",
       "      <td>Serious or Fatal Injuries</td>\n",
       "      <td>3</td>\n",
       "    </tr>\n",
       "    <tr>\n",
       "      <th>2</th>\n",
       "      <td>Flood</td>\n",
       "      <td>Light Injuries</td>\n",
       "      <td>2</td>\n",
       "    </tr>\n",
       "  </tbody>\n",
       "</table>\n",
       "</div>"
      ],
      "text/plain": [
       "  Road Surface Description Casualty Severity Description  Casualty_Count\n",
       "0                      Dry                Light Injuries            1271\n",
       "7               Wet / Damp                Light Injuries             350\n",
       "1                      Dry     Serious or Fatal Injuries             255\n",
       "8               Wet / Damp     Serious or Fatal Injuries              75\n",
       "5                     Snow                Light Injuries              19\n",
       "3                Frost/Ice                Light Injuries              16\n",
       "4                Frost/Ice     Serious or Fatal Injuries               4\n",
       "6                     Snow     Serious or Fatal Injuries               3\n",
       "2                    Flood                Light Injuries               2"
      ]
     },
     "execution_count": 43,
     "metadata": {},
     "output_type": "execute_result"
    }
   ],
   "source": [
    "# Figure out if there is a possible correlation between number of casualties and severity of injuries and road conditions\n",
    "Casualty_Severity_counts=df_2018.groupby(['Road Surface Description'])['Casualty Severity Description'].value_counts(ascending=False)\n",
    "Surface_Severity=pd.DataFrame(Casualty_Severity_counts.reset_index(name = \"Casualty_Count\").sort_values(by=['Casualty_Count'],ascending=False))\n",
    "Surface_Severity.head(10)"
   ]
  },
  {
   "cell_type": "code",
   "execution_count": 44,
   "metadata": {},
   "outputs": [
    {
     "data": {
      "image/png": "[encoded data removed]",
      "text/plain": [
       "<Figure size 648x432 with 1 Axes>"
      ]
     },
     "metadata": {
      "needs_background": "light"
     },
     "output_type": "display_data"
    }
   ],
   "source": [
    "plt.figure(figsize=(9,6))\n",
    "ax=sns.barplot(x='Casualty Severity Description', \n",
    "            y='Casualty_Count', \n",
    "            hue = 'Road Surface Description', \n",
    "            data=Surface_Severity, \n",
    "            orient='v',\n",
    "           palette='mako')\n",
    "plt.legend(loc='upper right')\n",
    "plt.title('Severity of accident injuries dependent on the road surface conditions') \n",
    "plt.ylabel('No of Casualties')\n",
    "plt.xlabel('Road Surface Condition')\n",
    "plt.show()"
   ]
  },
  {
   "cell_type": "code",
   "execution_count": 45,
   "metadata": {},
   "outputs": [
    {
     "data": {
      "text/plain": [
       "Road Surface Description  Casualty Severity Description\n",
       "Dry                       Light Injuries                   0.832896\n",
       "                          Serious or Fatal Injuries        0.167104\n",
       "Flood                     Light Injuries                   1.000000\n",
       "Frost/Ice                 Light Injuries                   0.800000\n",
       "                          Serious or Fatal Injuries        0.200000\n",
       "Snow                      Light Injuries                   0.863636\n",
       "                          Serious or Fatal Injuries        0.136364\n",
       "Wet / Damp                Light Injuries                   0.823529\n",
       "                          Serious or Fatal Injuries        0.176471\n",
       "Name: Casualty Severity Description, dtype: float64"
      ]
     },
     "execution_count": 45,
     "metadata": {},
     "output_type": "execute_result"
    }
   ],
   "source": [
    "Casualty_Severity_counts=df_2018.groupby(['Road Surface Description'])['Casualty Severity Description'].value_counts(normalize=True)\n",
    "Casualty_Severity_counts"
   ]
  },
  {
   "cell_type": "markdown",
   "metadata": {},
   "source": [
    "### Lighting Conditions"
   ]
  },
  {
   "cell_type": "markdown",
   "metadata": {},
   "source": [
    "Lighting conditions also might clearly be a factor for more, or more severe, accidents"
   ]
  },
  {
   "cell_type": "code",
   "execution_count": 46,
   "metadata": {},
   "outputs": [],
   "source": [
    "# Simplify the original categories, create a new column with Lighting Descriptions data\n",
    "df_2018['Lighting Conditions']=df_2018['Lighting Conditions'].replace(2,1)\n",
    "df_2018['Lighting Conditions']=df_2018['Lighting Conditions'].replace(3,1)\n",
    "df_2018['Lighting Conditions']=df_2018['Lighting Conditions'].replace(4,2)\n",
    "df_2018['Lighting Conditions']=df_2018['Lighting Conditions'].replace(5,3)\n",
    "df_2018['Lighting Conditions']=df_2018['Lighting Conditions'].replace(6,3)\n",
    "df_2018['Lighting Conditions']=df_2018['Lighting Conditions'].replace(7,4)\n",
    "df_2018['Lighting Description'] = np.where(df_2018['Lighting Conditions'] == 1, 'Daylight', \n",
    "                                np.where(df_2018['Lighting Conditions'] == 2, 'Dark, street lights', \n",
    "                                np.where(df_2018['Lighting Conditions'] == 3, 'Dark, no lights', \n",
    "                                np.where(df_2018['Lighting Conditions'] == 4, 'Dark, lighting conditions unknown','NA'\n",
    "                                ))))"
   ]
  },
  {
   "cell_type": "code",
   "execution_count": 47,
   "metadata": {},
   "outputs": [
    {
     "data": {
      "text/plain": [
       "1    1443\n",
       "2     458\n",
       "3      54\n",
       "4      40\n",
       "Name: Lighting Conditions, dtype: int64"
      ]
     },
     "execution_count": 47,
     "metadata": {},
     "output_type": "execute_result"
    }
   ],
   "source": [
    "Lighting=df_2018['Lighting Conditions'].value_counts()\n",
    "Lighting"
   ]
  },
  {
   "cell_type": "code",
   "execution_count": 48,
   "metadata": {},
   "outputs": [
    {
     "data": {
      "text/html": [
       "<div>\n",
       "<style scoped>\n",
       "    .dataframe tbody tr th:only-of-type {\n",
       "        vertical-align: middle;\n",
       "    }\n",
       "\n",
       "    .dataframe tbody tr th {\n",
       "        vertical-align: top;\n",
       "    }\n",
       "\n",
       "    .dataframe thead th {\n",
       "        text-align: right;\n",
       "    }\n",
       "</style>\n",
       "<table border=\"1\" class=\"dataframe\">\n",
       "  <thead>\n",
       "    <tr style=\"text-align: right;\">\n",
       "      <th></th>\n",
       "      <th>Lighting Description</th>\n",
       "      <th>Casualty Severity Description</th>\n",
       "      <th>Casualty_Count</th>\n",
       "    </tr>\n",
       "  </thead>\n",
       "  <tbody>\n",
       "    <tr>\n",
       "      <th>6</th>\n",
       "      <td>Daylight</td>\n",
       "      <td>Light Injuries</td>\n",
       "      <td>1213</td>\n",
       "    </tr>\n",
       "    <tr>\n",
       "      <th>4</th>\n",
       "      <td>Dark, street lights</td>\n",
       "      <td>Light Injuries</td>\n",
       "      <td>365</td>\n",
       "    </tr>\n",
       "    <tr>\n",
       "      <th>7</th>\n",
       "      <td>Daylight</td>\n",
       "      <td>Serious or Fatal Injuries</td>\n",
       "      <td>230</td>\n",
       "    </tr>\n",
       "    <tr>\n",
       "      <th>5</th>\n",
       "      <td>Dark, street lights</td>\n",
       "      <td>Serious or Fatal Injuries</td>\n",
       "      <td>93</td>\n",
       "    </tr>\n",
       "    <tr>\n",
       "      <th>2</th>\n",
       "      <td>Dark, no lights</td>\n",
       "      <td>Light Injuries</td>\n",
       "      <td>43</td>\n",
       "    </tr>\n",
       "    <tr>\n",
       "      <th>0</th>\n",
       "      <td>Dark, lighting conditions unknown</td>\n",
       "      <td>Light Injuries</td>\n",
       "      <td>37</td>\n",
       "    </tr>\n",
       "    <tr>\n",
       "      <th>3</th>\n",
       "      <td>Dark, no lights</td>\n",
       "      <td>Serious or Fatal Injuries</td>\n",
       "      <td>11</td>\n",
       "    </tr>\n",
       "    <tr>\n",
       "      <th>1</th>\n",
       "      <td>Dark, lighting conditions unknown</td>\n",
       "      <td>Serious or Fatal Injuries</td>\n",
       "      <td>3</td>\n",
       "    </tr>\n",
       "  </tbody>\n",
       "</table>\n",
       "</div>"
      ],
      "text/plain": [
       "                Lighting Description Casualty Severity Description  \\\n",
       "6                           Daylight                Light Injuries   \n",
       "4                Dark, street lights                Light Injuries   \n",
       "7                           Daylight     Serious or Fatal Injuries   \n",
       "5                Dark, street lights     Serious or Fatal Injuries   \n",
       "2                    Dark, no lights                Light Injuries   \n",
       "0  Dark, lighting conditions unknown                Light Injuries   \n",
       "3                    Dark, no lights     Serious or Fatal Injuries   \n",
       "1  Dark, lighting conditions unknown     Serious or Fatal Injuries   \n",
       "\n",
       "   Casualty_Count  \n",
       "6            1213  \n",
       "4             365  \n",
       "7             230  \n",
       "5              93  \n",
       "2              43  \n",
       "0              37  \n",
       "3              11  \n",
       "1               3  "
      ]
     },
     "execution_count": 48,
     "metadata": {},
     "output_type": "execute_result"
    }
   ],
   "source": [
    "# Is there are relationship between Lighting Conditions and number and severity of casualties?\n",
    "Casualty_Severity_Lighting=df_2018.groupby(['Lighting Description'])['Casualty Severity Description'].value_counts()\n",
    "Lighting_Severity=pd.DataFrame(Casualty_Severity_Lighting.reset_index(name = \"Casualty_Count\").sort_values(by=['Casualty_Count'],ascending=False))\n",
    "Lighting_Severity.head(10)"
   ]
  },
  {
   "cell_type": "code",
   "execution_count": 49,
   "metadata": {},
   "outputs": [
    {
     "data": {
      "image/png": "[encoded data removed]",
      "text/plain": [
       "<Figure size 648x432 with 1 Axes>"
      ]
     },
     "metadata": {
      "needs_background": "light"
     },
     "output_type": "display_data"
    }
   ],
   "source": [
    "plt.figure(figsize=(9,6))\n",
    "ax=sns.barplot(x='Casualty Severity Description', \n",
    "            y='Casualty_Count', \n",
    "            hue = 'Lighting Description', \n",
    "            data=Lighting_Severity, \n",
    "            orient='v',\n",
    "           palette='mako')\n",
    "plt.legend(loc='upper right')\n",
    "plt.title('Severity of accident injuries dependent on the road lighting') \n",
    "plt.ylabel('No of Casualties')\n",
    "plt.xlabel('Lighting Condition')\n",
    "plt.show()"
   ]
  },
  {
   "cell_type": "code",
   "execution_count": 50,
   "metadata": {},
   "outputs": [
    {
     "data": {
      "text/plain": [
       "Lighting Description               Casualty Severity Description\n",
       "Dark, lighting conditions unknown  Light Injuries                   0.925000\n",
       "                                   Serious or Fatal Injuries        0.075000\n",
       "Dark, no lights                    Light Injuries                   0.796296\n",
       "                                   Serious or Fatal Injuries        0.203704\n",
       "Dark, street lights                Light Injuries                   0.796943\n",
       "                                   Serious or Fatal Injuries        0.203057\n",
       "Daylight                           Light Injuries                   0.840610\n",
       "                                   Serious or Fatal Injuries        0.159390\n",
       "Name: Casualty Severity Description, dtype: float64"
      ]
     },
     "execution_count": 50,
     "metadata": {},
     "output_type": "execute_result"
    }
   ],
   "source": [
    "Lighting_casualties=df_2018.groupby(['Lighting Description'])['Casualty Severity Description'].value_counts(normalize=True, ascending=False)\n",
    "Lighting_casualties"
   ]
  },
  {
   "cell_type": "markdown",
   "metadata": {},
   "source": [
    "### Weather Conditions"
   ]
  },
  {
   "cell_type": "markdown",
   "metadata": {},
   "source": [
    "Weather conditions in UK are strongly seasonal and definitely have potential of affecting the accident rate and severity"
   ]
  },
  {
   "cell_type": "code",
   "execution_count": 51,
   "metadata": {},
   "outputs": [
    {
     "data": {
      "text/plain": [
       "Fine           1757\n",
       "Rain            166\n",
       "Rain & Wind      20\n",
       "Snow             16\n",
       "Windy            16\n",
       "Unknown          12\n",
       "Fog               4\n",
       "Snow & Wind       4\n",
       "Name: Weather Description, dtype: int64"
      ]
     },
     "execution_count": 51,
     "metadata": {},
     "output_type": "execute_result"
    }
   ],
   "source": [
    "# reduce the number of categories and add a new column with description values\n",
    "df_2018['Weather Conditions']=df_2018['Weather Conditions'].replace(9,8)\n",
    "df_2018['Weather Description'] = np.where(df_2018['Weather Conditions'] == 1, 'Fine', \n",
    "                                np.where(df_2018['Weather Conditions'] == 2, 'Rain', \n",
    "                                np.where(df_2018['Weather Conditions'] == 3, 'Snow', \n",
    "                                np.where(df_2018['Weather Conditions'] == 4, 'Windy',\n",
    "                                np.where(df_2018['Weather Conditions'] == 5, 'Rain & Wind',\n",
    "                                np.where(df_2018['Weather Conditions'] == 6, 'Snow & Wind',\n",
    "                                np.where(df_2018['Weather Conditions'] == 7, 'Fog',\n",
    "                                np.where(df_2018['Weather Conditions'] == 8, 'Unknown','NA'\n",
    "                                ))))))))\n",
    "Weather_Description=df_2018['Weather Description'].value_counts(ascending=False)\n",
    "Weather_Description"
   ]
  },
  {
   "cell_type": "code",
   "execution_count": 52,
   "metadata": {},
   "outputs": [
    {
     "data": {
      "text/html": [
       "<div>\n",
       "<style scoped>\n",
       "    .dataframe tbody tr th:only-of-type {\n",
       "        vertical-align: middle;\n",
       "    }\n",
       "\n",
       "    .dataframe tbody tr th {\n",
       "        vertical-align: top;\n",
       "    }\n",
       "\n",
       "    .dataframe thead th {\n",
       "        text-align: right;\n",
       "    }\n",
       "</style>\n",
       "<table border=\"1\" class=\"dataframe\">\n",
       "  <thead>\n",
       "    <tr style=\"text-align: right;\">\n",
       "      <th></th>\n",
       "      <th>Weather Description</th>\n",
       "      <th>Casualty Severity Description</th>\n",
       "      <th>Casualty_Count</th>\n",
       "    </tr>\n",
       "  </thead>\n",
       "  <tbody>\n",
       "    <tr>\n",
       "      <th>0</th>\n",
       "      <td>Fine</td>\n",
       "      <td>Light Injuries</td>\n",
       "      <td>1462</td>\n",
       "    </tr>\n",
       "    <tr>\n",
       "      <th>1</th>\n",
       "      <td>Fine</td>\n",
       "      <td>Serious or Fatal Injuries</td>\n",
       "      <td>295</td>\n",
       "    </tr>\n",
       "    <tr>\n",
       "      <th>4</th>\n",
       "      <td>Rain</td>\n",
       "      <td>Light Injuries</td>\n",
       "      <td>141</td>\n",
       "    </tr>\n",
       "    <tr>\n",
       "      <th>5</th>\n",
       "      <td>Rain</td>\n",
       "      <td>Serious or Fatal Injuries</td>\n",
       "      <td>25</td>\n",
       "    </tr>\n",
       "    <tr>\n",
       "      <th>6</th>\n",
       "      <td>Rain &amp; Wind</td>\n",
       "      <td>Light Injuries</td>\n",
       "      <td>16</td>\n",
       "    </tr>\n",
       "    <tr>\n",
       "      <th>8</th>\n",
       "      <td>Snow</td>\n",
       "      <td>Light Injuries</td>\n",
       "      <td>13</td>\n",
       "    </tr>\n",
       "    <tr>\n",
       "      <th>13</th>\n",
       "      <td>Windy</td>\n",
       "      <td>Light Injuries</td>\n",
       "      <td>13</td>\n",
       "    </tr>\n",
       "    <tr>\n",
       "      <th>11</th>\n",
       "      <td>Unknown</td>\n",
       "      <td>Light Injuries</td>\n",
       "      <td>6</td>\n",
       "    </tr>\n",
       "    <tr>\n",
       "      <th>12</th>\n",
       "      <td>Unknown</td>\n",
       "      <td>Serious or Fatal Injuries</td>\n",
       "      <td>6</td>\n",
       "    </tr>\n",
       "    <tr>\n",
       "      <th>7</th>\n",
       "      <td>Rain &amp; Wind</td>\n",
       "      <td>Serious or Fatal Injuries</td>\n",
       "      <td>4</td>\n",
       "    </tr>\n",
       "  </tbody>\n",
       "</table>\n",
       "</div>"
      ],
      "text/plain": [
       "   Weather Description Casualty Severity Description  Casualty_Count\n",
       "0                 Fine                Light Injuries            1462\n",
       "1                 Fine     Serious or Fatal Injuries             295\n",
       "4                 Rain                Light Injuries             141\n",
       "5                 Rain     Serious or Fatal Injuries              25\n",
       "6          Rain & Wind                Light Injuries              16\n",
       "8                 Snow                Light Injuries              13\n",
       "13               Windy                Light Injuries              13\n",
       "11             Unknown                Light Injuries               6\n",
       "12             Unknown     Serious or Fatal Injuries               6\n",
       "7          Rain & Wind     Serious or Fatal Injuries               4"
      ]
     },
     "execution_count": 52,
     "metadata": {},
     "output_type": "execute_result"
    }
   ],
   "source": [
    "# Is there a relationship between weather and accident rate and severity of casualties?\n",
    "Casualty_Severity_Weather=df_2018.groupby(['Weather Description'])['Casualty Severity Description'].value_counts()\n",
    "Weather_Severity=pd.DataFrame(Casualty_Severity_Weather.reset_index(name = \"Casualty_Count\").sort_values(by=['Casualty_Count'],ascending=False))\n",
    "Weather_Severity.head(10)"
   ]
  },
  {
   "cell_type": "code",
   "execution_count": 53,
   "metadata": {},
   "outputs": [
    {
     "data": {
      "image/png": "[encoded data removed]",
      "text/plain": [
       "<Figure size 648x432 with 1 Axes>"
      ]
     },
     "metadata": {
      "needs_background": "light"
     },
     "output_type": "display_data"
    }
   ],
   "source": [
    "plt.figure(figsize=(9,6))\n",
    "ax=sns.barplot(x='Weather Description', \n",
    "            y='Casualty_Count', \n",
    "            hue = 'Casualty Severity Description', \n",
    "            data=Weather_Severity, \n",
    "            orient='v',\n",
    "           palette='mako')\n",
    "plt.legend(loc='upper right')\n",
    "plt.title('Severity of accident injuries dependent on the weather conditions') \n",
    "plt.ylabel('No of Casualties')\n",
    "plt.xlabel('Weather Conditions')\n",
    "plt.show()"
   ]
  },
  {
   "cell_type": "code",
   "execution_count": 54,
   "metadata": {},
   "outputs": [
    {
     "data": {
      "text/plain": [
       "Time of day          Weather Description\n",
       "Afternoon            Fine                   0.908766\n",
       "                     Rain                   0.057245\n",
       "                     Windy                  0.008945\n",
       "                     Rain & Wind            0.007156\n",
       "                     Fog                    0.005367\n",
       "                     Snow                   0.005367\n",
       "                     Snow & Wind            0.003578\n",
       "                     Unknown                0.003578\n",
       "Afternoon Rush Hour  Fine                   0.879760\n",
       "                     Rain                   0.078156\n",
       "                     Rain & Wind            0.018036\n",
       "                     Snow                   0.010020\n",
       "                     Windy                  0.008016\n",
       "                     Unknown                0.004008\n",
       "                     Snow & Wind            0.002004\n",
       "Early Morning        Fine                   0.742857\n",
       "                     Rain                   0.171429\n",
       "                     Rain & Wind            0.028571\n",
       "                     Snow                   0.028571\n",
       "                     Unknown                0.028571\n",
       "Evening              Fine                   0.876812\n",
       "                     Rain                   0.097826\n",
       "                     Snow                   0.010870\n",
       "                     Windy                  0.007246\n",
       "                     Rain & Wind            0.003623\n",
       "                     Unknown                0.003623\n",
       "Late Morning         Fine                   0.884615\n",
       "                     Rain                   0.091346\n",
       "                     Snow                   0.009615\n",
       "                     Rain & Wind            0.004808\n",
       "                     Unknown                0.004808\n",
       "                     Windy                  0.004808\n",
       "Morning Rush Hour    Fine                   0.869231\n",
       "                     Rain                   0.100000\n",
       "                     Windy                  0.011538\n",
       "                     Unknown                0.007692\n",
       "                     Fog                    0.003846\n",
       "                     Rain & Wind            0.003846\n",
       "                     Snow                   0.003846\n",
       "Night                Fine                   0.835443\n",
       "                     Rain                   0.107595\n",
       "                     Rain & Wind            0.018987\n",
       "                     Unknown                0.018987\n",
       "                     Snow                   0.006329\n",
       "                     Snow & Wind            0.006329\n",
       "                     Windy                  0.006329\n",
       "Name: Weather Description, dtype: float64"
      ]
     },
     "execution_count": 54,
     "metadata": {},
     "output_type": "execute_result"
    }
   ],
   "source": [
    "Weather_casualties_timeofday=df_2018.groupby(['Time of day'])['Weather Description'].value_counts(normalize=True, ascending=False)\n",
    "Weather_casualties_timeofday"
   ]
  },
  {
   "cell_type": "code",
   "execution_count": 55,
   "metadata": {},
   "outputs": [
    {
     "data": {
      "text/plain": [
       "Season  Weather Description\n",
       "Autumn  Fine                   0.871648\n",
       "        Rain                   0.093870\n",
       "        Unknown                0.011494\n",
       "        Windy                  0.011494\n",
       "        Rain & Wind            0.007663\n",
       "        Fog                    0.003831\n",
       "Spring  Fine                   0.888462\n",
       "        Rain                   0.076923\n",
       "        Rain & Wind            0.019231\n",
       "        Fog                    0.003846\n",
       "        Unknown                0.003846\n",
       "        Windy                  0.003846\n",
       "        Snow                   0.001923\n",
       "        Snow & Wind            0.001923\n",
       "Summer  Fine                   0.922925\n",
       "        Rain                   0.059289\n",
       "        Windy                  0.007905\n",
       "        Rain & Wind            0.003953\n",
       "        Snow                   0.003953\n",
       "        Unknown                0.001976\n",
       "Winter  Fine                   0.834452\n",
       "        Rain                   0.105145\n",
       "        Snow                   0.029083\n",
       "        Rain & Wind            0.008949\n",
       "        Windy                  0.008949\n",
       "        Snow & Wind            0.006711\n",
       "        Unknown                0.006711\n",
       "Name: Weather Description, dtype: float64"
      ]
     },
     "execution_count": 55,
     "metadata": {},
     "output_type": "execute_result"
    }
   ],
   "source": [
    "# take a look if maybe weather together with time of day affects the accident rate or severity\n",
    "Seasonal_weather=df_2018.groupby(['Season'])['Weather Description'].value_counts(normalize=True,ascending=False)\n",
    "Seasonal_weather"
   ]
  },
  {
   "cell_type": "code",
   "execution_count": 56,
   "metadata": {},
   "outputs": [
    {
     "data": {
      "text/plain": [
       "<seaborn.axisgrid.FacetGrid at 0x7f34294e6cf8>"
      ]
     },
     "execution_count": 56,
     "metadata": {},
     "output_type": "execute_result"
    },
    {
     "data": {
      "text/plain": [
       "<Figure size 1080x432 with 0 Axes>"
      ]
     },
     "metadata": {},
     "output_type": "display_data"
    },
    {
     "data": {
      "image/png": "[encoded data removed]",
      "text/plain": [
       "<Figure size 455.625x360 with 1 Axes>"
      ]
     },
     "metadata": {
      "needs_background": "light"
     },
     "output_type": "display_data"
    }
   ],
   "source": [
    "# maybe the weather and season have cumulative effect on number of casualties and severit<y of accidents?\n",
    "plt.figure(figsize=(15,6))\n",
    "sns.catplot(x=\"Season\", y=\"Weather Conditions\", hue=\"Casualty Severity\", kind=\"swarm\", data=df_2018, palette='mako')"
   ]
  },
  {
   "cell_type": "markdown",
   "metadata": {},
   "source": [
    "### Vehicle Type"
   ]
  },
  {
   "cell_type": "markdown",
   "metadata": {},
   "source": [
    "It could be that vehicles that travel slower or are bigger (e.g. bus or tractor) cause less casualties than vehicles that are faster and smaller (e.g. motorbikes)"
   ]
  },
  {
   "cell_type": "code",
   "execution_count": 57,
   "metadata": {},
   "outputs": [
    {
     "data": {
      "text/plain": [
       "Car                1337\n",
       "Bicycle/Scooter     314\n",
       "Bus                 127\n",
       "Motorcycle           93\n",
       "Truck                80\n",
       "Horse                40\n",
       "Other                 4\n",
       "Name: Vehicle Description, dtype: int64"
      ]
     },
     "execution_count": 57,
     "metadata": {},
     "output_type": "execute_result"
    }
   ],
   "source": [
    "# concentrate & simplify the current values\n",
    "# add a new column with vehicle descriptions\n",
    "df_2018['Type of Vehicle']=df_2018['Type of Vehicle'].replace([2,22],1)\n",
    "df_2018['Type of Vehicle']=df_2018['Type of Vehicle'].replace([3,4,97],2)\n",
    "df_2018['Type of Vehicle']=df_2018['Type of Vehicle'].replace([8,9,10],3)\n",
    "df_2018['Type of Vehicle']=df_2018['Type of Vehicle'].replace(11,4)\n",
    "df_2018['Type of Vehicle']=df_2018['Type of Vehicle'].replace(16,5)\n",
    "df_2018['Type of Vehicle']=df_2018['Type of Vehicle'].replace(17,6)\n",
    "df_2018['Type of Vehicle']=df_2018['Type of Vehicle'].replace(18,7)\n",
    "df_2018['Type of Vehicle']=df_2018['Type of Vehicle'].replace([19,20,21],8)\n",
    "df_2018['Type of Vehicle']=df_2018['Type of Vehicle'].replace([14,15,90],9)\n",
    "df_2018['Vehicle Description'] = np.where(df_2018['Type of Vehicle'] == 1, 'Bicycle/Scooter', \n",
    "                                np.where(df_2018['Type of Vehicle'] == 2, 'Motorcycle', \n",
    "                                np.where(df_2018['Type of Vehicle'] == 3, 'Car', \n",
    "                                np.where(df_2018['Type of Vehicle'] == 4, 'Bus',\n",
    "                                np.where(df_2018['Type of Vehicle'] == 5, 'Horse',\n",
    "                                np.where(df_2018['Type of Vehicle'] == 6, 'Big & Slow',\n",
    "                                np.where(df_2018['Type of Vehicle'] == 7, 'Tram/Light Rail',\n",
    "                                np.where(df_2018['Type of Vehicle'] == 8, 'Truck',\n",
    "                                np.where(df_2018['Type of Vehicle'] == 9, 'Other','NA'\n",
    "                                )))))))))\n",
    "Vehicle_Descriptions=df_2018['Vehicle Description'].value_counts(ascending=False)\n",
    "Vehicle_Descriptions"
   ]
  },
  {
   "cell_type": "code",
   "execution_count": 58,
   "metadata": {},
   "outputs": [
    {
     "data": {
      "text/html": [
       "<div>\n",
       "<style scoped>\n",
       "    .dataframe tbody tr th:only-of-type {\n",
       "        vertical-align: middle;\n",
       "    }\n",
       "\n",
       "    .dataframe tbody tr th {\n",
       "        vertical-align: top;\n",
       "    }\n",
       "\n",
       "    .dataframe thead th {\n",
       "        text-align: right;\n",
       "    }\n",
       "</style>\n",
       "<table border=\"1\" class=\"dataframe\">\n",
       "  <thead>\n",
       "    <tr style=\"text-align: right;\">\n",
       "      <th></th>\n",
       "      <th>Vehicle Description</th>\n",
       "      <th>Casualty Severity Description</th>\n",
       "      <th>Casualty_Count</th>\n",
       "    </tr>\n",
       "  </thead>\n",
       "  <tbody>\n",
       "    <tr>\n",
       "      <th>4</th>\n",
       "      <td>Car</td>\n",
       "      <td>Light Injuries</td>\n",
       "      <td>1158</td>\n",
       "    </tr>\n",
       "    <tr>\n",
       "      <th>0</th>\n",
       "      <td>Bicycle/Scooter</td>\n",
       "      <td>Light Injuries</td>\n",
       "      <td>245</td>\n",
       "    </tr>\n",
       "    <tr>\n",
       "      <th>5</th>\n",
       "      <td>Car</td>\n",
       "      <td>Serious or Fatal Injuries</td>\n",
       "      <td>179</td>\n",
       "    </tr>\n",
       "    <tr>\n",
       "      <th>2</th>\n",
       "      <td>Bus</td>\n",
       "      <td>Light Injuries</td>\n",
       "      <td>115</td>\n",
       "    </tr>\n",
       "    <tr>\n",
       "      <th>1</th>\n",
       "      <td>Bicycle/Scooter</td>\n",
       "      <td>Serious or Fatal Injuries</td>\n",
       "      <td>69</td>\n",
       "    </tr>\n",
       "    <tr>\n",
       "      <th>12</th>\n",
       "      <td>Truck</td>\n",
       "      <td>Light Injuries</td>\n",
       "      <td>68</td>\n",
       "    </tr>\n",
       "    <tr>\n",
       "      <th>8</th>\n",
       "      <td>Motorcycle</td>\n",
       "      <td>Light Injuries</td>\n",
       "      <td>49</td>\n",
       "    </tr>\n",
       "    <tr>\n",
       "      <th>9</th>\n",
       "      <td>Motorcycle</td>\n",
       "      <td>Serious or Fatal Injuries</td>\n",
       "      <td>44</td>\n",
       "    </tr>\n",
       "    <tr>\n",
       "      <th>6</th>\n",
       "      <td>Horse</td>\n",
       "      <td>Light Injuries</td>\n",
       "      <td>20</td>\n",
       "    </tr>\n",
       "    <tr>\n",
       "      <th>7</th>\n",
       "      <td>Horse</td>\n",
       "      <td>Serious or Fatal Injuries</td>\n",
       "      <td>20</td>\n",
       "    </tr>\n",
       "    <tr>\n",
       "      <th>3</th>\n",
       "      <td>Bus</td>\n",
       "      <td>Serious or Fatal Injuries</td>\n",
       "      <td>12</td>\n",
       "    </tr>\n",
       "    <tr>\n",
       "      <th>13</th>\n",
       "      <td>Truck</td>\n",
       "      <td>Serious or Fatal Injuries</td>\n",
       "      <td>12</td>\n",
       "    </tr>\n",
       "    <tr>\n",
       "      <th>10</th>\n",
       "      <td>Other</td>\n",
       "      <td>Light Injuries</td>\n",
       "      <td>3</td>\n",
       "    </tr>\n",
       "    <tr>\n",
       "      <th>11</th>\n",
       "      <td>Other</td>\n",
       "      <td>Serious or Fatal Injuries</td>\n",
       "      <td>1</td>\n",
       "    </tr>\n",
       "  </tbody>\n",
       "</table>\n",
       "</div>"
      ],
      "text/plain": [
       "   Vehicle Description Casualty Severity Description  Casualty_Count\n",
       "4                  Car                Light Injuries            1158\n",
       "0      Bicycle/Scooter                Light Injuries             245\n",
       "5                  Car     Serious or Fatal Injuries             179\n",
       "2                  Bus                Light Injuries             115\n",
       "1      Bicycle/Scooter     Serious or Fatal Injuries              69\n",
       "12               Truck                Light Injuries              68\n",
       "8           Motorcycle                Light Injuries              49\n",
       "9           Motorcycle     Serious or Fatal Injuries              44\n",
       "6                Horse                Light Injuries              20\n",
       "7                Horse     Serious or Fatal Injuries              20\n",
       "3                  Bus     Serious or Fatal Injuries              12\n",
       "13               Truck     Serious or Fatal Injuries              12\n",
       "10               Other                Light Injuries               3\n",
       "11               Other     Serious or Fatal Injuries               1"
      ]
     },
     "execution_count": 58,
     "metadata": {},
     "output_type": "execute_result"
    }
   ],
   "source": [
    "Casualty_Severity_Vehicle=df_2018.groupby(['Vehicle Description'])['Casualty Severity Description'].value_counts()\n",
    "Vehicle_Severity=pd.DataFrame(Casualty_Severity_Vehicle.reset_index(name = \"Casualty_Count\").sort_values(by=['Casualty_Count'],ascending=False))\n",
    "Vehicle_Severity"
   ]
  },
  {
   "cell_type": "code",
   "execution_count": 59,
   "metadata": {},
   "outputs": [
    {
     "data": {
      "image/png": "[encoded data removed]",
      "text/plain": [
       "<Figure size 864x432 with 1 Axes>"
      ]
     },
     "metadata": {
      "needs_background": "light"
     },
     "output_type": "display_data"
    }
   ],
   "source": [
    "plt.figure(figsize=(12,6))\n",
    "ax=sns.barplot(x='Vehicle Description', \n",
    "            y='Casualty_Count', \n",
    "            hue = 'Casualty Severity Description', \n",
    "            data=Vehicle_Severity, \n",
    "            orient='v',\n",
    "           palette='mako')\n",
    "plt.legend(loc='upper right')\n",
    "plt.title('Severity of accident injuries dependent on the vehicle') \n",
    "plt.ylabel('No of Casualties')\n",
    "plt.xlabel('Vehicle Description')\n",
    "plt.show()"
   ]
  },
  {
   "cell_type": "code",
   "execution_count": 60,
   "metadata": {},
   "outputs": [
    {
     "data": {
      "text/plain": [
       "Vehicle Description  Casualty Severity Description\n",
       "Bicycle/Scooter      Light Injuries                   0.780255\n",
       "                     Serious or Fatal Injuries        0.219745\n",
       "Bus                  Light Injuries                   0.905512\n",
       "                     Serious or Fatal Injuries        0.094488\n",
       "Car                  Light Injuries                   0.866118\n",
       "                     Serious or Fatal Injuries        0.133882\n",
       "Horse                Light Injuries                   0.500000\n",
       "                     Serious or Fatal Injuries        0.500000\n",
       "Motorcycle           Light Injuries                   0.526882\n",
       "                     Serious or Fatal Injuries        0.473118\n",
       "Other                Light Injuries                   0.750000\n",
       "                     Serious or Fatal Injuries        0.250000\n",
       "Truck                Light Injuries                   0.850000\n",
       "                     Serious or Fatal Injuries        0.150000\n",
       "Name: Casualty Severity Description, dtype: float64"
      ]
     },
     "execution_count": 60,
     "metadata": {},
     "output_type": "execute_result"
    }
   ],
   "source": [
    "Vehicle_casualties=df_2018.groupby(['Vehicle Description'])['Casualty Severity Description'].value_counts(normalize=True, ascending=False)\n",
    "Vehicle_casualties"
   ]
  },
  {
   "cell_type": "markdown",
   "metadata": {},
   "source": [
    "### Age and Sex of Casualty"
   ]
  },
  {
   "cell_type": "markdown",
   "metadata": {},
   "source": [
    "Could the gender and age of victims have statistically significant influence on the accident count and severity?"
   ]
  },
  {
   "cell_type": "code",
   "execution_count": 61,
   "metadata": {},
   "outputs": [
    {
     "data": {
      "text/plain": [
       "Male      1176\n",
       "Female     819\n",
       "Name: Gender, dtype: int64"
      ]
     },
     "execution_count": 61,
     "metadata": {},
     "output_type": "execute_result"
    }
   ],
   "source": [
    "# add in a column with male / female gender description, compute the counts\n",
    "df_2018['Gender'] = np.where(df_2018['Sex of Casualty'] == 1, 'Male', \n",
    "                                np.where(df_2018['Sex of Casualty'] == 2, 'Female', 'NA'))\n",
    "df_2018['Gender'].value_counts()"
   ]
  },
  {
   "cell_type": "code",
   "execution_count": 62,
   "metadata": {},
   "outputs": [
    {
     "data": {
      "text/plain": [
       "<seaborn.axisgrid.FacetGrid at 0x7f3419acdcc0>"
      ]
     },
     "execution_count": 62,
     "metadata": {},
     "output_type": "execute_result"
    },
    {
     "data": {
      "image/png": "[encoded data removed]",
      "text/plain": [
       "<Figure size 792.125x360 with 1 Axes>"
      ]
     },
     "metadata": {
      "needs_background": "light"
     },
     "output_type": "display_data"
    }
   ],
   "source": [
    "# plot the gender and age distribution over the Light and Serious/Fatal categories\n",
    "sns.catplot(x='Casualty Severity Description', \n",
    "            y=\"Age of Casualty\", \n",
    "            hue='Gender', \n",
    "            kind=\"violin\", \n",
    "            split=True, \n",
    "            scale='count', \n",
    "            data=df_2018, \n",
    "            palette='mako',\n",
    "            height=5, \n",
    "            aspect=2)"
   ]
  },
  {
   "cell_type": "code",
   "execution_count": 63,
   "metadata": {},
   "outputs": [
    {
     "data": {
      "text/plain": [
       "Gender  Casualty Severity Description\n",
       "Female  Light Injuries                   0.894994\n",
       "        Serious or Fatal Injuries        0.105006\n",
       "Male    Light Injuries                   0.786565\n",
       "        Serious or Fatal Injuries        0.213435\n",
       "Name: Casualty Severity Description, dtype: float64"
      ]
     },
     "execution_count": 63,
     "metadata": {},
     "output_type": "execute_result"
    }
   ],
   "source": [
    "Gender_casualties=df_2018.groupby(['Gender'])['Casualty Severity Description'].value_counts(normalize=True, ascending=False)\n",
    "Gender_casualties"
   ]
  },
  {
   "cell_type": "code",
   "execution_count": 64,
   "metadata": {},
   "outputs": [
    {
     "data": {
      "image/png": "[encoded data removed]",
      "text/plain": [
       "<Figure size 720x360 with 1 Axes>"
      ]
     },
     "metadata": {
      "needs_background": "light"
     },
     "output_type": "display_data"
    }
   ],
   "source": [
    "# relationship between chosen vehicle, age and gender\n",
    "sns.catplot(x='Vehicle Description', xmin=0,\n",
    "            y='Age of Casualty',\n",
    "            data=df_2018, \n",
    "            palette='mako', \n",
    "            hue='Gender', \n",
    "            kind=\"violin\", \n",
    "            split=True, \n",
    "            scale='count',\n",
    "           height=5,\n",
    "           aspect=2,\n",
    "           legend=False)\n",
    "plt.legend(loc='upper right')\n",
    "plt.title('Violin plot of gender devision in casualties per vehicle type') \n",
    "plt.ylabel('Age of Casualties')\n",
    "plt.xlabel('Vehicle / Gender')\n",
    "plt.show()"
   ]
  },
  {
   "cell_type": "markdown",
   "metadata": {},
   "source": [
    "### Casualty Severity Score"
   ]
  },
  {
   "cell_type": "markdown",
   "metadata": {},
   "source": [
    "In order to measure the severity of accidents, we need to define accident severity and have a solid method for categorisation. "
   ]
  },
  {
   "cell_type": "code",
   "execution_count": 65,
   "metadata": {},
   "outputs": [
    {
     "data": {
      "text/html": [
       "<div>\n",
       "<style scoped>\n",
       "    .dataframe tbody tr th:only-of-type {\n",
       "        vertical-align: middle;\n",
       "    }\n",
       "\n",
       "    .dataframe tbody tr th {\n",
       "        vertical-align: top;\n",
       "    }\n",
       "\n",
       "    .dataframe thead th {\n",
       "        text-align: right;\n",
       "    }\n",
       "</style>\n",
       "<table border=\"1\" class=\"dataframe\">\n",
       "  <thead>\n",
       "    <tr style=\"text-align: right;\">\n",
       "      <th></th>\n",
       "      <th>Accident Ref No</th>\n",
       "      <th>Number of Vehicles</th>\n",
       "      <th>Number of Casualties</th>\n",
       "      <th>CS Value</th>\n",
       "    </tr>\n",
       "  </thead>\n",
       "  <tbody>\n",
       "    <tr>\n",
       "      <th>1985</th>\n",
       "      <td>5CR1051</td>\n",
       "      <td>2</td>\n",
       "      <td>1</td>\n",
       "      <td>1</td>\n",
       "    </tr>\n",
       "    <tr>\n",
       "      <th>1986</th>\n",
       "      <td>5CR1299</td>\n",
       "      <td>2</td>\n",
       "      <td>1</td>\n",
       "      <td>1</td>\n",
       "    </tr>\n",
       "    <tr>\n",
       "      <th>1987</th>\n",
       "      <td>5CU0470</td>\n",
       "      <td>2</td>\n",
       "      <td>1</td>\n",
       "      <td>2</td>\n",
       "    </tr>\n",
       "    <tr>\n",
       "      <th>1988</th>\n",
       "      <td>5CU0926</td>\n",
       "      <td>2</td>\n",
       "      <td>1</td>\n",
       "      <td>1</td>\n",
       "    </tr>\n",
       "    <tr>\n",
       "      <th>1989</th>\n",
       "      <td>5CU1803</td>\n",
       "      <td>2</td>\n",
       "      <td>1</td>\n",
       "      <td>1</td>\n",
       "    </tr>\n",
       "    <tr>\n",
       "      <th>1990</th>\n",
       "      <td>5CV0814</td>\n",
       "      <td>2</td>\n",
       "      <td>4</td>\n",
       "      <td>5</td>\n",
       "    </tr>\n",
       "    <tr>\n",
       "      <th>1991</th>\n",
       "      <td>5CV0814</td>\n",
       "      <td>2</td>\n",
       "      <td>4</td>\n",
       "      <td>5</td>\n",
       "    </tr>\n",
       "    <tr>\n",
       "      <th>1992</th>\n",
       "      <td>5CV0814</td>\n",
       "      <td>2</td>\n",
       "      <td>4</td>\n",
       "      <td>5</td>\n",
       "    </tr>\n",
       "    <tr>\n",
       "      <th>1993</th>\n",
       "      <td>5CV0814</td>\n",
       "      <td>2</td>\n",
       "      <td>4</td>\n",
       "      <td>5</td>\n",
       "    </tr>\n",
       "    <tr>\n",
       "      <th>1994</th>\n",
       "      <td>5CV1097</td>\n",
       "      <td>1</td>\n",
       "      <td>1</td>\n",
       "      <td>1</td>\n",
       "    </tr>\n",
       "  </tbody>\n",
       "</table>\n",
       "</div>"
      ],
      "text/plain": [
       "     Accident Ref No  Number of Vehicles  Number of Casualties  CS Value\n",
       "1985         5CR1051                   2                     1         1\n",
       "1986         5CR1299                   2                     1         1\n",
       "1987         5CU0470                   2                     1         2\n",
       "1988         5CU0926                   2                     1         1\n",
       "1989         5CU1803                   2                     1         1\n",
       "1990         5CV0814                   2                     4         5\n",
       "1991         5CV0814                   2                     4         5\n",
       "1992         5CV0814                   2                     4         5\n",
       "1993         5CV0814                   2                     4         5\n",
       "1994         5CV1097                   1                     1         1"
      ]
     },
     "execution_count": 65,
     "metadata": {},
     "output_type": "execute_result"
    }
   ],
   "source": [
    "# add a column with Casualty Severity value per accident to the data set. \n",
    "# it is a sum of all the Casualty Severity values of victims who were involved in the same accident\n",
    "df_2018['CS Value'] = df_2018.groupby(['Accident Ref No'])['Casualty Severity'].transform(sum)\n",
    "df_2018[['Accident Ref No','Number of Vehicles','Number of Casualties','CS Value']].tail(10)"
   ]
  },
  {
   "cell_type": "code",
   "execution_count": 66,
   "metadata": {},
   "outputs": [
    {
     "data": {
      "text/html": [
       "<div>\n",
       "<style scoped>\n",
       "    .dataframe tbody tr th:only-of-type {\n",
       "        vertical-align: middle;\n",
       "    }\n",
       "\n",
       "    .dataframe tbody tr th {\n",
       "        vertical-align: top;\n",
       "    }\n",
       "\n",
       "    .dataframe thead th {\n",
       "        text-align: right;\n",
       "    }\n",
       "</style>\n",
       "<table border=\"1\" class=\"dataframe\">\n",
       "  <thead>\n",
       "    <tr style=\"text-align: right;\">\n",
       "      <th></th>\n",
       "      <th>Accident Ref No</th>\n",
       "      <th>Number of Vehicles</th>\n",
       "      <th>CS Value</th>\n",
       "      <th>SS Value</th>\n",
       "    </tr>\n",
       "  </thead>\n",
       "  <tbody>\n",
       "    <tr>\n",
       "      <th>1985</th>\n",
       "      <td>5CR1051</td>\n",
       "      <td>2</td>\n",
       "      <td>1</td>\n",
       "      <td>3</td>\n",
       "    </tr>\n",
       "    <tr>\n",
       "      <th>1986</th>\n",
       "      <td>5CR1299</td>\n",
       "      <td>2</td>\n",
       "      <td>1</td>\n",
       "      <td>3</td>\n",
       "    </tr>\n",
       "    <tr>\n",
       "      <th>1987</th>\n",
       "      <td>5CU0470</td>\n",
       "      <td>2</td>\n",
       "      <td>2</td>\n",
       "      <td>4</td>\n",
       "    </tr>\n",
       "    <tr>\n",
       "      <th>1988</th>\n",
       "      <td>5CU0926</td>\n",
       "      <td>2</td>\n",
       "      <td>1</td>\n",
       "      <td>3</td>\n",
       "    </tr>\n",
       "    <tr>\n",
       "      <th>1989</th>\n",
       "      <td>5CU1803</td>\n",
       "      <td>2</td>\n",
       "      <td>1</td>\n",
       "      <td>3</td>\n",
       "    </tr>\n",
       "    <tr>\n",
       "      <th>1990</th>\n",
       "      <td>5CV0814</td>\n",
       "      <td>2</td>\n",
       "      <td>5</td>\n",
       "      <td>7</td>\n",
       "    </tr>\n",
       "    <tr>\n",
       "      <th>1991</th>\n",
       "      <td>5CV0814</td>\n",
       "      <td>2</td>\n",
       "      <td>5</td>\n",
       "      <td>7</td>\n",
       "    </tr>\n",
       "    <tr>\n",
       "      <th>1992</th>\n",
       "      <td>5CV0814</td>\n",
       "      <td>2</td>\n",
       "      <td>5</td>\n",
       "      <td>7</td>\n",
       "    </tr>\n",
       "    <tr>\n",
       "      <th>1993</th>\n",
       "      <td>5CV0814</td>\n",
       "      <td>2</td>\n",
       "      <td>5</td>\n",
       "      <td>7</td>\n",
       "    </tr>\n",
       "    <tr>\n",
       "      <th>1994</th>\n",
       "      <td>5CV1097</td>\n",
       "      <td>1</td>\n",
       "      <td>1</td>\n",
       "      <td>2</td>\n",
       "    </tr>\n",
       "  </tbody>\n",
       "</table>\n",
       "</div>"
      ],
      "text/plain": [
       "     Accident Ref No  Number of Vehicles  CS Value  SS Value\n",
       "1985         5CR1051                   2         1         3\n",
       "1986         5CR1299                   2         1         3\n",
       "1987         5CU0470                   2         2         4\n",
       "1988         5CU0926                   2         1         3\n",
       "1989         5CU1803                   2         1         3\n",
       "1990         5CV0814                   2         5         7\n",
       "1991         5CV0814                   2         5         7\n",
       "1992         5CV0814                   2         5         7\n",
       "1993         5CV0814                   2         5         7\n",
       "1994         5CV1097                   1         1         2"
      ]
     },
     "execution_count": 66,
     "metadata": {},
     "output_type": "execute_result"
    }
   ],
   "source": [
    "# add Severity Score Value column to the data set\n",
    "# this is sum of overall Casualty Severity score of an accident and Number of Vehicles\n",
    "df_2018['SS Value'] = df_2018['Number of Vehicles']+df_2018['CS Value']\n",
    "df_2018[['Accident Ref No','Number of Vehicles','CS Value','SS Value']].tail(10)"
   ]
  },
  {
   "cell_type": "code",
   "execution_count": 67,
   "metadata": {},
   "outputs": [
    {
     "data": {
      "text/plain": [
       "2     309\n",
       "3     760\n",
       "4     441\n",
       "5     231\n",
       "6     139\n",
       "7      34\n",
       "8      28\n",
       "9      25\n",
       "10     12\n",
       "11      9\n",
       "16      7\n",
       "Name: SS Value, dtype: int64"
      ]
     },
     "execution_count": 67,
     "metadata": {},
     "output_type": "execute_result"
    }
   ],
   "source": [
    "df_2018['SS Value'].value_counts(sort=False)"
   ]
  },
  {
   "cell_type": "code",
   "execution_count": 68,
   "metadata": {},
   "outputs": [
    {
     "data": {
      "text/plain": [
       "<AxesSubplot:xlabel='SS Value', ylabel='count'>"
      ]
     },
     "execution_count": 68,
     "metadata": {},
     "output_type": "execute_result"
    },
    {
     "data": {
      "image/png": "[encoded data removed]",
      "text/plain": [
       "<Figure size 432x288 with 1 Axes>"
      ]
     },
     "metadata": {
      "needs_background": "light"
     },
     "output_type": "display_data"
    }
   ],
   "source": [
    "sns.countplot(x='SS Value', data=df_2018, palette='mako')"
   ]
  },
  {
   "cell_type": "code",
   "execution_count": 69,
   "metadata": {},
   "outputs": [
    {
     "data": {
      "text/html": [
       "<div>\n",
       "<style scoped>\n",
       "    .dataframe tbody tr th:only-of-type {\n",
       "        vertical-align: middle;\n",
       "    }\n",
       "\n",
       "    .dataframe tbody tr th {\n",
       "        vertical-align: top;\n",
       "    }\n",
       "\n",
       "    .dataframe thead th {\n",
       "        text-align: right;\n",
       "    }\n",
       "</style>\n",
       "<table border=\"1\" class=\"dataframe\">\n",
       "  <thead>\n",
       "    <tr style=\"text-align: right;\">\n",
       "      <th></th>\n",
       "      <th>Accident Ref No</th>\n",
       "      <th>Number of Vehicles</th>\n",
       "      <th>Time of day</th>\n",
       "      <th>Season</th>\n",
       "      <th>Road Surface Description</th>\n",
       "      <th>Lighting Description</th>\n",
       "      <th>Casualty Severity</th>\n",
       "      <th>Sex of Casualty</th>\n",
       "      <th>Age of Casualty</th>\n",
       "      <th>SS Value</th>\n",
       "    </tr>\n",
       "  </thead>\n",
       "  <tbody>\n",
       "    <tr>\n",
       "      <th>1038</th>\n",
       "      <td>56U0266</td>\n",
       "      <td>2</td>\n",
       "      <td>Night</td>\n",
       "      <td>Summer</td>\n",
       "      <td>Dry</td>\n",
       "      <td>Dark, street lights</td>\n",
       "      <td>2</td>\n",
       "      <td>2</td>\n",
       "      <td>17</td>\n",
       "      <td>16</td>\n",
       "    </tr>\n",
       "    <tr>\n",
       "      <th>1039</th>\n",
       "      <td>56U0266</td>\n",
       "      <td>2</td>\n",
       "      <td>Night</td>\n",
       "      <td>Summer</td>\n",
       "      <td>Dry</td>\n",
       "      <td>Dark, street lights</td>\n",
       "      <td>2</td>\n",
       "      <td>2</td>\n",
       "      <td>17</td>\n",
       "      <td>16</td>\n",
       "    </tr>\n",
       "    <tr>\n",
       "      <th>1040</th>\n",
       "      <td>56U0266</td>\n",
       "      <td>2</td>\n",
       "      <td>Night</td>\n",
       "      <td>Summer</td>\n",
       "      <td>Dry</td>\n",
       "      <td>Dark, street lights</td>\n",
       "      <td>2</td>\n",
       "      <td>1</td>\n",
       "      <td>18</td>\n",
       "      <td>16</td>\n",
       "    </tr>\n",
       "    <tr>\n",
       "      <th>1041</th>\n",
       "      <td>56U0266</td>\n",
       "      <td>2</td>\n",
       "      <td>Night</td>\n",
       "      <td>Summer</td>\n",
       "      <td>Dry</td>\n",
       "      <td>Dark, street lights</td>\n",
       "      <td>2</td>\n",
       "      <td>1</td>\n",
       "      <td>19</td>\n",
       "      <td>16</td>\n",
       "    </tr>\n",
       "    <tr>\n",
       "      <th>1042</th>\n",
       "      <td>56U0266</td>\n",
       "      <td>2</td>\n",
       "      <td>Night</td>\n",
       "      <td>Summer</td>\n",
       "      <td>Dry</td>\n",
       "      <td>Dark, street lights</td>\n",
       "      <td>2</td>\n",
       "      <td>1</td>\n",
       "      <td>21</td>\n",
       "      <td>16</td>\n",
       "    </tr>\n",
       "    <tr>\n",
       "      <th>1043</th>\n",
       "      <td>56U0266</td>\n",
       "      <td>2</td>\n",
       "      <td>Night</td>\n",
       "      <td>Summer</td>\n",
       "      <td>Dry</td>\n",
       "      <td>Dark, street lights</td>\n",
       "      <td>2</td>\n",
       "      <td>1</td>\n",
       "      <td>19</td>\n",
       "      <td>16</td>\n",
       "    </tr>\n",
       "    <tr>\n",
       "      <th>1044</th>\n",
       "      <td>56U0266</td>\n",
       "      <td>2</td>\n",
       "      <td>Night</td>\n",
       "      <td>Summer</td>\n",
       "      <td>Dry</td>\n",
       "      <td>Dark, street lights</td>\n",
       "      <td>2</td>\n",
       "      <td>1</td>\n",
       "      <td>42</td>\n",
       "      <td>16</td>\n",
       "    </tr>\n",
       "  </tbody>\n",
       "</table>\n",
       "</div>"
      ],
      "text/plain": [
       "     Accident Ref No  Number of Vehicles Time of day  Season  \\\n",
       "1038         56U0266                   2       Night  Summer   \n",
       "1039         56U0266                   2       Night  Summer   \n",
       "1040         56U0266                   2       Night  Summer   \n",
       "1041         56U0266                   2       Night  Summer   \n",
       "1042         56U0266                   2       Night  Summer   \n",
       "1043         56U0266                   2       Night  Summer   \n",
       "1044         56U0266                   2       Night  Summer   \n",
       "\n",
       "     Road Surface Description Lighting Description  Casualty Severity  \\\n",
       "1038                      Dry  Dark, street lights                  2   \n",
       "1039                      Dry  Dark, street lights                  2   \n",
       "1040                      Dry  Dark, street lights                  2   \n",
       "1041                      Dry  Dark, street lights                  2   \n",
       "1042                      Dry  Dark, street lights                  2   \n",
       "1043                      Dry  Dark, street lights                  2   \n",
       "1044                      Dry  Dark, street lights                  2   \n",
       "\n",
       "      Sex of Casualty  Age of Casualty  SS Value  \n",
       "1038                2               17        16  \n",
       "1039                2               17        16  \n",
       "1040                1               18        16  \n",
       "1041                1               19        16  \n",
       "1042                1               21        16  \n",
       "1043                1               19        16  \n",
       "1044                1               42        16  "
      ]
     },
     "execution_count": 69,
     "metadata": {},
     "output_type": "execute_result"
    }
   ],
   "source": [
    "## running through some SS Values to get a feeling of how the accidents with different SS scores look like.\n",
    "Descriptions=pd.DataFrame(df_2018[['Accident Ref No',\n",
    "         'Number of Vehicles',\n",
    "         'Time of day',\n",
    "         'Season',\n",
    "         'Road Surface Description',\n",
    "         'Lighting Description',\n",
    "         'Casualty Severity', \n",
    "         'Sex of Casualty', \n",
    "         'Age of Casualty',\n",
    "         'SS Value']])\n",
    "Descriptions[Descriptions['SS Value']==16].head(10)"
   ]
  },
  {
   "cell_type": "markdown",
   "metadata": {},
   "source": [
    "Adding to the df a column 'Severity Value' that will be the base categorisation data column (y) for the modelling. Because some models require numerical data, the catogories are set as numbers"
   ]
  },
  {
   "cell_type": "code",
   "execution_count": 70,
   "metadata": {},
   "outputs": [
    {
     "data": {
      "text/plain": [
       "(-1.0, 6.0)"
      ]
     },
     "execution_count": 70,
     "metadata": {},
     "output_type": "execute_result"
    },
    {
     "data": {
      "image/png": "[encoded data removed]",
      "text/plain": [
       "<Figure size 432x288 with 1 Axes>"
      ]
     },
     "metadata": {
      "needs_background": "light"
     },
     "output_type": "display_data"
    }
   ],
   "source": [
    "df_2018['Severity Level'] = np.where((df_2018['SS Value'] == 1), 0, \n",
    "                                np.where((df_2018['SS Value'] >= 2) & (df_2018['SS Value'] <= 3), 1,\n",
    "                                np.where((df_2018['SS Value'] >= 4) & (df_2018['SS Value'] <= 7), 2,\n",
    "                                np.where((df_2018['SS Value'] >= 8) & (df_2018['SS Value'] <= 13), 3,\n",
    "                                np.where((df_2018['SS Value'] >= 14) & (df_2018['SS Value'] <= 25), 4,\n",
    "                                np.where((df_2018['SS Value'] >= 26) & (df_2018['SS Value'] <= 50), 5,\n",
    "                                np.where((df_2018['SS Value'] >= 50), 6,'NA'\n",
    "                                )))))))\n",
    "Severity_Levels=df_2018['Severity Level'].value_counts()\n",
    "Severity_Levels.plot(kind='bar', color='c')\n",
    "plt.title('Distribution of Severity Levels')\n",
    "plt.ylabel('Count of Casualties')\n",
    "plt.xlim(-1,6)"
   ]
  },
  {
   "cell_type": "markdown",
   "metadata": {},
   "source": [
    "### Final Data Set for Modelling"
   ]
  },
  {
   "cell_type": "code",
   "execution_count": 71,
   "metadata": {},
   "outputs": [
    {
     "data": {
      "text/plain": [
       "(1995, 24)"
      ]
     },
     "execution_count": 71,
     "metadata": {},
     "output_type": "execute_result"
    }
   ],
   "source": [
    "df_2018.shape"
   ]
  },
  {
   "cell_type": "code",
   "execution_count": 72,
   "metadata": {},
   "outputs": [
    {
     "data": {
      "text/plain": [
       "Index(['Accident Ref No', 'Number of Vehicles', 'Accident Date', 'Time (24hr)',\n",
       "       'Road Surface', 'Lighting Conditions', 'Weather Conditions',\n",
       "       'Type of Vehicle', 'Casualty Severity', 'Sex of Casualty',\n",
       "       'Age of Casualty', 'Casualty Severity Description',\n",
       "       'Number of Casualties', 'Time of day', 'Season', 'Season Code',\n",
       "       'Road Surface Description', 'Lighting Description',\n",
       "       'Weather Description', 'Vehicle Description', 'Gender', 'CS Value',\n",
       "       'SS Value', 'Severity Level'],\n",
       "      dtype='object')"
      ]
     },
     "execution_count": 72,
     "metadata": {},
     "output_type": "execute_result"
    }
   ],
   "source": [
    "df_2018.columns"
   ]
  },
  {
   "cell_type": "code",
   "execution_count": 73,
   "metadata": {},
   "outputs": [
    {
     "data": {
      "text/html": [
       "<div>\n",
       "<style scoped>\n",
       "    .dataframe tbody tr th:only-of-type {\n",
       "        vertical-align: middle;\n",
       "    }\n",
       "\n",
       "    .dataframe tbody tr th {\n",
       "        vertical-align: top;\n",
       "    }\n",
       "\n",
       "    .dataframe thead th {\n",
       "        text-align: right;\n",
       "    }\n",
       "</style>\n",
       "<table border=\"1\" class=\"dataframe\">\n",
       "  <thead>\n",
       "    <tr style=\"text-align: right;\">\n",
       "      <th></th>\n",
       "      <th>Accident Ref No</th>\n",
       "      <th>Number of Vehicles</th>\n",
       "      <th>Accident Date</th>\n",
       "      <th>Time (24hr)</th>\n",
       "      <th>Road Surface</th>\n",
       "      <th>Lighting Conditions</th>\n",
       "      <th>Weather Conditions</th>\n",
       "      <th>Type of Vehicle</th>\n",
       "      <th>Casualty Severity</th>\n",
       "      <th>Sex of Casualty</th>\n",
       "      <th>...</th>\n",
       "      <th>Season</th>\n",
       "      <th>Season Code</th>\n",
       "      <th>Road Surface Description</th>\n",
       "      <th>Lighting Description</th>\n",
       "      <th>Weather Description</th>\n",
       "      <th>Vehicle Description</th>\n",
       "      <th>Gender</th>\n",
       "      <th>CS Value</th>\n",
       "      <th>SS Value</th>\n",
       "      <th>Severity Level</th>\n",
       "    </tr>\n",
       "  </thead>\n",
       "  <tbody>\n",
       "    <tr>\n",
       "      <th>0</th>\n",
       "      <td>51B0230</td>\n",
       "      <td>1</td>\n",
       "      <td>2018-11-01</td>\n",
       "      <td>700</td>\n",
       "      <td>1</td>\n",
       "      <td>2</td>\n",
       "      <td>1</td>\n",
       "      <td>3</td>\n",
       "      <td>1</td>\n",
       "      <td>2</td>\n",
       "      <td>...</td>\n",
       "      <td>Autumn</td>\n",
       "      <td>3</td>\n",
       "      <td>Dry</td>\n",
       "      <td>Dark, street lights</td>\n",
       "      <td>Fine</td>\n",
       "      <td>Car</td>\n",
       "      <td>Female</td>\n",
       "      <td>1</td>\n",
       "      <td>2</td>\n",
       "      <td>1</td>\n",
       "    </tr>\n",
       "    <tr>\n",
       "      <th>1</th>\n",
       "      <td>51B0349</td>\n",
       "      <td>1</td>\n",
       "      <td>2018-11-01</td>\n",
       "      <td>855</td>\n",
       "      <td>2</td>\n",
       "      <td>1</td>\n",
       "      <td>1</td>\n",
       "      <td>4</td>\n",
       "      <td>1</td>\n",
       "      <td>2</td>\n",
       "      <td>...</td>\n",
       "      <td>Autumn</td>\n",
       "      <td>3</td>\n",
       "      <td>Wet / Damp</td>\n",
       "      <td>Daylight</td>\n",
       "      <td>Fine</td>\n",
       "      <td>Bus</td>\n",
       "      <td>Female</td>\n",
       "      <td>5</td>\n",
       "      <td>6</td>\n",
       "      <td>2</td>\n",
       "    </tr>\n",
       "    <tr>\n",
       "      <th>2</th>\n",
       "      <td>51B0349</td>\n",
       "      <td>1</td>\n",
       "      <td>2018-11-01</td>\n",
       "      <td>855</td>\n",
       "      <td>2</td>\n",
       "      <td>1</td>\n",
       "      <td>1</td>\n",
       "      <td>4</td>\n",
       "      <td>1</td>\n",
       "      <td>2</td>\n",
       "      <td>...</td>\n",
       "      <td>Autumn</td>\n",
       "      <td>3</td>\n",
       "      <td>Wet / Damp</td>\n",
       "      <td>Daylight</td>\n",
       "      <td>Fine</td>\n",
       "      <td>Bus</td>\n",
       "      <td>Female</td>\n",
       "      <td>5</td>\n",
       "      <td>6</td>\n",
       "      <td>2</td>\n",
       "    </tr>\n",
       "    <tr>\n",
       "      <th>3</th>\n",
       "      <td>51B0349</td>\n",
       "      <td>1</td>\n",
       "      <td>2018-11-01</td>\n",
       "      <td>855</td>\n",
       "      <td>2</td>\n",
       "      <td>1</td>\n",
       "      <td>1</td>\n",
       "      <td>4</td>\n",
       "      <td>1</td>\n",
       "      <td>2</td>\n",
       "      <td>...</td>\n",
       "      <td>Autumn</td>\n",
       "      <td>3</td>\n",
       "      <td>Wet / Damp</td>\n",
       "      <td>Daylight</td>\n",
       "      <td>Fine</td>\n",
       "      <td>Bus</td>\n",
       "      <td>Female</td>\n",
       "      <td>5</td>\n",
       "      <td>6</td>\n",
       "      <td>2</td>\n",
       "    </tr>\n",
       "    <tr>\n",
       "      <th>4</th>\n",
       "      <td>51B0349</td>\n",
       "      <td>1</td>\n",
       "      <td>2018-11-01</td>\n",
       "      <td>855</td>\n",
       "      <td>2</td>\n",
       "      <td>1</td>\n",
       "      <td>1</td>\n",
       "      <td>4</td>\n",
       "      <td>1</td>\n",
       "      <td>2</td>\n",
       "      <td>...</td>\n",
       "      <td>Autumn</td>\n",
       "      <td>3</td>\n",
       "      <td>Wet / Damp</td>\n",
       "      <td>Daylight</td>\n",
       "      <td>Fine</td>\n",
       "      <td>Bus</td>\n",
       "      <td>Female</td>\n",
       "      <td>5</td>\n",
       "      <td>6</td>\n",
       "      <td>2</td>\n",
       "    </tr>\n",
       "  </tbody>\n",
       "</table>\n",
       "<p>5 rows × 24 columns</p>\n",
       "</div>"
      ],
      "text/plain": [
       "  Accident Ref No  Number of Vehicles Accident Date  Time (24hr)  \\\n",
       "0         51B0230                   1    2018-11-01          700   \n",
       "1         51B0349                   1    2018-11-01          855   \n",
       "2         51B0349                   1    2018-11-01          855   \n",
       "3         51B0349                   1    2018-11-01          855   \n",
       "4         51B0349                   1    2018-11-01          855   \n",
       "\n",
       "   Road Surface  Lighting Conditions  Weather Conditions  Type of Vehicle  \\\n",
       "0             1                    2                   1                3   \n",
       "1             2                    1                   1                4   \n",
       "2             2                    1                   1                4   \n",
       "3             2                    1                   1                4   \n",
       "4             2                    1                   1                4   \n",
       "\n",
       "   Casualty Severity  Sex of Casualty  ...  Season Season Code  \\\n",
       "0                  1                2  ...  Autumn           3   \n",
       "1                  1                2  ...  Autumn           3   \n",
       "2                  1                2  ...  Autumn           3   \n",
       "3                  1                2  ...  Autumn           3   \n",
       "4                  1                2  ...  Autumn           3   \n",
       "\n",
       "   Road Surface Description Lighting Description Weather Description  \\\n",
       "0                       Dry  Dark, street lights                Fine   \n",
       "1                Wet / Damp             Daylight                Fine   \n",
       "2                Wet / Damp             Daylight                Fine   \n",
       "3                Wet / Damp             Daylight                Fine   \n",
       "4                Wet / Damp             Daylight                Fine   \n",
       "\n",
       "  Vehicle Description  Gender CS Value SS Value Severity Level  \n",
       "0                 Car  Female        1        2              1  \n",
       "1                 Bus  Female        5        6              2  \n",
       "2                 Bus  Female        5        6              2  \n",
       "3                 Bus  Female        5        6              2  \n",
       "4                 Bus  Female        5        6              2  \n",
       "\n",
       "[5 rows x 24 columns]"
      ]
     },
     "execution_count": 73,
     "metadata": {},
     "output_type": "execute_result"
    }
   ],
   "source": [
    "df_2018.head()"
   ]
  },
  {
   "cell_type": "code",
   "execution_count": 74,
   "metadata": {},
   "outputs": [],
   "source": [
    "df_2018.to_csv('df_2018')"
   ]
  },
  {
   "cell_type": "markdown",
   "metadata": {},
   "source": [
    "## Modelling"
   ]
  },
  {
   "cell_type": "code",
   "execution_count": 75,
   "metadata": {},
   "outputs": [
    {
     "name": "stdout",
     "output_type": "stream",
     "text": [
      "Collecting package metadata (current_repodata.json): done\n",
      "Solving environment: failed with initial frozen solve. Retrying with flexible solve.\n",
      "Collecting package metadata (repodata.json): done\n",
      "Solving environment: done\n",
      "\n",
      "\n",
      "==> WARNING: A newer version of conda exists. <==\n",
      "  current version: 4.8.3\n",
      "  latest version: 4.8.5\n",
      "\n",
      "Please update conda by running\n",
      "\n",
      "    $ conda update -n base -c defaults conda\n",
      "\n",
      "\n",
      "\n",
      "## Package Plan ##\n",
      "\n",
      "  environment location: /home/jupyterlab/conda/envs/python\n",
      "\n",
      "  added / updated specs:\n",
      "    - scikit-learn=0.22\n",
      "\n",
      "\n",
      "The following packages will be downloaded:\n",
      "\n",
      "    package                    |            build\n",
      "    ---------------------------|-----------------\n",
      "    blas-1.0                   |         openblas          46 KB\n",
      "    ca-certificates-2020.7.22  |                0         125 KB\n",
      "    certifi-2020.6.20          |           py36_0         156 KB\n",
      "    joblib-0.16.0              |             py_0         210 KB\n",
      "    openssl-1.1.1h             |       h7b6447c_0         2.5 MB\n",
      "    scikit-learn-0.22.1        |   py36h22eb022_0         5.3 MB\n",
      "    scipy-1.5.2                |   py36habc2bb6_0        14.3 MB\n",
      "    ------------------------------------------------------------\n",
      "                                           Total:        22.7 MB\n",
      "\n",
      "The following NEW packages will be INSTALLED:\n",
      "\n",
      "  blas               pkgs/main/linux-64::blas-1.0-openblas\n",
      "  joblib             pkgs/main/noarch::joblib-0.16.0-py_0\n",
      "  scikit-learn       pkgs/main/linux-64::scikit-learn-0.22.1-py36h22eb022_0\n",
      "  scipy              pkgs/main/linux-64::scipy-1.5.2-py36habc2bb6_0\n",
      "\n",
      "The following packages will be UPDATED:\n",
      "\n",
      "  ca-certificates    conda-forge::ca-certificates-2020.6.2~ --> pkgs/main::ca-certificates-2020.7.22-0\n",
      "  openssl            conda-forge::openssl-1.1.1g-h516909a_0 --> pkgs/main::openssl-1.1.1h-h7b6447c_0\n",
      "\n",
      "The following packages will be SUPERSEDED by a higher-priority channel:\n",
      "\n",
      "  certifi            conda-forge::certifi-2020.6.20-py36h9~ --> pkgs/main::certifi-2020.6.20-py36_0\n",
      "\n",
      "\n",
      "\n",
      "Downloading and Extracting Packages\n",
      "openssl-1.1.1h       | 2.5 MB    | ##################################### | 100% \n",
      "blas-1.0             | 46 KB     | ##################################### | 100% \n",
      "scipy-1.5.2          | 14.3 MB   | ##################################### | 100% \n",
      "joblib-0.16.0        | 210 KB    | ##################################### | 100% \n",
      "scikit-learn-0.22.1  | 5.3 MB    | ##################################### | 100% \n",
      "certifi-2020.6.20    | 156 KB    | ##################################### | 100% \n",
      "ca-certificates-2020 | 125 KB    | ##################################### | 100% \n",
      "Preparing transaction: done\n",
      "Verifying transaction: done\n",
      "Executing transaction: done\n"
     ]
    }
   ],
   "source": [
    "# have to make sure the sklearn is at least version .21 for the decision tree viz to work\n",
    "!conda install scikit-learn=0.22 --y"
   ]
  },
  {
   "cell_type": "markdown",
   "metadata": {},
   "source": [
    "### Test and train data sets"
   ]
  },
  {
   "cell_type": "code",
   "execution_count": 76,
   "metadata": {},
   "outputs": [
    {
     "data": {
      "text/plain": [
       "Index(['Accident Ref No', 'Number of Vehicles', 'Accident Date', 'Time (24hr)',\n",
       "       'Road Surface', 'Lighting Conditions', 'Weather Conditions',\n",
       "       'Type of Vehicle', 'Casualty Severity', 'Sex of Casualty',\n",
       "       'Age of Casualty', 'Casualty Severity Description',\n",
       "       'Number of Casualties', 'Time of day', 'Season', 'Season Code',\n",
       "       'Road Surface Description', 'Lighting Description',\n",
       "       'Weather Description', 'Vehicle Description', 'Gender', 'CS Value',\n",
       "       'SS Value', 'Severity Level'],\n",
       "      dtype='object')"
      ]
     },
     "execution_count": 76,
     "metadata": {},
     "output_type": "execute_result"
    }
   ],
   "source": [
    "df_2018.columns"
   ]
  },
  {
   "cell_type": "code",
   "execution_count": 77,
   "metadata": {},
   "outputs": [
    {
     "data": {
      "text/html": [
       "<div>\n",
       "<style scoped>\n",
       "    .dataframe tbody tr th:only-of-type {\n",
       "        vertical-align: middle;\n",
       "    }\n",
       "\n",
       "    .dataframe tbody tr th {\n",
       "        vertical-align: top;\n",
       "    }\n",
       "\n",
       "    .dataframe thead th {\n",
       "        text-align: right;\n",
       "    }\n",
       "</style>\n",
       "<table border=\"1\" class=\"dataframe\">\n",
       "  <thead>\n",
       "    <tr style=\"text-align: right;\">\n",
       "      <th></th>\n",
       "      <th>Number of Vehicles</th>\n",
       "      <th>Season Code</th>\n",
       "      <th>Time (24hr)</th>\n",
       "      <th>Road Surface</th>\n",
       "      <th>Lighting Conditions</th>\n",
       "      <th>Weather Conditions</th>\n",
       "      <th>Type of Vehicle</th>\n",
       "      <th>Sex of Casualty</th>\n",
       "      <th>Age of Casualty</th>\n",
       "    </tr>\n",
       "  </thead>\n",
       "  <tbody>\n",
       "    <tr>\n",
       "      <th>0</th>\n",
       "      <td>1</td>\n",
       "      <td>3</td>\n",
       "      <td>700</td>\n",
       "      <td>1</td>\n",
       "      <td>2</td>\n",
       "      <td>1</td>\n",
       "      <td>3</td>\n",
       "      <td>2</td>\n",
       "      <td>87</td>\n",
       "    </tr>\n",
       "    <tr>\n",
       "      <th>1</th>\n",
       "      <td>1</td>\n",
       "      <td>3</td>\n",
       "      <td>855</td>\n",
       "      <td>2</td>\n",
       "      <td>1</td>\n",
       "      <td>1</td>\n",
       "      <td>4</td>\n",
       "      <td>2</td>\n",
       "      <td>60</td>\n",
       "    </tr>\n",
       "    <tr>\n",
       "      <th>2</th>\n",
       "      <td>1</td>\n",
       "      <td>3</td>\n",
       "      <td>855</td>\n",
       "      <td>2</td>\n",
       "      <td>1</td>\n",
       "      <td>1</td>\n",
       "      <td>4</td>\n",
       "      <td>2</td>\n",
       "      <td>51</td>\n",
       "    </tr>\n",
       "    <tr>\n",
       "      <th>3</th>\n",
       "      <td>1</td>\n",
       "      <td>3</td>\n",
       "      <td>855</td>\n",
       "      <td>2</td>\n",
       "      <td>1</td>\n",
       "      <td>1</td>\n",
       "      <td>4</td>\n",
       "      <td>2</td>\n",
       "      <td>50</td>\n",
       "    </tr>\n",
       "    <tr>\n",
       "      <th>4</th>\n",
       "      <td>1</td>\n",
       "      <td>3</td>\n",
       "      <td>855</td>\n",
       "      <td>2</td>\n",
       "      <td>1</td>\n",
       "      <td>1</td>\n",
       "      <td>4</td>\n",
       "      <td>2</td>\n",
       "      <td>51</td>\n",
       "    </tr>\n",
       "  </tbody>\n",
       "</table>\n",
       "</div>"
      ],
      "text/plain": [
       "   Number of Vehicles Season Code  Time (24hr)  Road Surface  \\\n",
       "0                   1           3          700             1   \n",
       "1                   1           3          855             2   \n",
       "2                   1           3          855             2   \n",
       "3                   1           3          855             2   \n",
       "4                   1           3          855             2   \n",
       "\n",
       "   Lighting Conditions  Weather Conditions  Type of Vehicle  Sex of Casualty  \\\n",
       "0                    2                   1                3                2   \n",
       "1                    1                   1                4                2   \n",
       "2                    1                   1                4                2   \n",
       "3                    1                   1                4                2   \n",
       "4                    1                   1                4                2   \n",
       "\n",
       "   Age of Casualty  \n",
       "0               87  \n",
       "1               60  \n",
       "2               51  \n",
       "3               50  \n",
       "4               51  "
      ]
     },
     "execution_count": 77,
     "metadata": {},
     "output_type": "execute_result"
    }
   ],
   "source": [
    "# List all independent variables used for modelling, leave out the Casualty Severity number, but include the Number of Vehicles\n",
    "X = df_2018[['Number of Vehicles','Season Code','Time (24hr)','Road Surface', 'Lighting Conditions', 'Weather Conditions',\n",
    "       'Type of Vehicle','Sex of Casualty','Age of Casualty']]\n",
    "X[0:5]"
   ]
  },
  {
   "cell_type": "code",
   "execution_count": 78,
   "metadata": {},
   "outputs": [
    {
     "data": {
      "text/plain": [
       "array(['1', '2', '2', '2', '2'], dtype=object)"
      ]
     },
     "execution_count": 78,
     "metadata": {},
     "output_type": "execute_result"
    }
   ],
   "source": [
    "# specify the dependent variable\n",
    "y = df_2018['Severity Level'].values\n",
    "y[0:5]"
   ]
  },
  {
   "cell_type": "code",
   "execution_count": 79,
   "metadata": {},
   "outputs": [
    {
     "name": "stdout",
     "output_type": "stream",
     "text": [
      "Train set: (1596, 9) (1596,)\n",
      "Test set: (399, 9) (399,)\n"
     ]
    }
   ],
   "source": [
    "# create train and test data sets, split it 75% for training and 25% for testing\n",
    "from sklearn.model_selection import train_test_split\n",
    "X_train, X_test, y_train, y_test = train_test_split(X, y, test_size=0.2, random_state=4)\n",
    "print ('Train set:', X_train.shape,  y_train.shape)\n",
    "print ('Test set:', X_test.shape,  y_test.shape)"
   ]
  },
  {
   "cell_type": "code",
   "execution_count": 80,
   "metadata": {},
   "outputs": [
    {
     "data": {
      "text/plain": [
       "array(['1', '2', '1', '2', '1'], dtype=object)"
      ]
     },
     "execution_count": 80,
     "metadata": {},
     "output_type": "execute_result"
    }
   ],
   "source": [
    "# I use the KNN model first. Create a model, fit it, predict, sanity check\n",
    "from sklearn.neighbors import KNeighborsClassifier\n",
    "k = 7  \n",
    "KNN_model = KNeighborsClassifier(n_neighbors=k).fit(X_train,y_train)\n",
    "yhat_KNN = KNN_model.predict(X_test)\n",
    "yhat_KNN[0:5]"
   ]
  },
  {
   "cell_type": "code",
   "execution_count": 81,
   "metadata": {},
   "outputs": [
    {
     "data": {
      "text/plain": [
       "array([0.50877193, 0.52130326, 0.54385965, 0.53884712, 0.52130326,\n",
       "       0.53884712, 0.56390977, 0.53884712, 0.55137845, 0.54385965,\n",
       "       0.55889724, 0.54385965, 0.52882206, 0.53634085])"
      ]
     },
     "execution_count": 81,
     "metadata": {},
     "output_type": "execute_result"
    }
   ],
   "source": [
    "# find the best k and figure if the model is working\n",
    "Ks=15\n",
    "mean_acc=np.zeros((Ks-1))\n",
    "std_acc=np.zeros((Ks-1))\n",
    "ConfustionMx=[];\n",
    "for n in range(1,Ks):\n",
    "    kNN_model = KNeighborsClassifier(n_neighbors=n).fit(X_train,y_train)\n",
    "    yhat = kNN_model.predict(X_test)\n",
    "    mean_acc[n-1]=np.mean(yhat==y_test);\n",
    "    std_acc[n-1]=np.std(yhat==y_test)/np.sqrt(yhat.shape[0])\n",
    "mean_acc"
   ]
  },
  {
   "cell_type": "code",
   "execution_count": 82,
   "metadata": {},
   "outputs": [
    {
     "data": {
      "image/png": "[encoded data removed]",
      "text/plain": [
       "<Figure size 432x288 with 1 Axes>"
      ]
     },
     "metadata": {
      "needs_background": "light"
     },
     "output_type": "display_data"
    }
   ],
   "source": [
    "# plot the above\n",
    "plt.plot(range(1,Ks),mean_acc,'c')\n",
    "plt.fill_between(range(1,Ks),mean_acc - 1 * std_acc,mean_acc + 1 * std_acc, alpha=0.10)\n",
    "plt.legend(('Accuracy ', 'Deviation'))\n",
    "plt.ylabel('Accuracy ')\n",
    "plt.xlabel('K value')\n",
    "plt.tight_layout()\n",
    "plt.show()"
   ]
  },
  {
   "cell_type": "code",
   "execution_count": 83,
   "metadata": {},
   "outputs": [
    {
     "name": "stdout",
     "output_type": "stream",
     "text": [
      "The best KNN accuracy was with 0.5639097744360902 with k= 7\n",
      "KNN Accuracy:  0.5639097744360902\n",
      "KNN Jaccard index: 0.56\n",
      "KNN F1-score: 0.55\n"
     ]
    },
    {
     "name": "stderr",
     "output_type": "stream",
     "text": [
      "/home/jupyterlab/conda/envs/python/lib/python3.6/site-packages/sklearn/metrics/_classification.py:664: FutureWarning: jaccard_similarity_score has been deprecated and replaced with jaccard_score. It will be removed in version 0.23. This implementation has surprising behavior for binary and multiclass classification tasks.\n",
      "  FutureWarning)\n"
     ]
    }
   ],
   "source": [
    "## The best accuracy with KNN\n",
    "from sklearn import metrics\n",
    "from sklearn.metrics import jaccard_similarity_score\n",
    "from sklearn.metrics import f1_score\n",
    "print(\"The best KNN accuracy was with\", mean_acc.max(), \"with k=\", mean_acc.argmax()+1) \n",
    "print(\"KNN Accuracy: \", metrics.accuracy_score(y_test, yhat_KNN))\n",
    "print(\"KNN Jaccard index: %.2f\" % jaccard_similarity_score(y_test, yhat_KNN))\n",
    "print(\"KNN F1-score: %.2f\" % f1_score(y_test, yhat_KNN, average='weighted'))"
   ]
  },
  {
   "cell_type": "code",
   "execution_count": 84,
   "metadata": {},
   "outputs": [
    {
     "data": {
      "text/plain": [
       "array(['2', '2', '2', '1', '2', '1', '1', '3', '2', '2', '1', '1', '1',\n",
       "       '2', '2', '2', '1', '1', '1', '2', '1', '2', '2', '3', '2', '1',\n",
       "       '2', '1', '1', '2', '2', '2', '2', '2', '2', '1', '1', '2', '2',\n",
       "       '1', '2', '1', '2', '1', '2', '2', '2', '2', '2', '1', '1', '2',\n",
       "       '2', '2', '1', '1', '2', '2', '2', '2', '2', '2', '2', '1', '2',\n",
       "       '2', '2', '2', '2', '1', '1', '2', '1', '1', '2', '2', '2', '2',\n",
       "       '1', '2', '2', '2', '2', '2', '2', '2', '2', '2', '2', '1', '2',\n",
       "       '1', '1', '2', '2', '2', '2', '2', '1', '2', '2', '1', '1', '1',\n",
       "       '2', '2', '1', '1', '2', '1', '2', '1', '2', '1', '1', '2', '2',\n",
       "       '1', '1', '2', '2', '2', '2', '1', '1', '2', '2', '1', '2', '2',\n",
       "       '1', '1', '2', '2', '2', '2', '1', '1', '2', '1', '2', '1', '2',\n",
       "       '1', '1', '2', '2', '2', '1', '2', '2', '2', '2', '1', '2', '2',\n",
       "       '1', '2', '2', '1', '1', '1', '1', '2', '1', '2', '2', '2', '2',\n",
       "       '1', '3', '1', '2', '1', '3', '2', '1', '1', '1', '2', '1', '2',\n",
       "       '2', '2', '2', '2', '2', '2', '2', '2', '1', '2', '2', '2', '2',\n",
       "       '1', '2', '1', '2', '1', '2', '1', '1', '1', '2', '2', '2', '2',\n",
       "       '2', '1', '1', '1', '2', '2', '2', '2', '2', '2', '2', '1', '1',\n",
       "       '1', '1', '2', '2', '1', '2', '1', '1', '1', '1', '2', '2', '1',\n",
       "       '1', '2', '2', '1', '2', '1', '2', '1', '2', '1', '2', '2', '2',\n",
       "       '2', '2', '2', '2', '2', '1', '2', '2', '1', '2', '2', '2', '2',\n",
       "       '1', '2', '2', '2', '2', '2', '1', '2', '2', '1', '2', '1', '1',\n",
       "       '2', '1', '2', '2', '2', '1', '2', '1', '1', '2', '1', '1', '2',\n",
       "       '2', '1', '2', '1', '2', '1', '2', '1', '2', '2', '2', '2', '2',\n",
       "       '2', '1', '1', '1', '1', '2', '2', '1', '2', '1', '2', '2', '1',\n",
       "       '2', '2', '1', '1', '2', '1', '2', '2', '2', '1', '1', '2', '2',\n",
       "       '2', '2', '1', '2', '1', '2', '2', '1', '1', '1', '2', '2', '1',\n",
       "       '2', '1', '1', '2', '1', '2', '1', '2', '2', '2', '2', '2', '2',\n",
       "       '2', '2', '2', '1', '1', '2', '2', '2', '2', '2', '1', '2', '2',\n",
       "       '2', '1', '1', '2', '1', '2', '1', '1', '2', '2', '1', '2', '2',\n",
       "       '1', '2', '2', '2', '2', '1', '2', '1', '2', '2', '1', '2', '2',\n",
       "       '2', '2', '1', '1', '1', '2', '2', '1', '1'], dtype=object)"
      ]
     },
     "execution_count": 84,
     "metadata": {},
     "output_type": "execute_result"
    }
   ],
   "source": [
    "## Also use Decision Tree model to find a categorisation, maybe this is more accurate\n",
    "from sklearn.tree import DecisionTreeClassifier\n",
    "Tree = DecisionTreeClassifier(criterion=\"entropy\", max_depth = 4)\n",
    "Tree.fit(X_train,y_train)\n",
    "yhat_Tree = Tree.predict(X_test)\n",
    "yhat_Tree"
   ]
  },
  {
   "cell_type": "code",
   "execution_count": 85,
   "metadata": {},
   "outputs": [
    {
     "name": "stdout",
     "output_type": "stream",
     "text": [
      "DecisionTrees's Accuracy:  0.7393483709273183\n",
      "DT Jaccard index: 0.74\n",
      "DT F1-score: 0.73\n"
     ]
    },
    {
     "name": "stderr",
     "output_type": "stream",
     "text": [
      "/home/jupyterlab/conda/envs/python/lib/python3.6/site-packages/sklearn/metrics/_classification.py:664: FutureWarning: jaccard_similarity_score has been deprecated and replaced with jaccard_score. It will be removed in version 0.23. This implementation has surprising behavior for binary and multiclass classification tasks.\n",
      "  FutureWarning)\n"
     ]
    }
   ],
   "source": [
    "## Accuracy for Decision Tree\n",
    "import matplotlib.pyplot as plt\n",
    "print(\"DecisionTrees's Accuracy: \", metrics.accuracy_score(y_test, yhat_Tree))\n",
    "print(\"DT Jaccard index: %.2f\" % jaccard_similarity_score(y_test, yhat_Tree))\n",
    "print(\"DT F1-score: %.2f\" % f1_score(y_test, yhat_Tree, average='weighted'))"
   ]
  },
  {
   "cell_type": "code",
   "execution_count": 86,
   "metadata": {},
   "outputs": [
    {
     "data": {
      "text/plain": [
       "<sklearn.metrics._plot.confusion_matrix.ConfusionMatrixDisplay at 0x7f34294d55f8>"
      ]
     },
     "execution_count": 86,
     "metadata": {},
     "output_type": "execute_result"
    },
    {
     "data": {
      "text/plain": [
       "<Figure size 720x720 with 0 Axes>"
      ]
     },
     "metadata": {},
     "output_type": "display_data"
    },
    {
     "data": {
      "image/png": "[encoded data removed]",
      "text/plain": [
       "<Figure size 432x288 with 2 Axes>"
      ]
     },
     "metadata": {
      "needs_background": "light"
     },
     "output_type": "display_data"
    }
   ],
   "source": [
    "from sklearn.metrics import plot_confusion_matrix\n",
    "plt.figure(figsize=(10,10))\n",
    "plot_confusion_matrix(Tree, X_test, y_test, normalize='true',cmap=plt.cm.Blues, display_labels=('Level 1', 'Level 2', 'Level 3','Level 4'))"
   ]
  },
  {
   "cell_type": "markdown",
   "metadata": {},
   "source": [
    "Decision Tree is clearly more accurate model for the current data set, so let's visualize it"
   ]
  },
  {
   "cell_type": "code",
   "execution_count": 87,
   "metadata": {},
   "outputs": [
    {
     "data": {
      "image/png": "[encoded data removed]",
      "text/plain": [
       "<Figure size 1080x576 with 1 Axes>"
      ]
     },
     "metadata": {
      "needs_background": "light"
     },
     "output_type": "display_data"
    }
   ],
   "source": [
    "from sklearn import tree\n",
    "plt.figure(figsize=(15,8))\n",
    "tree.plot_tree(Tree, fontsize=10)\n",
    "plt.title('Road Accident Classification Tree')\n",
    "plt.savefig('Accident Decision Tree')\n",
    "plt.show()"
   ]
  },
  {
   "cell_type": "code",
   "execution_count": 88,
   "metadata": {},
   "outputs": [
    {
     "name": "stdout",
     "output_type": "stream",
     "text": [
      "New DecisionTrees's Accuracy:  0.7393483709273183\n"
     ]
    }
   ],
   "source": [
    "#looking at the above, it looks like the Time (24h) is causing lots of noise because of the amount of values. \n",
    "# Using the Time of day column instead to see if it makes the model more accurate, have to enumerate the values\n",
    "df_2018['Time of Day Values'] = np.where(df_2018['Time of day'] =='Night',1,             \n",
    "                                np.where(df_2018['Time of day'] =='Early Morning',2,\n",
    "                                np.where(df_2018['Time of day'] =='Morning Rush Hour',3, \n",
    "                                np.where(df_2018['Time of day'] =='Late Morning',4,\n",
    "                                np.where(df_2018['Time of day'] =='Afternoon',5,\n",
    "                                np.where(df_2018['Time of day'] =='Afternoon Rush Hour',6,\n",
    "                                np.where(df_2018['Time of day'] =='Evening',7,'NA'\n",
    "                             )))))))\n",
    "X_new = df_2018[['Number of Vehicles','Season Code','Time of Day Values','Road Surface', 'Lighting Conditions', 'Weather Conditions',\n",
    "       'Type of Vehicle','Sex of Casualty','Age of Casualty']]\n",
    "X_train_new, X_test_new, y_train, y_test = train_test_split(X_new, y, test_size=0.2, random_state=4)\n",
    "Tree_new = DecisionTreeClassifier(criterion=\"entropy\", max_depth = 4)\n",
    "Tree.fit(X_train_new,y_train)\n",
    "yhat_Tree_new = Tree.predict(X_test_new)\n",
    "Acc_score=metrics.accuracy_score(y_test, yhat_Tree_new)\n",
    "print(\"New DecisionTrees's Accuracy: \", Acc_score)\n",
    "# Looking at the below, it didn't make any difference, the model works as well without this additional work"
   ]
  },
  {
   "cell_type": "markdown",
   "metadata": {},
   "source": [
    "# Model Evaluation"
   ]
  },
  {
   "cell_type": "markdown",
   "metadata": {},
   "source": [
    "Model evaluation is done with out-of-sample data set of relatively same size. It's the same kind of data set as the model was built on, just from year 2017."
   ]
  },
  {
   "cell_type": "code",
   "execution_count": 89,
   "metadata": {},
   "outputs": [],
   "source": [
    "df_2017 = pd.read_csv('https://query.data.world/s/7swoinykwekgy6yw4smakq3hhueozs')"
   ]
  },
  {
   "cell_type": "code",
   "execution_count": 90,
   "metadata": {},
   "outputs": [
    {
     "data": {
      "text/plain": [
       "(2203, 15)"
      ]
     },
     "execution_count": 90,
     "metadata": {},
     "output_type": "execute_result"
    }
   ],
   "source": [
    "df_2017.shape"
   ]
  },
  {
   "cell_type": "code",
   "execution_count": 91,
   "metadata": {},
   "outputs": [
    {
     "data": {
      "text/plain": [
       "Reference Number       object\n",
       "Grid Ref: Easting       int64\n",
       "Grid Ref: Northing      int64\n",
       "Number of Vehicles      int64\n",
       "Accident Date          object\n",
       "Time (24hr)             int64\n",
       "1st Road Class & No    object\n",
       "Road Surface           object\n",
       "Lighting Conditions    object\n",
       "Weather Conditions     object\n",
       "Type of Vehicle        object\n",
       "Casualty Class         object\n",
       "Casualty Severity      object\n",
       "Sex of Casualty        object\n",
       "Age of Casualty         int64\n",
       "dtype: object"
      ]
     },
     "execution_count": 91,
     "metadata": {},
     "output_type": "execute_result"
    }
   ],
   "source": [
    "df_2017.dtypes"
   ]
  },
  {
   "cell_type": "code",
   "execution_count": 92,
   "metadata": {},
   "outputs": [
    {
     "data": {
      "text/html": [
       "<div>\n",
       "<style scoped>\n",
       "    .dataframe tbody tr th:only-of-type {\n",
       "        vertical-align: middle;\n",
       "    }\n",
       "\n",
       "    .dataframe tbody tr th {\n",
       "        vertical-align: top;\n",
       "    }\n",
       "\n",
       "    .dataframe thead th {\n",
       "        text-align: right;\n",
       "    }\n",
       "</style>\n",
       "<table border=\"1\" class=\"dataframe\">\n",
       "  <thead>\n",
       "    <tr style=\"text-align: right;\">\n",
       "      <th></th>\n",
       "      <th>Reference Number</th>\n",
       "      <th>Grid Ref: Easting</th>\n",
       "      <th>Grid Ref: Northing</th>\n",
       "      <th>Number of Vehicles</th>\n",
       "      <th>Accident Date</th>\n",
       "      <th>Time (24hr)</th>\n",
       "      <th>1st Road Class &amp; No</th>\n",
       "      <th>Road Surface</th>\n",
       "      <th>Lighting Conditions</th>\n",
       "      <th>Weather Conditions</th>\n",
       "      <th>Type of Vehicle</th>\n",
       "      <th>Casualty Class</th>\n",
       "      <th>Casualty Severity</th>\n",
       "      <th>Sex of Casualty</th>\n",
       "      <th>Age of Casualty</th>\n",
       "    </tr>\n",
       "  </thead>\n",
       "  <tbody>\n",
       "    <tr>\n",
       "      <th>0</th>\n",
       "      <td>3AP0313</td>\n",
       "      <td>426340</td>\n",
       "      <td>428455</td>\n",
       "      <td>1</td>\n",
       "      <td>3/17/2017</td>\n",
       "      <td>815</td>\n",
       "      <td>A643</td>\n",
       "      <td>Dry</td>\n",
       "      <td>Daylight: Street lights present</td>\n",
       "      <td>Other</td>\n",
       "      <td>Car</td>\n",
       "      <td>Pedestrian</td>\n",
       "      <td>Serious</td>\n",
       "      <td>Female</td>\n",
       "      <td>61</td>\n",
       "    </tr>\n",
       "    <tr>\n",
       "      <th>1</th>\n",
       "      <td>3BE0850</td>\n",
       "      <td>430828</td>\n",
       "      <td>433222</td>\n",
       "      <td>2</td>\n",
       "      <td>1/14/2017</td>\n",
       "      <td>1330</td>\n",
       "      <td>A61</td>\n",
       "      <td>Dry</td>\n",
       "      <td>Daylight: Street lights present</td>\n",
       "      <td>Fine without high winds</td>\n",
       "      <td>Pedal cycle</td>\n",
       "      <td>Driver or rider</td>\n",
       "      <td>Slight</td>\n",
       "      <td>Male</td>\n",
       "      <td>36</td>\n",
       "    </tr>\n",
       "    <tr>\n",
       "      <th>2</th>\n",
       "      <td>4110858</td>\n",
       "      <td>428940</td>\n",
       "      <td>429856</td>\n",
       "      <td>2</td>\n",
       "      <td>1/1/2017</td>\n",
       "      <td>805</td>\n",
       "      <td>A653</td>\n",
       "      <td>Wet/Damp</td>\n",
       "      <td>Daylight: Street lights present</td>\n",
       "      <td>Fine without high winds</td>\n",
       "      <td>Car</td>\n",
       "      <td>Driver or rider</td>\n",
       "      <td>Slight</td>\n",
       "      <td>Male</td>\n",
       "      <td>32</td>\n",
       "    </tr>\n",
       "    <tr>\n",
       "      <th>3</th>\n",
       "      <td>4110858</td>\n",
       "      <td>428940</td>\n",
       "      <td>429856</td>\n",
       "      <td>2</td>\n",
       "      <td>1/1/2017</td>\n",
       "      <td>805</td>\n",
       "      <td>A653</td>\n",
       "      <td>Wet/Damp</td>\n",
       "      <td>Daylight: Street lights present</td>\n",
       "      <td>Fine without high winds</td>\n",
       "      <td>Car</td>\n",
       "      <td>Driver or rider</td>\n",
       "      <td>Slight</td>\n",
       "      <td>Male</td>\n",
       "      <td>30</td>\n",
       "    </tr>\n",
       "    <tr>\n",
       "      <th>4</th>\n",
       "      <td>4111495</td>\n",
       "      <td>429899</td>\n",
       "      <td>434277</td>\n",
       "      <td>2</td>\n",
       "      <td>1/1/2017</td>\n",
       "      <td>1705</td>\n",
       "      <td>U</td>\n",
       "      <td>Wet/Damp</td>\n",
       "      <td>Darkness: Street lights present and lit</td>\n",
       "      <td>Raining without high winds</td>\n",
       "      <td>Car</td>\n",
       "      <td>Vehicle or pillion passenger</td>\n",
       "      <td>Slight</td>\n",
       "      <td>Female</td>\n",
       "      <td>26</td>\n",
       "    </tr>\n",
       "  </tbody>\n",
       "</table>\n",
       "</div>"
      ],
      "text/plain": [
       "  Reference Number  Grid Ref: Easting  Grid Ref: Northing  Number of Vehicles  \\\n",
       "0          3AP0313             426340              428455                   1   \n",
       "1          3BE0850             430828              433222                   2   \n",
       "2          4110858             428940              429856                   2   \n",
       "3          4110858             428940              429856                   2   \n",
       "4          4111495             429899              434277                   2   \n",
       "\n",
       "  Accident Date  Time (24hr) 1st Road Class & No Road Surface  \\\n",
       "0     3/17/2017          815                A643          Dry   \n",
       "1     1/14/2017         1330                 A61          Dry   \n",
       "2      1/1/2017          805                A653     Wet/Damp   \n",
       "3      1/1/2017          805                A653     Wet/Damp   \n",
       "4      1/1/2017         1705                   U     Wet/Damp   \n",
       "\n",
       "                       Lighting Conditions          Weather Conditions  \\\n",
       "0          Daylight: Street lights present                       Other   \n",
       "1          Daylight: Street lights present     Fine without high winds   \n",
       "2          Daylight: Street lights present     Fine without high winds   \n",
       "3          Daylight: Street lights present     Fine without high winds   \n",
       "4  Darkness: Street lights present and lit  Raining without high winds   \n",
       "\n",
       "  Type of Vehicle                Casualty Class Casualty Severity  \\\n",
       "0             Car                    Pedestrian           Serious   \n",
       "1     Pedal cycle               Driver or rider            Slight   \n",
       "2             Car               Driver or rider            Slight   \n",
       "3             Car               Driver or rider            Slight   \n",
       "4             Car  Vehicle or pillion passenger            Slight   \n",
       "\n",
       "  Sex of Casualty  Age of Casualty  \n",
       "0          Female               61  \n",
       "1            Male               36  \n",
       "2            Male               32  \n",
       "3            Male               30  \n",
       "4          Female               26  "
      ]
     },
     "execution_count": 92,
     "metadata": {},
     "output_type": "execute_result"
    }
   ],
   "source": [
    "df_2017.head()"
   ]
  },
  {
   "cell_type": "markdown",
   "metadata": {},
   "source": [
    "The df_2017 dataset doesn't have the numeric values like the df_2018 does, so we need to make sure to add them and make all the same modifications as to df_2018  \n",
    "We need to make sure we have the following data:  \n",
    "- X (all numeric values): 'Number of Vehicles','Season Code','Time (24hr)','Road Surface', 'Lighting Conditions', 'Weather Conditions','Type of Vehicle','Sex of Casualty','Age of Casualty'  \n",
    "- y: 'Severity Level', for which we also need to calculate CS Value and SS Value"
   ]
  },
  {
   "cell_type": "code",
   "execution_count": 93,
   "metadata": {},
   "outputs": [
    {
     "data": {
      "text/plain": [
       "Index(['Reference Number', 'Grid Ref: Easting', 'Grid Ref: Northing',\n",
       "       'Number of Vehicles', 'Accident Date', 'Time (24hr)',\n",
       "       '1st Road Class & No', 'Road Surface', 'Lighting Conditions',\n",
       "       'Weather Conditions', 'Type of Vehicle', 'Casualty Class',\n",
       "       'Casualty Severity', 'Sex of Casualty', 'Age of Casualty'],\n",
       "      dtype='object')"
      ]
     },
     "execution_count": 93,
     "metadata": {},
     "output_type": "execute_result"
    }
   ],
   "source": [
    "df_2017.columns"
   ]
  },
  {
   "cell_type": "code",
   "execution_count": 94,
   "metadata": {},
   "outputs": [],
   "source": [
    "# Drop columns that are not relevant for the data to simplify the data set, set the column names to same as df_2018\n",
    "df_2017.drop(columns=['Grid Ref: Easting',\n",
    "              'Grid Ref: Northing',\n",
    "              '1st Road Class & No',\n",
    "              'Casualty Class'],inplace=True)\n",
    "df_2017.rename(columns={'Reference Number':'Accident Ref No'}, inplace=True)"
   ]
  },
  {
   "cell_type": "code",
   "execution_count": 95,
   "metadata": {},
   "outputs": [
    {
     "data": {
      "text/plain": [
       "Slight     1879\n",
       "Serious     309\n",
       "Fatal        15\n",
       "Name: Casualty Severity, dtype: int64"
      ]
     },
     "execution_count": 95,
     "metadata": {},
     "output_type": "execute_result"
    }
   ],
   "source": [
    "# Format Casualty Severity to match df_2018\n",
    "df_2017['Casualty Severity'].value_counts()"
   ]
  },
  {
   "cell_type": "code",
   "execution_count": 96,
   "metadata": {},
   "outputs": [
    {
     "data": {
      "text/html": [
       "<div>\n",
       "<style scoped>\n",
       "    .dataframe tbody tr th:only-of-type {\n",
       "        vertical-align: middle;\n",
       "    }\n",
       "\n",
       "    .dataframe tbody tr th {\n",
       "        vertical-align: top;\n",
       "    }\n",
       "\n",
       "    .dataframe thead th {\n",
       "        text-align: right;\n",
       "    }\n",
       "</style>\n",
       "<table border=\"1\" class=\"dataframe\">\n",
       "  <thead>\n",
       "    <tr style=\"text-align: right;\">\n",
       "      <th></th>\n",
       "      <th>Accident Ref No</th>\n",
       "      <th>Number of Vehicles</th>\n",
       "      <th>Accident Date</th>\n",
       "      <th>Time (24hr)</th>\n",
       "      <th>Road Surface</th>\n",
       "      <th>Lighting Conditions</th>\n",
       "      <th>Weather Conditions</th>\n",
       "      <th>Type of Vehicle</th>\n",
       "      <th>Casualty Severity Description</th>\n",
       "      <th>Sex of Casualty</th>\n",
       "      <th>Age of Casualty</th>\n",
       "    </tr>\n",
       "  </thead>\n",
       "  <tbody>\n",
       "    <tr>\n",
       "      <th>0</th>\n",
       "      <td>3AP0313</td>\n",
       "      <td>1</td>\n",
       "      <td>3/17/2017</td>\n",
       "      <td>815</td>\n",
       "      <td>Dry</td>\n",
       "      <td>Daylight: Street lights present</td>\n",
       "      <td>Other</td>\n",
       "      <td>Car</td>\n",
       "      <td>Serious</td>\n",
       "      <td>Female</td>\n",
       "      <td>61</td>\n",
       "    </tr>\n",
       "    <tr>\n",
       "      <th>1</th>\n",
       "      <td>3BE0850</td>\n",
       "      <td>2</td>\n",
       "      <td>1/14/2017</td>\n",
       "      <td>1330</td>\n",
       "      <td>Dry</td>\n",
       "      <td>Daylight: Street lights present</td>\n",
       "      <td>Fine without high winds</td>\n",
       "      <td>Pedal cycle</td>\n",
       "      <td>Slight</td>\n",
       "      <td>Male</td>\n",
       "      <td>36</td>\n",
       "    </tr>\n",
       "    <tr>\n",
       "      <th>2</th>\n",
       "      <td>4110858</td>\n",
       "      <td>2</td>\n",
       "      <td>1/1/2017</td>\n",
       "      <td>805</td>\n",
       "      <td>Wet/Damp</td>\n",
       "      <td>Daylight: Street lights present</td>\n",
       "      <td>Fine without high winds</td>\n",
       "      <td>Car</td>\n",
       "      <td>Slight</td>\n",
       "      <td>Male</td>\n",
       "      <td>32</td>\n",
       "    </tr>\n",
       "    <tr>\n",
       "      <th>3</th>\n",
       "      <td>4110858</td>\n",
       "      <td>2</td>\n",
       "      <td>1/1/2017</td>\n",
       "      <td>805</td>\n",
       "      <td>Wet/Damp</td>\n",
       "      <td>Daylight: Street lights present</td>\n",
       "      <td>Fine without high winds</td>\n",
       "      <td>Car</td>\n",
       "      <td>Slight</td>\n",
       "      <td>Male</td>\n",
       "      <td>30</td>\n",
       "    </tr>\n",
       "    <tr>\n",
       "      <th>4</th>\n",
       "      <td>4111495</td>\n",
       "      <td>2</td>\n",
       "      <td>1/1/2017</td>\n",
       "      <td>1705</td>\n",
       "      <td>Wet/Damp</td>\n",
       "      <td>Darkness: Street lights present and lit</td>\n",
       "      <td>Raining without high winds</td>\n",
       "      <td>Car</td>\n",
       "      <td>Slight</td>\n",
       "      <td>Female</td>\n",
       "      <td>26</td>\n",
       "    </tr>\n",
       "  </tbody>\n",
       "</table>\n",
       "</div>"
      ],
      "text/plain": [
       "  Accident Ref No  Number of Vehicles Accident Date  Time (24hr) Road Surface  \\\n",
       "0         3AP0313                   1     3/17/2017          815          Dry   \n",
       "1         3BE0850                   2     1/14/2017         1330          Dry   \n",
       "2         4110858                   2      1/1/2017          805     Wet/Damp   \n",
       "3         4110858                   2      1/1/2017          805     Wet/Damp   \n",
       "4         4111495                   2      1/1/2017         1705     Wet/Damp   \n",
       "\n",
       "                       Lighting Conditions          Weather Conditions  \\\n",
       "0          Daylight: Street lights present                       Other   \n",
       "1          Daylight: Street lights present     Fine without high winds   \n",
       "2          Daylight: Street lights present     Fine without high winds   \n",
       "3          Daylight: Street lights present     Fine without high winds   \n",
       "4  Darkness: Street lights present and lit  Raining without high winds   \n",
       "\n",
       "  Type of Vehicle Casualty Severity Description Sex of Casualty  \\\n",
       "0             Car                       Serious          Female   \n",
       "1     Pedal cycle                        Slight            Male   \n",
       "2             Car                        Slight            Male   \n",
       "3             Car                        Slight            Male   \n",
       "4             Car                        Slight          Female   \n",
       "\n",
       "   Age of Casualty  \n",
       "0               61  \n",
       "1               36  \n",
       "2               32  \n",
       "3               30  \n",
       "4               26  "
      ]
     },
     "execution_count": 96,
     "metadata": {},
     "output_type": "execute_result"
    }
   ],
   "source": [
    "# Format Casualty Severity to match Slight with Casual Severity 1 and Serious and Fatal with Severity 2. \n",
    "## Also need to rename the column because in df_2018 Casual Severity is numeric data\n",
    "df_2017.rename(columns={'Casualty Severity':'Casualty Severity Description'}, inplace=True)\n",
    "df_2017.head()"
   ]
  },
  {
   "cell_type": "code",
   "execution_count": 97,
   "metadata": {},
   "outputs": [
    {
     "data": {
      "text/html": [
       "<div>\n",
       "<style scoped>\n",
       "    .dataframe tbody tr th:only-of-type {\n",
       "        vertical-align: middle;\n",
       "    }\n",
       "\n",
       "    .dataframe tbody tr th {\n",
       "        vertical-align: top;\n",
       "    }\n",
       "\n",
       "    .dataframe thead th {\n",
       "        text-align: right;\n",
       "    }\n",
       "</style>\n",
       "<table border=\"1\" class=\"dataframe\">\n",
       "  <thead>\n",
       "    <tr style=\"text-align: right;\">\n",
       "      <th></th>\n",
       "      <th>Casualty Severity</th>\n",
       "      <th>Casualty Severity Description</th>\n",
       "    </tr>\n",
       "  </thead>\n",
       "  <tbody>\n",
       "    <tr>\n",
       "      <th>2193</th>\n",
       "      <td>1.0</td>\n",
       "      <td>Slight</td>\n",
       "    </tr>\n",
       "    <tr>\n",
       "      <th>2194</th>\n",
       "      <td>1.0</td>\n",
       "      <td>Slight</td>\n",
       "    </tr>\n",
       "    <tr>\n",
       "      <th>2195</th>\n",
       "      <td>1.0</td>\n",
       "      <td>Slight</td>\n",
       "    </tr>\n",
       "    <tr>\n",
       "      <th>2196</th>\n",
       "      <td>1.0</td>\n",
       "      <td>Slight</td>\n",
       "    </tr>\n",
       "    <tr>\n",
       "      <th>2197</th>\n",
       "      <td>1.0</td>\n",
       "      <td>Slight</td>\n",
       "    </tr>\n",
       "    <tr>\n",
       "      <th>2198</th>\n",
       "      <td>1.0</td>\n",
       "      <td>Slight</td>\n",
       "    </tr>\n",
       "    <tr>\n",
       "      <th>2199</th>\n",
       "      <td>1.0</td>\n",
       "      <td>Slight</td>\n",
       "    </tr>\n",
       "    <tr>\n",
       "      <th>2200</th>\n",
       "      <td>1.0</td>\n",
       "      <td>Slight</td>\n",
       "    </tr>\n",
       "    <tr>\n",
       "      <th>2201</th>\n",
       "      <td>2.0</td>\n",
       "      <td>Serious</td>\n",
       "    </tr>\n",
       "    <tr>\n",
       "      <th>2202</th>\n",
       "      <td>1.0</td>\n",
       "      <td>Slight</td>\n",
       "    </tr>\n",
       "  </tbody>\n",
       "</table>\n",
       "</div>"
      ],
      "text/plain": [
       "     Casualty Severity Casualty Severity Description\n",
       "2193               1.0                        Slight\n",
       "2194               1.0                        Slight\n",
       "2195               1.0                        Slight\n",
       "2196               1.0                        Slight\n",
       "2197               1.0                        Slight\n",
       "2198               1.0                        Slight\n",
       "2199               1.0                        Slight\n",
       "2200               1.0                        Slight\n",
       "2201               2.0                       Serious\n",
       "2202               1.0                        Slight"
      ]
     },
     "execution_count": 97,
     "metadata": {},
     "output_type": "execute_result"
    }
   ],
   "source": [
    "df_2017['Casualty Severity'] = np.where(df_2017['Casualty Severity Description'] == 'Slight', 1.0, \n",
    "                                np.where(df_2017['Casualty Severity Description'] == 'Serious', 2.0,\n",
    "                                np.where(df_2017['Casualty Severity Description'] == 'Fatal', 2.0,'NA'\n",
    "                                )))\n",
    "df_2017[['Casualty Severity','Casualty Severity Description']].tail(10)"
   ]
  },
  {
   "cell_type": "code",
   "execution_count": 98,
   "metadata": {},
   "outputs": [
    {
     "data": {
      "text/plain": [
       "1.0    1879\n",
       "2.0     324\n",
       "Name: Casualty Severity, dtype: int64"
      ]
     },
     "execution_count": 98,
     "metadata": {},
     "output_type": "execute_result"
    }
   ],
   "source": [
    "df_2017['Casualty Severity'].value_counts()"
   ]
  },
  {
   "cell_type": "code",
   "execution_count": 99,
   "metadata": {},
   "outputs": [
    {
     "data": {
      "text/plain": [
       "dtype('float64')"
      ]
     },
     "execution_count": 99,
     "metadata": {},
     "output_type": "execute_result"
    }
   ],
   "source": [
    "# have to convert the dtype to float for the next calculation\n",
    "df_2017['Casualty Severity']=df_2017['Casualty Severity'].astype(float)\n",
    "df_2017['Casualty Severity'].dtype"
   ]
  },
  {
   "cell_type": "code",
   "execution_count": 100,
   "metadata": {},
   "outputs": [
    {
     "data": {
      "text/plain": [
       "CS Value  Accident Ref No\n",
       "1         3BE0850            0.000881\n",
       "          4111495            0.000881\n",
       "          4111706            0.000881\n",
       "          4121066            0.000881\n",
       "          4130470            0.000881\n",
       "                               ...   \n",
       "7         49K0899            0.250000\n",
       "          4630981            0.208333\n",
       "8         46N1495            1.000000\n",
       "9         42J1718            1.000000\n",
       "12        4BP1859            1.000000\n",
       "Name: Accident Ref No, Length: 1711, dtype: float64"
      ]
     },
     "execution_count": 100,
     "metadata": {},
     "output_type": "execute_result"
    }
   ],
   "source": [
    "# Add in columns for Casualty Severity (CS) Value and convert it into int so it can be used in calculations\n",
    "df_2017['CS Value'] = df_2017.groupby(['Accident Ref No'])['Casualty Severity'].transform(sum)\n",
    "df_2017['CS Value']=df_2017['CS Value'].astype(int)\n",
    "CSValues=df_2017.groupby(['CS Value'])['Accident Ref No'].value_counts(normalize=True, ascending=False)\n",
    "CSValues"
   ]
  },
  {
   "cell_type": "code",
   "execution_count": 101,
   "metadata": {},
   "outputs": [
    {
     "data": {
      "text/html": [
       "<div>\n",
       "<style scoped>\n",
       "    .dataframe tbody tr th:only-of-type {\n",
       "        vertical-align: middle;\n",
       "    }\n",
       "\n",
       "    .dataframe tbody tr th {\n",
       "        vertical-align: top;\n",
       "    }\n",
       "\n",
       "    .dataframe thead th {\n",
       "        text-align: right;\n",
       "    }\n",
       "</style>\n",
       "<table border=\"1\" class=\"dataframe\">\n",
       "  <thead>\n",
       "    <tr style=\"text-align: right;\">\n",
       "      <th></th>\n",
       "      <th>Accident Ref No</th>\n",
       "      <th>Number of Vehicles</th>\n",
       "      <th>CS Value</th>\n",
       "      <th>SS Value</th>\n",
       "    </tr>\n",
       "  </thead>\n",
       "  <tbody>\n",
       "    <tr>\n",
       "      <th>2193</th>\n",
       "      <td>4CU1068</td>\n",
       "      <td>2</td>\n",
       "      <td>3</td>\n",
       "      <td>5</td>\n",
       "    </tr>\n",
       "    <tr>\n",
       "      <th>2194</th>\n",
       "      <td>4CU1068</td>\n",
       "      <td>2</td>\n",
       "      <td>3</td>\n",
       "      <td>5</td>\n",
       "    </tr>\n",
       "    <tr>\n",
       "      <th>2195</th>\n",
       "      <td>4CU1264</td>\n",
       "      <td>1</td>\n",
       "      <td>1</td>\n",
       "      <td>2</td>\n",
       "    </tr>\n",
       "    <tr>\n",
       "      <th>2196</th>\n",
       "      <td>4CV0870</td>\n",
       "      <td>2</td>\n",
       "      <td>1</td>\n",
       "      <td>3</td>\n",
       "    </tr>\n",
       "    <tr>\n",
       "      <th>2197</th>\n",
       "      <td>4CV0902</td>\n",
       "      <td>2</td>\n",
       "      <td>2</td>\n",
       "      <td>4</td>\n",
       "    </tr>\n",
       "    <tr>\n",
       "      <th>2198</th>\n",
       "      <td>4CV0902</td>\n",
       "      <td>2</td>\n",
       "      <td>2</td>\n",
       "      <td>4</td>\n",
       "    </tr>\n",
       "    <tr>\n",
       "      <th>2199</th>\n",
       "      <td>4CV1387</td>\n",
       "      <td>3</td>\n",
       "      <td>1</td>\n",
       "      <td>4</td>\n",
       "    </tr>\n",
       "    <tr>\n",
       "      <th>2200</th>\n",
       "      <td>4CV1544</td>\n",
       "      <td>2</td>\n",
       "      <td>1</td>\n",
       "      <td>3</td>\n",
       "    </tr>\n",
       "    <tr>\n",
       "      <th>2201</th>\n",
       "      <td>51B1932</td>\n",
       "      <td>2</td>\n",
       "      <td>2</td>\n",
       "      <td>4</td>\n",
       "    </tr>\n",
       "    <tr>\n",
       "      <th>2202</th>\n",
       "      <td>56R0735</td>\n",
       "      <td>2</td>\n",
       "      <td>1</td>\n",
       "      <td>3</td>\n",
       "    </tr>\n",
       "  </tbody>\n",
       "</table>\n",
       "</div>"
      ],
      "text/plain": [
       "     Accident Ref No  Number of Vehicles  CS Value  SS Value\n",
       "2193         4CU1068                   2         3         5\n",
       "2194         4CU1068                   2         3         5\n",
       "2195         4CU1264                   1         1         2\n",
       "2196         4CV0870                   2         1         3\n",
       "2197         4CV0902                   2         2         4\n",
       "2198         4CV0902                   2         2         4\n",
       "2199         4CV1387                   3         1         4\n",
       "2200         4CV1544                   2         1         3\n",
       "2201         51B1932                   2         2         4\n",
       "2202         56R0735                   2         1         3"
      ]
     },
     "execution_count": 101,
     "metadata": {},
     "output_type": "execute_result"
    }
   ],
   "source": [
    "## Add Severity Score (SS) Value for Severity Level calculations\n",
    "df_2017['SS Value'] = df_2017['Number of Vehicles']+df_2017['CS Value']\n",
    "df_2017[['Accident Ref No','Number of Vehicles','CS Value','SS Value']].tail(10)"
   ]
  },
  {
   "cell_type": "code",
   "execution_count": 102,
   "metadata": {},
   "outputs": [
    {
     "data": {
      "text/plain": [
       "(-1.0, 4.0)"
      ]
     },
     "execution_count": 102,
     "metadata": {},
     "output_type": "execute_result"
    },
    {
     "data": {
      "image/png": "[encoded data removed]",
      "text/plain": [
       "<Figure size 432x288 with 1 Axes>"
      ]
     },
     "metadata": {
      "needs_background": "light"
     },
     "output_type": "display_data"
    }
   ],
   "source": [
    "# Add in Severity Level numerical value column for the categorisation\n",
    "df_2017['Severity Level'] = np.where((df_2017['SS Value'] == 1), 0, \n",
    "                                np.where((df_2017['SS Value'] >= 2) & (df_2017['SS Value'] <= 3), 1,\n",
    "                                np.where((df_2017['SS Value'] >= 4) & (df_2017['SS Value'] <= 7), 2,\n",
    "                                np.where((df_2017['SS Value'] >= 8) & (df_2017['SS Value'] <= 13), 3,\n",
    "                                np.where((df_2017['SS Value'] >= 14) & (df_2017['SS Value'] <= 25), 4,\n",
    "                                np.where((df_2017['SS Value'] >= 26) & (df_2017['SS Value'] <= 50), 5,\n",
    "                                np.where((df_2017['SS Value'] >= 50), 6,'NA'\n",
    "                                )))))))\n",
    "Severity_Levels=df_2017['Severity Level'].value_counts()\n",
    "Severity_Levels.plot(kind='bar', color='c')\n",
    "plt.title('Distribution of Severity Levels 2017')\n",
    "plt.xticks(rotation='horizontal')\n",
    "plt.ylabel('Count of Casualties')\n",
    "plt.xlabel('Severity Level')\n",
    "plt.xlim(-1,4)"
   ]
  },
  {
   "cell_type": "code",
   "execution_count": 103,
   "metadata": {},
   "outputs": [
    {
     "data": {
      "text/html": [
       "<div>\n",
       "<style scoped>\n",
       "    .dataframe tbody tr th:only-of-type {\n",
       "        vertical-align: middle;\n",
       "    }\n",
       "\n",
       "    .dataframe tbody tr th {\n",
       "        vertical-align: top;\n",
       "    }\n",
       "\n",
       "    .dataframe thead th {\n",
       "        text-align: right;\n",
       "    }\n",
       "</style>\n",
       "<table border=\"1\" class=\"dataframe\">\n",
       "  <thead>\n",
       "    <tr style=\"text-align: right;\">\n",
       "      <th></th>\n",
       "      <th>Accident Date</th>\n",
       "      <th>Season Code</th>\n",
       "    </tr>\n",
       "  </thead>\n",
       "  <tbody>\n",
       "    <tr>\n",
       "      <th>2193</th>\n",
       "      <td>2017-12-30</td>\n",
       "      <td>4</td>\n",
       "    </tr>\n",
       "    <tr>\n",
       "      <th>2194</th>\n",
       "      <td>2017-12-30</td>\n",
       "      <td>4</td>\n",
       "    </tr>\n",
       "    <tr>\n",
       "      <th>2195</th>\n",
       "      <td>2017-12-30</td>\n",
       "      <td>4</td>\n",
       "    </tr>\n",
       "    <tr>\n",
       "      <th>2196</th>\n",
       "      <td>2017-12-31</td>\n",
       "      <td>4</td>\n",
       "    </tr>\n",
       "    <tr>\n",
       "      <th>2197</th>\n",
       "      <td>2017-12-31</td>\n",
       "      <td>4</td>\n",
       "    </tr>\n",
       "    <tr>\n",
       "      <th>2198</th>\n",
       "      <td>2017-12-31</td>\n",
       "      <td>4</td>\n",
       "    </tr>\n",
       "    <tr>\n",
       "      <th>2199</th>\n",
       "      <td>2017-12-31</td>\n",
       "      <td>4</td>\n",
       "    </tr>\n",
       "    <tr>\n",
       "      <th>2200</th>\n",
       "      <td>2017-12-31</td>\n",
       "      <td>4</td>\n",
       "    </tr>\n",
       "    <tr>\n",
       "      <th>2201</th>\n",
       "      <td>2017-01-11</td>\n",
       "      <td>4</td>\n",
       "    </tr>\n",
       "    <tr>\n",
       "      <th>2202</th>\n",
       "      <td>2017-06-27</td>\n",
       "      <td>2</td>\n",
       "    </tr>\n",
       "  </tbody>\n",
       "</table>\n",
       "</div>"
      ],
      "text/plain": [
       "     Accident Date Season Code\n",
       "2193    2017-12-30           4\n",
       "2194    2017-12-30           4\n",
       "2195    2017-12-30           4\n",
       "2196    2017-12-31           4\n",
       "2197    2017-12-31           4\n",
       "2198    2017-12-31           4\n",
       "2199    2017-12-31           4\n",
       "2200    2017-12-31           4\n",
       "2201    2017-01-11           4\n",
       "2202    2017-06-27           2"
      ]
     },
     "execution_count": 103,
     "metadata": {},
     "output_type": "execute_result"
    }
   ],
   "source": [
    "# convert object to time stamp dtype\n",
    "df_2017['Accident Date'] = pd.to_datetime(df_2017['Accident Date'])\n",
    "# add in a column with numerical value for a season where Spring = 1, Summer = 2, Autumn = 3 and Winter = 4\n",
    "df_2017['Season Code'] = np.where(((df_2017['Accident Date'] >= '2017-01-01') & (df_2017['Accident Date'] <= '2017-02-28')), 4, \n",
    "                                np.where(((df_2017['Accident Date'] >= '2017-12-01') & (df_2017['Accident Date'] <= '2017-12-31')), 4,\n",
    "                                np.where(((df_2017['Accident Date'] >= '2017-03-01') & (df_2017['Accident Date'] <= '2017-05-31')), 1,\n",
    "                                np.where(((df_2017['Accident Date'] >= '2017-06-01') & (df_2017['Accident Date'] <= '2017-08-31')), 2,\n",
    "                                np.where(((df_2017['Accident Date'] >= '2017-09-01') & (df_2017['Accident Date'] <= '2017-11-30')), 3, 'NA'\n",
    "                                )))))\n",
    "df_2017[['Accident Date','Season Code']].tail(10)"
   ]
  },
  {
   "cell_type": "code",
   "execution_count": 104,
   "metadata": {},
   "outputs": [
    {
     "data": {
      "text/plain": [
       "Dry          1647\n",
       "Wet/Damp      521\n",
       "Frost/Ice      30\n",
       "Snow            5\n",
       "Name: Road Surface Description, dtype: int64"
      ]
     },
     "execution_count": 104,
     "metadata": {},
     "output_type": "execute_result"
    }
   ],
   "source": [
    "# Road Surface conditions formatting\n",
    "df_2017.rename(columns={'Road Surface':'Road Surface Description'}, inplace=True)\n",
    "df_2017['Road Surface Description'].value_counts()"
   ]
  },
  {
   "cell_type": "code",
   "execution_count": 105,
   "metadata": {},
   "outputs": [
    {
     "data": {
      "text/plain": [
       "1    1647\n",
       "2     521\n",
       "4      30\n",
       "3       5\n",
       "Name: Road Surface, dtype: int64"
      ]
     },
     "execution_count": 105,
     "metadata": {},
     "output_type": "execute_result"
    }
   ],
   "source": [
    "# Road Surface - add in the new column with numerical data\n",
    "df_2017['Road Surface'] = np.where(df_2017['Road Surface Description'] == 'Dry', 1, \n",
    "                                    np.where(df_2017['Road Surface Description'] == 'Wet/Damp', 2, \n",
    "                                    np.where(df_2017['Road Surface Description'] == 'Snow', 3, \n",
    "                                    np.where(df_2017['Road Surface Description'] == 'Frost/Ice', 4, 'NA'\n",
    "                                    ))))\n",
    "df_2017['Road Surface'].value_counts()"
   ]
  },
  {
   "cell_type": "code",
   "execution_count": 106,
   "metadata": {},
   "outputs": [
    {
     "data": {
      "text/plain": [
       "Daylight: Street lights present                    1181\n",
       "Darkness: Street lights present and lit             534\n",
       "Darkness: Street lighting unknown                   432\n",
       "Darkness: No street lighting                         46\n",
       "Darkness: Street lights present but unlit             9\n",
       "Darkness: Street lights present and lit and lit       1\n",
       "Name: Lighting Description, dtype: int64"
      ]
     },
     "execution_count": 106,
     "metadata": {},
     "output_type": "execute_result"
    }
   ],
   "source": [
    "# Lighting Conditions formatting\n",
    "df_2017.rename(columns={'Lighting Conditions':'Lighting Description'}, inplace=True)\n",
    "df_2017['Lighting Description'].value_counts()"
   ]
  },
  {
   "cell_type": "code",
   "execution_count": 107,
   "metadata": {},
   "outputs": [
    {
     "data": {
      "text/plain": [
       "1    1181\n",
       "2     535\n",
       "4     432\n",
       "3      55\n",
       "Name: Lighting Conditions, dtype: int64"
      ]
     },
     "execution_count": 107,
     "metadata": {},
     "output_type": "execute_result"
    }
   ],
   "source": [
    "# Lighting Conditions - add in the new column with numerical data\n",
    "df_2017['Lighting Conditions']=np.where(df_2017['Lighting Description'] == 'Daylight: Street lights present', 1, \n",
    "                                np.where(df_2017['Lighting Description'] == 'Darkness: Street lights present and lit', 2, \n",
    "                                np.where(df_2017['Lighting Description'] == 'Darkness: Street lights present and lit and lit', 2, \n",
    "                                np.where(df_2017['Lighting Description'] == 'Darkness: No street lighting', 3, \n",
    "                                np.where(df_2017['Lighting Description'] == 'Darkness: Street lights present but unlit', 3, \n",
    "                                np.where(df_2017['Lighting Description'] == 'Darkness: Street lighting unknown', 4, 'NA'\n",
    "                                ))))))\n",
    "df_2017['Lighting Conditions'].value_counts()"
   ]
  },
  {
   "cell_type": "code",
   "execution_count": 108,
   "metadata": {},
   "outputs": [
    {
     "data": {
      "text/plain": [
       "Fine without high winds       1954\n",
       "Raining without high winds     183\n",
       "Raining with high winds         19\n",
       "Other                           18\n",
       "Fine with high winds            18\n",
       "Snowing without high winds       6\n",
       "Fog or mist (if hazard)          3\n",
       "Snowing with high winds          2\n",
       "Name: Weather Description, dtype: int64"
      ]
     },
     "execution_count": 108,
     "metadata": {},
     "output_type": "execute_result"
    }
   ],
   "source": [
    "# Weather Conditions formatting\n",
    "df_2017.rename(columns={'Weather Conditions':'Weather Description'}, inplace=True)\n",
    "df_2017['Weather Description'].value_counts()"
   ]
  },
  {
   "cell_type": "code",
   "execution_count": 109,
   "metadata": {},
   "outputs": [
    {
     "data": {
      "text/plain": [
       "1    1954\n",
       "2     183\n",
       "5      19\n",
       "4      18\n",
       "8      18\n",
       "3       6\n",
       "7       3\n",
       "6       2\n",
       "Name: Weather Conditions, dtype: int64"
      ]
     },
     "execution_count": 109,
     "metadata": {},
     "output_type": "execute_result"
    }
   ],
   "source": [
    "# Weather Conditions - add in a new column with numerical data\n",
    "df_2017['Weather Conditions'] = np.where(df_2017['Weather Description'] == 'Fine without high winds', 1,\n",
    "                                np.where(df_2017['Weather Description'] == 'Raining without high winds', 2,\n",
    "                                np.where(df_2017['Weather Description'] == 'Snowing without high winds', 3,\n",
    "                                np.where(df_2017['Weather Description'] == 'Fine with high winds',4,\n",
    "                                np.where(df_2017['Weather Description'] == 'Raining with high winds',5,\n",
    "                                np.where(df_2017['Weather Description'] == 'Snowing with high winds',6,\n",
    "                                np.where(df_2017['Weather Description'] == 'Fog or mist (if hazard)',7,\n",
    "                                np.where(df_2017['Weather Description'] == 'Other',8,'NA'\n",
    "                                ))))))))\n",
    "df_2017['Weather Conditions'].value_counts()"
   ]
  },
  {
   "cell_type": "code",
   "execution_count": 110,
   "metadata": {},
   "outputs": [
    {
     "data": {
      "text/plain": [
       "Car                                                                                           1431\n",
       "Pedal cycle                                                                                    286\n",
       "Pedal cyclePedal cycle                                                                         131\n",
       "Motorcycle Motorcycle over 500cc0cc to 12Motorcycle over 500cccc                                86\n",
       "Taxi/Private hire car                                                                           69\n",
       "Pedal cycleCar                                                                                  63\n",
       "Motorcycle over 500cc                                                                           51\n",
       "Motorcycle 12Motorcycle over 500cccc to Motorcycle over 500cc00cc                               23\n",
       "Motorcycle Motorcycle over 500cc0cc and under                                                   22\n",
       "Motorcycle Motorcycle over 500cc0cc and under0                                                  11\n",
       "Car0                                                                                            11\n",
       "Motorcycle Motorcycle over 500cc0cc and underPedal cycle                                         9\n",
       "Pedal cycle0                                                                                     5\n",
       "Car7                                                                                             3\n",
       "CarTaxi/Private hire car                                                                         1\n",
       "Motorcycle Motorcycle over 500cc0cc and underMotorcycle Motorcycle over 500cc0cc and under       1\n",
       "Name: Vehicle Description, dtype: int64"
      ]
     },
     "execution_count": 110,
     "metadata": {},
     "output_type": "execute_result"
    }
   ],
   "source": [
    "# Type of Vehicle formatting\n",
    "df_2017.rename(columns={'Type of Vehicle':'Vehicle Description'}, inplace=True)\n",
    "df_2017['Vehicle Description'].value_counts()"
   ]
  },
  {
   "cell_type": "code",
   "execution_count": null,
   "metadata": {},
   "outputs": [],
   "source": []
  },
  {
   "cell_type": "code",
   "execution_count": 111,
   "metadata": {},
   "outputs": [
    {
     "data": {
      "text/plain": [
       "3    1515\n",
       "1     485\n",
       "2     203\n",
       "Name: Type of Vehicle, dtype: int64"
      ]
     },
     "execution_count": 111,
     "metadata": {},
     "output_type": "execute_result"
    }
   ],
   "source": [
    "# Type of Vehicle - add in a new column with numerical data\n",
    "df_2017['Type of Vehicle'] = np.where(df_2017['Vehicle Description'] == 'Pedal cycle', 1, \n",
    "                             np.where(df_2017['Vehicle Description'] == 'Pedal cyclePedal cycle', 1,\n",
    "                             np.where(df_2017['Vehicle Description'] == 'Pedal cycle0', 1,\n",
    "                             np.where(df_2017['Vehicle Description'] == 'Pedal cycleCar', 1,\n",
    "                             np.where(df_2017['Vehicle Description'] == 'Motorcycle Motorcycle over 500cc0cc to 12Motorcycle over 500cccc', 2, \n",
    "                             np.where(df_2017['Vehicle Description'] == 'Motorcycle over 500cc', 2,\n",
    "                             np.where(df_2017['Vehicle Description'] == 'Motorcycle 12Motorcycle over 500cccc to Motorcycle over 500cc00cc', 2,\n",
    "                             np.where(df_2017['Vehicle Description'] == 'Motorcycle Motorcycle over 500cc0cc and under', 2,\n",
    "                             np.where(df_2017['Vehicle Description'] == 'Motorcycle Motorcycle over 500cc0cc and under0', 2,\n",
    "                             np.where(df_2017['Vehicle Description'] == 'Motorcycle Motorcycle over 500cc0cc and underPedal cycle', 2,\n",
    "                             np.where(df_2017['Vehicle Description'] == 'Motorcycle Motorcycle over 500cc0cc and underMotorcycle Motorcycle over 500cc0cc and under', 2,\n",
    "                             np.where(df_2017['Vehicle Description'] == 'Car', 3,\n",
    "                             np.where(df_2017['Vehicle Description'] == 'Taxi/Private hire car', 3,\n",
    "                             np.where(df_2017['Vehicle Description'] == 'Car0', 3,\n",
    "                             np.where(df_2017['Vehicle Description'] == 'Car7', 3,\n",
    "                             np.where(df_2017['Vehicle Description'] == 'CarTaxi/Private hire car', 3,'NA'\n",
    "                            ))))))))))))))))\n",
    "df_2017['Type of Vehicle'].value_counts()"
   ]
  },
  {
   "cell_type": "code",
   "execution_count": 112,
   "metadata": {},
   "outputs": [
    {
     "data": {
      "text/plain": [
       "Male      1250\n",
       "Female     953\n",
       "Name: Gender, dtype: int64"
      ]
     },
     "execution_count": 112,
     "metadata": {},
     "output_type": "execute_result"
    }
   ],
   "source": [
    "# Sex of Casualty formatting\n",
    "df_2017.rename(columns={'Sex of Casualty':'Gender'}, inplace=True)\n",
    "df_2017['Gender'].value_counts()"
   ]
  },
  {
   "cell_type": "code",
   "execution_count": 113,
   "metadata": {},
   "outputs": [
    {
     "data": {
      "text/plain": [
       "1    1250\n",
       "2     953\n",
       "Name: Sex of Casualty, dtype: int64"
      ]
     },
     "execution_count": 113,
     "metadata": {},
     "output_type": "execute_result"
    }
   ],
   "source": [
    "# Sex of Casualty - add new column with numeric values\n",
    "df_2017['Sex of Casualty'] = np.where(df_2017['Gender'] =='Male', 1, \n",
    "                                np.where(df_2017['Gender'] =='Female',2, 'NA'))\n",
    "df_2017['Sex of Casualty'].value_counts()"
   ]
  },
  {
   "cell_type": "code",
   "execution_count": 114,
   "metadata": {},
   "outputs": [
    {
     "data": {
      "text/html": [
       "<div>\n",
       "<style scoped>\n",
       "    .dataframe tbody tr th:only-of-type {\n",
       "        vertical-align: middle;\n",
       "    }\n",
       "\n",
       "    .dataframe tbody tr th {\n",
       "        vertical-align: top;\n",
       "    }\n",
       "\n",
       "    .dataframe thead th {\n",
       "        text-align: right;\n",
       "    }\n",
       "</style>\n",
       "<table border=\"1\" class=\"dataframe\">\n",
       "  <thead>\n",
       "    <tr style=\"text-align: right;\">\n",
       "      <th></th>\n",
       "      <th>Number of Vehicles</th>\n",
       "      <th>Season Code</th>\n",
       "      <th>Time (24hr)</th>\n",
       "      <th>Road Surface</th>\n",
       "      <th>Lighting Conditions</th>\n",
       "      <th>Weather Conditions</th>\n",
       "      <th>Type of Vehicle</th>\n",
       "      <th>Sex of Casualty</th>\n",
       "      <th>Age of Casualty</th>\n",
       "    </tr>\n",
       "  </thead>\n",
       "  <tbody>\n",
       "    <tr>\n",
       "      <th>0</th>\n",
       "      <td>1</td>\n",
       "      <td>1</td>\n",
       "      <td>815</td>\n",
       "      <td>1</td>\n",
       "      <td>1</td>\n",
       "      <td>8</td>\n",
       "      <td>3</td>\n",
       "      <td>2</td>\n",
       "      <td>61</td>\n",
       "    </tr>\n",
       "    <tr>\n",
       "      <th>1</th>\n",
       "      <td>2</td>\n",
       "      <td>4</td>\n",
       "      <td>1330</td>\n",
       "      <td>1</td>\n",
       "      <td>1</td>\n",
       "      <td>1</td>\n",
       "      <td>1</td>\n",
       "      <td>1</td>\n",
       "      <td>36</td>\n",
       "    </tr>\n",
       "    <tr>\n",
       "      <th>2</th>\n",
       "      <td>2</td>\n",
       "      <td>4</td>\n",
       "      <td>805</td>\n",
       "      <td>2</td>\n",
       "      <td>1</td>\n",
       "      <td>1</td>\n",
       "      <td>3</td>\n",
       "      <td>1</td>\n",
       "      <td>32</td>\n",
       "    </tr>\n",
       "    <tr>\n",
       "      <th>3</th>\n",
       "      <td>2</td>\n",
       "      <td>4</td>\n",
       "      <td>805</td>\n",
       "      <td>2</td>\n",
       "      <td>1</td>\n",
       "      <td>1</td>\n",
       "      <td>3</td>\n",
       "      <td>1</td>\n",
       "      <td>30</td>\n",
       "    </tr>\n",
       "    <tr>\n",
       "      <th>4</th>\n",
       "      <td>2</td>\n",
       "      <td>4</td>\n",
       "      <td>1705</td>\n",
       "      <td>2</td>\n",
       "      <td>2</td>\n",
       "      <td>2</td>\n",
       "      <td>3</td>\n",
       "      <td>2</td>\n",
       "      <td>26</td>\n",
       "    </tr>\n",
       "  </tbody>\n",
       "</table>\n",
       "</div>"
      ],
      "text/plain": [
       "   Number of Vehicles Season Code  Time (24hr) Road Surface  \\\n",
       "0                   1           1          815            1   \n",
       "1                   2           4         1330            1   \n",
       "2                   2           4          805            2   \n",
       "3                   2           4          805            2   \n",
       "4                   2           4         1705            2   \n",
       "\n",
       "  Lighting Conditions Weather Conditions Type of Vehicle Sex of Casualty  \\\n",
       "0                   1                  8               3               2   \n",
       "1                   1                  1               1               1   \n",
       "2                   1                  1               3               1   \n",
       "3                   1                  1               3               1   \n",
       "4                   2                  2               3               2   \n",
       "\n",
       "   Age of Casualty  \n",
       "0               61  \n",
       "1               36  \n",
       "2               32  \n",
       "3               30  \n",
       "4               26  "
      ]
     },
     "execution_count": 114,
     "metadata": {},
     "output_type": "execute_result"
    }
   ],
   "source": [
    "# Set up X and y for testing\n",
    "X_2017=df_2017[['Number of Vehicles','Season Code','Time (24hr)','Road Surface', 'Lighting Conditions', 'Weather Conditions',\n",
    "       'Type of Vehicle','Sex of Casualty','Age of Casualty']]\n",
    "X_2017.head()"
   ]
  },
  {
   "cell_type": "code",
   "execution_count": 115,
   "metadata": {},
   "outputs": [
    {
     "data": {
      "text/plain": [
       "array(['1', '1', '2', '2', '1'], dtype=object)"
      ]
     },
     "execution_count": 115,
     "metadata": {},
     "output_type": "execute_result"
    }
   ],
   "source": [
    "y_2017=df_2017['Severity Level'].values\n",
    "y_2017[0:5]"
   ]
  },
  {
   "cell_type": "code",
   "execution_count": 116,
   "metadata": {},
   "outputs": [
    {
     "data": {
      "text/plain": [
       "array(['2', '2', '1', '2', '1', '2', '2', '1', '2', '1', '2', '1', '2',\n",
       "       '1', '2', '2', '2', '2', '2', '1'], dtype=object)"
      ]
     },
     "execution_count": 116,
     "metadata": {},
     "output_type": "execute_result"
    }
   ],
   "source": [
    "# Test the Tree ML model using the X_2017 for prediction and y_2017 to see the accuracy\n",
    "yhat_2017=Tree.predict(X_2017)\n",
    "yhat_2017[10:30]"
   ]
  },
  {
   "cell_type": "code",
   "execution_count": 117,
   "metadata": {},
   "outputs": [
    {
     "name": "stdout",
     "output_type": "stream",
     "text": [
      "0.6737878781083909 0.6799818429414435\n"
     ]
    },
    {
     "name": "stderr",
     "output_type": "stream",
     "text": [
      "/home/jupyterlab/conda/envs/python/lib/python3.6/site-packages/sklearn/metrics/_classification.py:664: FutureWarning: jaccard_similarity_score has been deprecated and replaced with jaccard_score. It will be removed in version 0.23. This implementation has surprising behavior for binary and multiclass classification tasks.\n",
      "  FutureWarning)\n"
     ]
    }
   ],
   "source": [
    "# assess the accuracy using the F1 and Jaccard scores\n",
    "F1_Tree=f1_score(y_2017, yhat_2017, average='weighted')\n",
    "Jaccard_Tree=jaccard_similarity_score(y_2017, yhat_2017)\n",
    "print(F1_Tree, Jaccard_Tree)"
   ]
  },
  {
   "cell_type": "code",
   "execution_count": 118,
   "metadata": {},
   "outputs": [
    {
     "data": {
      "text/plain": [
       "array([[713, 472,   8],\n",
       "       [143, 773,  10],\n",
       "       [ 16,  56,  12]])"
      ]
     },
     "execution_count": 118,
     "metadata": {},
     "output_type": "execute_result"
    }
   ],
   "source": [
    "# Plot the confusion matrix array to see where the model makes mistakes\n",
    "from sklearn.metrics import confusion_matrix\n",
    "confmatrix=confusion_matrix(y_2017, yhat_2017)\n",
    "confmatrix"
   ]
  },
  {
   "cell_type": "code",
   "execution_count": 119,
   "metadata": {},
   "outputs": [
    {
     "data": {
      "text/plain": [
       "<sklearn.metrics._plot.confusion_matrix.ConfusionMatrixDisplay at 0x7f3487c09470>"
      ]
     },
     "execution_count": 119,
     "metadata": {},
     "output_type": "execute_result"
    },
    {
     "data": {
      "image/png": "[encoded data removed]",
      "text/plain": [
       "<Figure size 720x720 with 2 Axes>"
      ]
     },
     "metadata": {
      "needs_background": "light"
     },
     "output_type": "display_data"
    }
   ],
   "source": [
    "# visualize the confusion matrix\n",
    "from sklearn.metrics import plot_confusion_matrix\n",
    "fig,ax = plt.subplots(figsize=(10, 10))\n",
    "plot_confusion_matrix(Tree, X_2017, y_2017, normalize='true',cmap=plt.cm.Blues, \n",
    "                      display_labels=('Level 1', 'Level 2', 'Level 3'), ax=ax)"
   ]
  },
  {
   "cell_type": "code",
   "execution_count": 120,
   "metadata": {},
   "outputs": [
    {
     "data": {
      "text/plain": [
       "Text(0.5, 1.0, 'Confusion Matrix of True vs Predicted Values')"
      ]
     },
     "execution_count": 120,
     "metadata": {},
     "output_type": "execute_result"
    },
    {
     "data": {
      "image/png": "[encoded data removed]",
      "text/plain": [
       "<Figure size 720x504 with 2 Axes>"
      ]
     },
     "metadata": {
      "needs_background": "light"
     },
     "output_type": "display_data"
    }
   ],
   "source": [
    "plt.figure(figsize = (10,7))\n",
    "sns.heatmap(confmatrix, annot=True, annot_kws={\"size\": 15}, cmap=\"GnBu_r\", fmt='g')\n",
    "plt.ylabel('True')\n",
    "plt.xlabel('Predicted')\n",
    "plt.title('Confusion Matrix of True vs Predicted Values')"
   ]
  },
  {
   "cell_type": "code",
   "execution_count": null,
   "metadata": {},
   "outputs": [],
   "source": []
  }
 ],
 "metadata": {
  "kernelspec": {
   "display_name": "Python",
   "language": "python",
   "name": "conda-env-python-py"
  },
  "language_info": {
   "codemirror_mode": {
    "name": "ipython",
    "version": 3
   },
   "file_extension": ".py",
   "mimetype": "text/x-python",
   "name": "python",
   "nbconvert_exporter": "python",
   "pygments_lexer": "ipython3",
   "version": "3.6.11"
  }
 },
 "nbformat": 4,
 "nbformat_minor": 4
}
